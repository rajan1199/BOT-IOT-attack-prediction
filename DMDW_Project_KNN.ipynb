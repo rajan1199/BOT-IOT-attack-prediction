{
  "nbformat": 4,
  "nbformat_minor": 0,
  "metadata": {
    "colab": {
      "name": "DMDW Project KNN.ipynb",
      "provenance": [],
      "collapsed_sections": []
    },
    "kernelspec": {
      "name": "python3",
      "display_name": "Python 3"
    },
    "language_info": {
      "name": "python"
    },
    "accelerator": "GPU"
  },
  "cells": [
    {
      "cell_type": "code",
      "metadata": {
        "id": "QtMFqolTJteu"
      },
      "source": [
        "!pip install -U -q PyDrive\n",
        "from pydrive.auth import GoogleAuth\n",
        "from pydrive.drive import GoogleDrive\n",
        "from google.colab import auth\n",
        "from oauth2client.client import GoogleCredentials\n",
        "auth.authenticate_user()\n",
        "gauth = GoogleAuth()\n",
        "gauth.credentials = GoogleCredentials.get_application_default()\n",
        "drive = GoogleDrive(gauth)\n",
        "linkTrain = 'https://drive.google.com/file/d/1uV8qsVnl1XLxLlfw2tnGF3rbIU3tntHI/view?usp=sharing'\n",
        "linkIdTrain = '1uV8qsVnl1XLxLlfw2tnGF3rbIU3tntHI'\n",
        "\n",
        "linkTest = 'https://drive.google.com/file/d/1QIJWtK99SblVQK88AHqHwAVBZJcT14yW/view?usp=sharing'\n",
        "LinkIdTest = '1QIJWtK99SblVQK88AHqHwAVBZJcT14yW'"
      ],
      "execution_count": null,
      "outputs": []
    },
    {
      "cell_type": "code",
      "metadata": {
        "id": "3VhQQVz1KK3T"
      },
      "source": [
        "import pandas as pd\n",
        "import numpy as np"
      ],
      "execution_count": null,
      "outputs": []
    },
    {
      "cell_type": "code",
      "metadata": {
        "id": "-CJZU9u9KO3x"
      },
      "source": [
        "downloaded = drive.CreateFile({'id':linkIdTrain}) \n",
        "downloaded.GetContentFile('Bot_IOT_Train.csv')  \n",
        "\n",
        "downloaded = drive.CreateFile({'id':LinkIdTest}) \n",
        "downloaded.GetContentFile('Bot_IOT_Test.csv')  \n",
        "\n",
        "#loading data\n",
        "df_GB_Train = pd.read_csv('Bot_IOT_Train.csv')\n",
        "df_GB_Test = pd.read_csv('Bot_IOT_Test.csv')"
      ],
      "execution_count": null,
      "outputs": []
    },
    {
      "cell_type": "code",
      "metadata": {
        "colab": {
          "base_uri": "https://localhost:8080/"
        },
        "id": "dRLd2vMPKRqG",
        "outputId": "bb341ab3-f870-4668-9f38-c762cbcbaada"
      },
      "source": [
        "#Data preprocessing\n",
        "#checking for NULL Values for training\n",
        "null_columns = df_GB_Train.columns[df_GB_Train.isnull().any()]\n",
        "df_GB_Train[null_columns].isnull().sum()\n",
        "\n",
        "#for testing\n",
        "\n",
        "null_columns = df_GB_Test.columns[df_GB_Test.isnull().any()]\n",
        "df_GB_Test[null_columns].isnull().sum()"
      ],
      "execution_count": null,
      "outputs": [
        {
          "output_type": "execute_result",
          "data": {
            "text/plain": [
              "Series([], dtype: float64)"
            ]
          },
          "metadata": {
            "tags": []
          },
          "execution_count": 4
        }
      ]
    },
    {
      "cell_type": "code",
      "metadata": {
        "id": "h5Jn2fQ5KUY2"
      },
      "source": [
        "#ignoring non important attributes from dataset\n",
        "#training\n",
        "df_GB_Train=df_GB_Train.drop(['pkSeqID', 'saddr', 'sport', 'daddr', 'dport', 'proto'], axis = 1)\n",
        "\n",
        "#for testing\n",
        "df_GB_Test=df_GB_Test.drop(['pkSeqID', 'saddr', 'sport', 'daddr', 'dport', 'proto'], axis = 1)"
      ],
      "execution_count": null,
      "outputs": []
    },
    {
      "cell_type": "code",
      "metadata": {
        "id": "L9wqciN9KWvg"
      },
      "source": [
        "# import machine learning algorithms\n",
        "from sklearn.ensemble import GradientBoostingClassifier\n",
        "from sklearn.metrics import accuracy_score, confusion_matrix, classification_report"
      ],
      "execution_count": null,
      "outputs": []
    },
    {
      "cell_type": "code",
      "metadata": {
        "id": "yqmocgX_KY75",
        "colab": {
          "base_uri": "https://localhost:8080/"
        },
        "outputId": "152a19e0-6126-4dcb-9078-16e945bebeea"
      },
      "source": [
        "#dependent and independent variables\n",
        "X_Train = df_GB_Train.iloc[:, 0:10]\n",
        "Y_Train = df_GB_Train.loc[:, 'attack']\n",
        "\n",
        "\n",
        "# from imblearn.over_sampling import SMOTE                        # Balance imbalance data\n",
        "# sm = SMOTE(random_state=2)\n",
        "# X_Train, Y_Train = sm.fit_sample(X_Train, Y_Train.ravel())\n",
        "print(sum(Y_Train==0))\n",
        "print(sum(Y_Train==1))\n",
        "\n",
        "X_Test = df_GB_Test.iloc[: , 0:10]\n",
        "Y_Test = df_GB_Test.loc[:,'attack']\n",
        "\n",
        "print(X_Train.shape)\n",
        "print(Y_Train.shape)\n",
        "print(X_Test.shape)\n",
        "print(Y_Test.shape)"
      ],
      "execution_count": null,
      "outputs": [
        {
          "output_type": "stream",
          "text": [
            "370\n",
            "2934447\n",
            "(2934817, 10)\n",
            "(2934817,)\n",
            "(733705, 10)\n",
            "(733705,)\n"
          ],
          "name": "stdout"
        }
      ]
    },
    {
      "cell_type": "code",
      "metadata": {
        "colab": {
          "base_uri": "https://localhost:8080/"
        },
        "id": "XX25WZX2Pg_n",
        "outputId": "ae015b2f-2e50-45f8-fb8d-58ae5c94ffdc"
      },
      "source": [
        "\n",
        "from sklearn.neighbors import KNeighborsClassifier\n",
        "clf_KNN = KNeighborsClassifier(n_neighbors = 5)\n",
        "clf_KNN.fit(X_Train, Y_Train)"
      ],
      "execution_count": null,
      "outputs": [
        {
          "output_type": "execute_result",
          "data": {
            "text/plain": [
              "KNeighborsClassifier(algorithm='auto', leaf_size=30, metric='minkowski',\n",
              "                     metric_params=None, n_jobs=None, n_neighbors=5, p=2,\n",
              "                     weights='uniform')"
            ]
          },
          "metadata": {
            "tags": []
          },
          "execution_count": 9
        }
      ]
    },
    {
      "cell_type": "code",
      "metadata": {
        "id": "ZQSVijTjKi2D",
        "colab": {
          "base_uri": "https://localhost:8080/"
        },
        "outputId": "c51d94da-2e82-41dd-d555-316a1e9d436b"
      },
      "source": [
        "#predicting\n",
        "y_pred = clf_KNN.predict(X_Test)\n",
        "y_pred"
      ],
      "execution_count": null,
      "outputs": [
        {
          "output_type": "execute_result",
          "data": {
            "text/plain": [
              "array([1, 1, 1, ..., 1, 1, 1])"
            ]
          },
          "metadata": {
            "tags": []
          },
          "execution_count": 10
        }
      ]
    },
    {
      "cell_type": "code",
      "metadata": {
        "colab": {
          "base_uri": "https://localhost:8080/"
        },
        "id": "OyQDOBCVKk2J",
        "outputId": "3661c6b0-2ece-485e-905d-624e86750cc5"
      },
      "source": [
        "#model evaluation\n",
        "accuracy = accuracy_score(Y_Test,y_pred)*100\n",
        "accuracy"
      ],
      "execution_count": null,
      "outputs": [
        {
          "output_type": "execute_result",
          "data": {
            "text/plain": [
              "99.99291268289026"
            ]
          },
          "metadata": {
            "tags": []
          },
          "execution_count": 11
        }
      ]
    },
    {
      "cell_type": "code",
      "metadata": {
        "colab": {
          "base_uri": "https://localhost:8080/"
        },
        "id": "2IPgRwiNKm9Z",
        "outputId": "9abcd512-e21e-4531-ea2f-dbcab6de8b76"
      },
      "source": [
        "#confusion matrix\n",
        "print(\"Confusion Matrix:\")\n",
        "print(confusion_matrix(Y_Test, y_pred))"
      ],
      "execution_count": null,
      "outputs": [
        {
          "output_type": "stream",
          "text": [
            "Confusion Matrix:\n",
            "[[    59     48]\n",
            " [     4 733594]]\n"
          ],
          "name": "stdout"
        }
      ]
    },
    {
      "cell_type": "code",
      "metadata": {
        "id": "-GkfRZF8KpJ9",
        "colab": {
          "base_uri": "https://localhost:8080/"
        },
        "outputId": "9afc79fe-d21d-45fe-8f00-4df534dff64e"
      },
      "source": [
        "print(\"Classification Report\")\n",
        "print(classification_report(Y_Test, y_pred))"
      ],
      "execution_count": null,
      "outputs": [
        {
          "output_type": "stream",
          "text": [
            "Classification Report\n",
            "              precision    recall  f1-score   support\n",
            "\n",
            "           0       0.94      0.55      0.69       107\n",
            "           1       1.00      1.00      1.00    733598\n",
            "\n",
            "    accuracy                           1.00    733705\n",
            "   macro avg       0.97      0.78      0.85    733705\n",
            "weighted avg       1.00      1.00      1.00    733705\n",
            "\n"
          ],
          "name": "stdout"
        }
      ]
    },
    {
      "cell_type": "code",
      "metadata": {
        "id": "66zw0bIoKtKk",
        "colab": {
          "base_uri": "https://localhost:8080/"
        },
        "outputId": "2c3e19fc-789f-4671-917b-2ec21abdba25"
      },
      "source": [
        "####################predicting category attribute\n",
        "#encoding category and subcategory\n",
        "from sklearn import preprocessing\n",
        "lableEnc = preprocessing.LabelEncoder()\n",
        "\n",
        "print(df_GB_Test['category'].unique())\n",
        "print(df_GB_Train['category'].unique())"
      ],
      "execution_count": null,
      "outputs": [
        {
          "output_type": "stream",
          "text": [
            "['DoS' 'DDoS' 'Reconnaissance' 'Normal' 'Theft']\n",
            "['DDoS' 'DoS' 'Reconnaissance' 'Normal' 'Theft']\n"
          ],
          "name": "stdout"
        }
      ]
    },
    {
      "cell_type": "code",
      "metadata": {
        "id": "aC7gyEpfKvT9"
      },
      "source": [
        "#encoding \n",
        "from sklearn.preprocessing import LabelEncoder\n",
        "le = LabelEncoder()\n",
        "le1 = LabelEncoder()\n",
        "df_GB_Train['category']=le.fit_transform(df_GB_Train['category'])\n",
        "df_GB_Train['subcategory']=le1.fit_transform(df_GB_Train['subcategory'])\n",
        "\n",
        "df_GB_Test['category']=le.transform(df_GB_Test['category'])\n",
        "df_GB_Test['subcategory']=le1.transform(df_GB_Test['subcategory'])"
      ],
      "execution_count": null,
      "outputs": []
    },
    {
      "cell_type": "code",
      "metadata": {
        "id": "8RDwMYMTKxdZ",
        "colab": {
          "base_uri": "https://localhost:8080/"
        },
        "outputId": "e87fde99-0501-4da0-ea76-0375816e09ac"
      },
      "source": [
        "print(df_GB_Test['category'].unique())\n",
        "print(df_GB_Train['category'].unique())"
      ],
      "execution_count": null,
      "outputs": [
        {
          "output_type": "stream",
          "text": [
            "[1 0 3 2 4]\n",
            "[0 1 3 2 4]\n"
          ],
          "name": "stdout"
        }
      ]
    },
    {
      "cell_type": "code",
      "metadata": {
        "id": "rmRNVZjXKzyB",
        "colab": {
          "base_uri": "https://localhost:8080/"
        },
        "outputId": "cd62aff3-eb95-4db2-c31a-2c649833bc6d"
      },
      "source": [
        "#dependent and independent variables\n",
        "X_cat_train = df_GB_Train.iloc[:, 0:11]\n",
        "Y_cat_train = df_GB_Train.loc[:, 'category']\n",
        "\n",
        "X_cat_test =df_GB_Test.iloc[:, 0:10]\n",
        "X_cat_test['attack']= y_pred\n",
        "Y_cat_test=df_GB_Test.loc[:, 'category']\n",
        "\n",
        "print(X_cat_train)\n",
        "print(Y_cat_train)"
      ],
      "execution_count": null,
      "outputs": [
        {
          "output_type": "stream",
          "text": [
            "            seq    stddev  N_IN_Conn_P_SrcIP  ...     srate       max  attack\n",
            "0        251984  1.900363                100  ...  0.494549  4.031619       1\n",
            "1        256724  0.078003                 38  ...  0.256493  4.012924       1\n",
            "2         62921  0.268666                100  ...  0.294880  3.609205       1\n",
            "3         99168  1.823185                 63  ...  0.461435  4.942302       1\n",
            "4        105063  0.822418                100  ...  1.002999  4.994452       1\n",
            "...         ...       ...                ...  ...       ...       ...     ...\n",
            "2934812  253370  0.016992                100  ...  0.243473  4.124047       1\n",
            "2934813  231693  1.922317                100  ...  0.490800  4.090534       1\n",
            "2934814  158616  2.112228                100  ...  0.207444  4.332615       1\n",
            "2934815  179855  0.000000                100  ...  0.162130  0.000000       1\n",
            "2934816   95429  0.053820                100  ...  0.116388  0.172408       1\n",
            "\n",
            "[2934817 rows x 11 columns]\n",
            "0          0\n",
            "1          0\n",
            "2          0\n",
            "3          1\n",
            "4          0\n",
            "          ..\n",
            "2934812    1\n",
            "2934813    0\n",
            "2934814    1\n",
            "2934815    1\n",
            "2934816    1\n",
            "Name: category, Length: 2934817, dtype: int64\n"
          ],
          "name": "stdout"
        }
      ]
    },
    {
      "cell_type": "code",
      "metadata": {
        "id": "M1bMiXbsK2Og",
        "colab": {
          "base_uri": "https://localhost:8080/"
        },
        "outputId": "f16b9978-7a40-4759-dba6-c4e8e4a7e450"
      },
      "source": [
        "#classifier\n",
        "model_gb_cat = KNeighborsClassifier(n_neighbors = 5)\n",
        "model_gb_cat.fit(X_cat_train, Y_cat_train) "
      ],
      "execution_count": null,
      "outputs": [
        {
          "output_type": "execute_result",
          "data": {
            "text/plain": [
              "KNeighborsClassifier(algorithm='auto', leaf_size=30, metric='minkowski',\n",
              "                     metric_params=None, n_jobs=None, n_neighbors=5, p=2,\n",
              "                     weights='uniform')"
            ]
          },
          "metadata": {
            "tags": []
          },
          "execution_count": 18
        }
      ]
    },
    {
      "cell_type": "code",
      "metadata": {
        "id": "v8XHdfmjK5R_",
        "colab": {
          "base_uri": "https://localhost:8080/"
        },
        "outputId": "1b2a484d-0c0c-4cc5-ad83-a3f48a0810cf"
      },
      "source": [
        "#calcuating accuracy of the model on test set\n",
        "pred_cat = model_gb_cat.predict(X_cat_test)\n",
        "\n",
        "#calculate accuracy\n",
        "print(\"Accuracy Score: \")\n",
        "print (accuracy_score(Y_cat_test, pred_cat)*100)\n",
        "\n",
        "#confusion matrix\n",
        "print(\"Confusion Matrix:\")\n",
        "print(confusion_matrix(Y_cat_test, pred_cat))\n",
        "\n",
        "#classification report\n",
        "print(\"Classification Report\")\n",
        "print(classification_report(Y_cat_test, pred_cat))"
      ],
      "execution_count": null,
      "outputs": [
        {
          "output_type": "stream",
          "text": [
            "Accuracy Score: \n",
            "89.45298178423208\n",
            "Confusion Matrix:\n",
            "[[348421  35724      0   1164      0]\n",
            " [ 37202 291762      1   1147      0]\n",
            " [     2     36     60      9      0]\n",
            " [   878   1217      3  16065      0]\n",
            " [     0      1      0      0     13]]\n",
            "Classification Report\n",
            "              precision    recall  f1-score   support\n",
            "\n",
            "           0       0.90      0.90      0.90    385309\n",
            "           1       0.89      0.88      0.89    330112\n",
            "           2       0.94      0.56      0.70       107\n",
            "           3       0.87      0.88      0.88     18163\n",
            "           4       1.00      0.93      0.96        14\n",
            "\n",
            "    accuracy                           0.89    733705\n",
            "   macro avg       0.92      0.83      0.87    733705\n",
            "weighted avg       0.89      0.89      0.89    733705\n",
            "\n"
          ],
          "name": "stdout"
        }
      ]
    },
    {
      "cell_type": "code",
      "metadata": {
        "id": "RSlzp_oxK7-c"
      },
      "source": [
        "####################Predicting subcategory of attack\n",
        "#dependent and independent variables\n",
        "X_subcat_train = df_GB_Train.iloc[:, 0:12]\n",
        "Y_subcat_train = df_GB_Train.loc[:, 'subcategory']\n",
        "\n",
        "X_subcat_test =df_GB_Test.iloc[:, 0:10]\n",
        "\n",
        "X_subcat_test['attack']= y_pred\n",
        "X_subcat_test['category']= pred_cat\n",
        "Y_subcat_test=df_GB_Test.loc[:, 'subcategory']"
      ],
      "execution_count": null,
      "outputs": []
    },
    {
      "cell_type": "code",
      "metadata": {
        "id": "kABPxpo_K-Bt",
        "colab": {
          "base_uri": "https://localhost:8080/"
        },
        "outputId": "afb54999-15c7-4e18-9542-354221502592"
      },
      "source": [
        "#classifying\n",
        "model_gb_subcat = KNeighborsClassifier(n_neighbors=100)\n",
        "model_gb_subcat.fit(X_subcat_train, Y_subcat_train) "
      ],
      "execution_count": null,
      "outputs": [
        {
          "output_type": "execute_result",
          "data": {
            "text/plain": [
              "KNeighborsClassifier(algorithm='auto', leaf_size=30, metric='minkowski',\n",
              "                     metric_params=None, n_jobs=None, n_neighbors=100, p=2,\n",
              "                     weights='uniform')"
            ]
          },
          "metadata": {
            "tags": []
          },
          "execution_count": 21
        }
      ]
    },
    {
      "cell_type": "code",
      "metadata": {
        "id": "u5a6PS-qLAm3",
        "colab": {
          "base_uri": "https://localhost:8080/"
        },
        "outputId": "8715a4bd-42a5-4d12-97d1-739b822b97cd"
      },
      "source": [
        "#calcuating accuracy of the model on test set\n",
        "pred_subcat = model_gb_subcat.predict(X_subcat_test)\n",
        "\n",
        "#calculate accuracy\n",
        "print(\"Accuracy Score: \")\n",
        "print (accuracy_score(Y_subcat_test, pred_subcat)*100)\n",
        "\n",
        "#confusion matrix\n",
        "print(\"Confusion Matrix:\")\n",
        "print(confusion_matrix(Y_subcat_test, pred_subcat))"
      ],
      "execution_count": null,
      "outputs": [
        {
          "output_type": "stream",
          "text": [
            "Accuracy Score: \n",
            "71.92863616848733\n",
            "Confusion Matrix:\n",
            "[[   157      0      1      0     83    133    130]\n",
            " [     0      5      0      0      0      9      0]\n",
            " [     0      0     23      3     49     15     17]\n",
            " [     0      0      0    514     63   2090    954]\n",
            " [    66      0      7     51   5047   5520   3851]\n",
            " [    44      0      4    172    968 181653 135496]\n",
            " [    33      0      3     85    773  55341 340345]]\n"
          ],
          "name": "stdout"
        }
      ]
    },
    {
      "cell_type": "code",
      "metadata": {
        "id": "rnihBn6KLDEb",
        "colab": {
          "base_uri": "https://localhost:8080/"
        },
        "outputId": "3bd4a21f-c3fe-495a-87a6-d522b5364c61"
      },
      "source": [
        "#df['attack', 'category', 'subcategory']\n",
        "a=df_GB_Test['attack']\n",
        "b=df_GB_Test['category']\n",
        "c=df_GB_Test['subcategory']\n",
        "count=0\n",
        "for i in range(0,len(df_GB_Test)):\n",
        "  if(y_pred[i]==a[i]) and (pred_cat[i]==b[i]):\n",
        "    count=count+1\n",
        "count\n",
        "count/len(df_GB_Test)*100"
      ],
      "execution_count": null,
      "outputs": [
        {
          "output_type": "execute_result",
          "data": {
            "text/plain": [
              "89.45284548967228"
            ]
          },
          "metadata": {
            "tags": []
          },
          "execution_count": 23
        }
      ]
    },
    {
      "cell_type": "code",
      "metadata": {
        "id": "pE8H55dD-Z7b",
        "colab": {
          "base_uri": "https://localhost:8080/"
        },
        "outputId": "ac5c81cf-4aa1-46eb-f6d8-01117f73060b"
      },
      "source": [
        "#df['attack', 'category', 'subcategory']\n",
        "a=df_GB_Test['attack']\n",
        "b=df_GB_Test['category']\n",
        "c=df_GB_Test['subcategory']\n",
        "count=0\n",
        "for i in range(0,len(df_GB_Test)):\n",
        "  if((y_pred[i]==a[i]) and (pred_cat[i]==b[i]) and (pred_cat[i]==c[i])):\n",
        "    count=count+1\n",
        "count\n",
        "count/len(df_GB_Test)*100"
      ],
      "execution_count": null,
      "outputs": [
        {
          "output_type": "execute_result",
          "data": {
            "text/plain": [
              "0.038162476744740735"
            ]
          },
          "metadata": {
            "tags": []
          },
          "execution_count": 25
        }
      ]
    },
    {
      "cell_type": "code",
      "metadata": {
        "id": "rjhhiB6dV7wT"
      },
      "source": [
        ""
      ],
      "execution_count": null,
      "outputs": []
    }
  ]
}
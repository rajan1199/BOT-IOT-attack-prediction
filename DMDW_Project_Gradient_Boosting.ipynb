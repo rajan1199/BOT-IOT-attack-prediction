{
  "nbformat": 4,
  "nbformat_minor": 0,
  "metadata": {
    "colab": {
      "name": "DMDW Project Gradient Boosting.ipynb",
      "provenance": [],
      "collapsed_sections": []
    },
    "kernelspec": {
      "name": "python3",
      "display_name": "Python 3"
    },
    "language_info": {
      "name": "python"
    }
  },
  "cells": [
    {
      "cell_type": "code",
      "metadata": {
        "id": "cPkZ6XzVOZGd"
      },
      "source": [
        "!pip install -U -q PyDrive\n",
        "from pydrive.auth import GoogleAuth\n",
        "from pydrive.drive import GoogleDrive\n",
        "from google.colab import auth\n",
        "from oauth2client.client import GoogleCredentials\n",
        "auth.authenticate_user()\n",
        "gauth = GoogleAuth()\n",
        "gauth.credentials = GoogleCredentials.get_application_default()\n",
        "drive = GoogleDrive(gauth)\n",
        "linkTrain = 'https://drive.google.com/file/d/1uV8qsVnl1XLxLlfw2tnGF3rbIU3tntHI/view?usp=sharing'\n",
        "linkIdTrain = '1uV8qsVnl1XLxLlfw2tnGF3rbIU3tntHI'\n",
        "\n",
        "linkTest = 'https://drive.google.com/file/d/1QIJWtK99SblVQK88AHqHwAVBZJcT14yW/view?usp=sharing'\n",
        "LinkIdTest = '1QIJWtK99SblVQK88AHqHwAVBZJcT14yW'"
      ],
      "execution_count": null,
      "outputs": []
    },
    {
      "cell_type": "code",
      "metadata": {
        "id": "FN658Z77OzV3"
      },
      "source": [
        "import pandas as pd\n",
        "import numpy as np"
      ],
      "execution_count": null,
      "outputs": []
    },
    {
      "cell_type": "code",
      "metadata": {
        "id": "XX85FqhwO2Wp"
      },
      "source": [
        "downloaded = drive.CreateFile({'id':linkIdTrain}) \n",
        "downloaded.GetContentFile('Bot_IOT_Train.csv')  \n",
        "\n",
        "downloaded = drive.CreateFile({'id':LinkIdTest}) \n",
        "downloaded.GetContentFile('Bot_IOT_Test.csv')  \n",
        "\n",
        "#loading data\n",
        "df_GB_Train = pd.read_csv('Bot_IOT_Train.csv')\n",
        "df_GB_Test = pd.read_csv('Bot_IOT_Test.csv')"
      ],
      "execution_count": null,
      "outputs": []
    },
    {
      "cell_type": "code",
      "metadata": {
        "colab": {
          "base_uri": "https://localhost:8080/"
        },
        "id": "Wkz1upCDO4RW",
        "outputId": "98dd27e1-2bd8-4a0a-d511-90fc315aa538"
      },
      "source": [
        "#Data preprocessing\n",
        "#checking for NULL Values for training\n",
        "null_columns = df_GB_Train.columns[df_GB_Train.isnull().any()]\n",
        "df_GB_Train[null_columns].isnull().sum()\n",
        "\n",
        "#for testing\n",
        "null_columns = df_GB_Test.columns[df_GB_Test.isnull().any()]\n",
        "df_GB_Test[null_columns].isnull().sum()"
      ],
      "execution_count": null,
      "outputs": [
        {
          "output_type": "execute_result",
          "data": {
            "text/plain": [
              "Series([], dtype: float64)"
            ]
          },
          "metadata": {
            "tags": []
          },
          "execution_count": 4
        }
      ]
    },
    {
      "cell_type": "code",
      "metadata": {
        "id": "JfmZm9gJPONR"
      },
      "source": [
        "#ignoring non important attributes from dataset\n",
        "#training\n",
        "df_GB_Train=df_GB_Train.drop(['pkSeqID', 'saddr', 'sport', 'daddr', 'dport', 'proto'], axis = 1)\n",
        "\n",
        "#for testing\n",
        "df_GB_Test=df_GB_Test.drop(['pkSeqID', 'saddr', 'sport', 'daddr', 'dport', 'proto'], axis = 1)"
      ],
      "execution_count": null,
      "outputs": []
    },
    {
      "cell_type": "code",
      "metadata": {
        "id": "vrg6HNQVPchY"
      },
      "source": [
        "# import machine learning algorithms\n",
        "from sklearn.ensemble import GradientBoostingClassifier\n",
        "from sklearn.metrics import accuracy_score, confusion_matrix, classification_report"
      ],
      "execution_count": null,
      "outputs": []
    },
    {
      "cell_type": "code",
      "metadata": {
        "colab": {
          "base_uri": "https://localhost:8080/"
        },
        "id": "rl8m6tmIPgQK",
        "outputId": "8b42909c-069c-4fbd-930e-de998ebbc6ad"
      },
      "source": [
        "#dependent and independent variables\n",
        "X_Train = df_GB_Train.iloc[:, 0:10]\n",
        "Y_Train = df_GB_Train.loc[:, 'attack']\n",
        "\n",
        "\n",
        "X_Test = df_GB_Test.iloc[: , 0:10]\n",
        "Y_Test = df_GB_Test.loc[:,'attack']\n",
        "\n",
        "print(X_Train.shape)\n",
        "print(Y_Train.shape)\n",
        "print(X_Test.shape)\n",
        "print(Y_Test.shape)"
      ],
      "execution_count": null,
      "outputs": [
        {
          "output_type": "stream",
          "text": [
            "(2934817, 10)\n",
            "(2934817,)\n",
            "(733705, 10)\n",
            "(733705,)\n"
          ],
          "name": "stdout"
        }
      ]
    },
    {
      "cell_type": "code",
      "metadata": {
        "colab": {
          "base_uri": "https://localhost:8080/"
        },
        "id": "0CtfVwYRQool",
        "outputId": "17cfd20c-390f-4d6f-967a-08224e8d9ef9"
      },
      "source": [
        "rate = [0.25,0.5,0.75]\n",
        "for i in rate:\n",
        "  model_gb = GradientBoostingClassifier(n_estimators=100, learning_rate = i, random_state = 0)\n",
        "  model_gb.fit(X_Train, Y_Train)\n",
        "  y_pred = model_gb.predict(X_Test)\n",
        "  accuracy = accuracy_score(Y_Test,y_pred)*100\n",
        "  print(\"accuracy : \" , accuracy)\n"
      ],
      "execution_count": null,
      "outputs": [
        {
          "output_type": "stream",
          "text": [
            "accuracy :  99.88414962416775\n",
            "accuracy :  99.98173652898645\n",
            "accuracy :  99.99114085361282\n"
          ],
          "name": "stdout"
        }
      ]
    },
    {
      "cell_type": "code",
      "metadata": {
        "id": "GFYKt38APz9c"
      },
      "source": [
        "# Classifier\n",
        "model_gb = GradientBoostingClassifier(n_estimators=100, learning_rate = 0.75, random_state = 0)"
      ],
      "execution_count": null,
      "outputs": []
    },
    {
      "cell_type": "code",
      "metadata": {
        "colab": {
          "base_uri": "https://localhost:8080/"
        },
        "id": "yhvirH0oP-mf",
        "outputId": "fb65717f-1e8a-4235-ccee-7c18bed27106"
      },
      "source": [
        "model_gb.fit(X_Train, Y_Train)"
      ],
      "execution_count": null,
      "outputs": [
        {
          "output_type": "execute_result",
          "data": {
            "text/plain": [
              "GradientBoostingClassifier(ccp_alpha=0.0, criterion='friedman_mse', init=None,\n",
              "                           learning_rate=0.75, loss='deviance', max_depth=3,\n",
              "                           max_features=None, max_leaf_nodes=None,\n",
              "                           min_impurity_decrease=0.0, min_impurity_split=None,\n",
              "                           min_samples_leaf=1, min_samples_split=2,\n",
              "                           min_weight_fraction_leaf=0.0, n_estimators=100,\n",
              "                           n_iter_no_change=None, presort='deprecated',\n",
              "                           random_state=0, subsample=1.0, tol=0.0001,\n",
              "                           validation_fraction=0.1, verbose=0,\n",
              "                           warm_start=False)"
            ]
          },
          "metadata": {
            "tags": []
          },
          "execution_count": 9
        }
      ]
    },
    {
      "cell_type": "code",
      "metadata": {
        "colab": {
          "base_uri": "https://localhost:8080/"
        },
        "id": "HgLXmPJ2QBHm",
        "outputId": "9f1fd7e9-805a-4a8c-b6ac-b56a1692544d"
      },
      "source": [
        "#predicting\n",
        "y_pred = model_gb.predict(X_Test)\n",
        "y_pred"
      ],
      "execution_count": null,
      "outputs": [
        {
          "output_type": "execute_result",
          "data": {
            "text/plain": [
              "array([1, 1, 1, ..., 1, 1, 1])"
            ]
          },
          "metadata": {
            "tags": []
          },
          "execution_count": 10
        }
      ]
    },
    {
      "cell_type": "code",
      "metadata": {
        "colab": {
          "base_uri": "https://localhost:8080/"
        },
        "id": "GNnR9pgAQEvm",
        "outputId": "b202597d-7335-4685-80e9-9a22ccaefb39"
      },
      "source": [
        "#model evaluation\n",
        "accuracy = accuracy_score(Y_Test,y_pred)*100\n",
        "accuracy"
      ],
      "execution_count": null,
      "outputs": [
        {
          "output_type": "execute_result",
          "data": {
            "text/plain": [
              "99.98391724194329"
            ]
          },
          "metadata": {
            "tags": []
          },
          "execution_count": 11
        }
      ]
    },
    {
      "cell_type": "code",
      "metadata": {
        "colab": {
          "base_uri": "https://localhost:8080/"
        },
        "id": "p21m6x5_Qwcm",
        "outputId": "5cfd1910-5728-4167-8dc2-43f1a0fd27ff"
      },
      "source": [
        "#confusion matrix\n",
        "print(\"Confusion Matrix:\")\n",
        "print(confusion_matrix(Y_Test, y_pred))"
      ],
      "execution_count": null,
      "outputs": [
        {
          "output_type": "stream",
          "text": [
            "Confusion Matrix:\n",
            "[[    53     54]\n",
            " [    64 733534]]\n"
          ],
          "name": "stdout"
        }
      ]
    },
    {
      "cell_type": "code",
      "metadata": {
        "colab": {
          "base_uri": "https://localhost:8080/"
        },
        "id": "tq8r_gCYRQwT",
        "outputId": "daa45a2a-9e19-4aef-9d76-6f55b133fc66"
      },
      "source": [
        "print(\"Classification Report\")\n",
        "print(classification_report(Y_Test, y_pred))\n"
      ],
      "execution_count": null,
      "outputs": [
        {
          "output_type": "stream",
          "text": [
            "Classification Report\n",
            "              precision    recall  f1-score   support\n",
            "\n",
            "           0       0.45      0.50      0.47       107\n",
            "           1       1.00      1.00      1.00    733598\n",
            "\n",
            "    accuracy                           1.00    733705\n",
            "   macro avg       0.73      0.75      0.74    733705\n",
            "weighted avg       1.00      1.00      1.00    733705\n",
            "\n"
          ],
          "name": "stdout"
        }
      ]
    },
    {
      "cell_type": "code",
      "metadata": {
        "colab": {
          "base_uri": "https://localhost:8080/"
        },
        "id": "HZHGxLlNPHYA",
        "outputId": "c0989d6c-b6de-427b-a85b-27416e43a8d2"
      },
      "source": [
        "####################predicting category attribute\n",
        "#encoding category and subcategory\n",
        "from sklearn import preprocessing\n",
        "lableEnc = preprocessing.LabelEncoder()\n",
        "\n",
        "print(df_GB_Test['category'].unique())\n",
        "print(df_GB_Train['category'].unique())"
      ],
      "execution_count": null,
      "outputs": [
        {
          "output_type": "stream",
          "text": [
            "['DoS' 'DDoS' 'Reconnaissance' 'Normal' 'Theft']\n",
            "['DDoS' 'DoS' 'Reconnaissance' 'Normal' 'Theft']\n"
          ],
          "name": "stdout"
        }
      ]
    },
    {
      "cell_type": "code",
      "metadata": {
        "id": "nrNPtg-mfZrv"
      },
      "source": [
        "#encoding \n",
        "from sklearn.preprocessing import LabelEncoder\n",
        "le = LabelEncoder()\n",
        "le1 = LabelEncoder()\n",
        "df_GB_Train['category']=le.fit_transform(df_GB_Train['category'])\n",
        "df_GB_Train['subcategory']=le1.fit_transform(df_GB_Train['subcategory'])\n",
        "\n",
        "df_GB_Test['category']=le.transform(df_GB_Test['category'])\n",
        "df_GB_Test['subcategory']=le1.transform(df_GB_Test['subcategory'])\n"
      ],
      "execution_count": null,
      "outputs": []
    },
    {
      "cell_type": "code",
      "metadata": {
        "colab": {
          "base_uri": "https://localhost:8080/"
        },
        "id": "ytepxiRxj-1I",
        "outputId": "85ae7552-8a6e-49f6-dd05-00a87ec7215e"
      },
      "source": [
        "print(df_GB_Test['category'].unique())\n",
        "print(df_GB_Train['category'].unique())"
      ],
      "execution_count": null,
      "outputs": [
        {
          "output_type": "stream",
          "text": [
            "[1 0 3 2 4]\n",
            "[0 1 3 2 4]\n"
          ],
          "name": "stdout"
        }
      ]
    },
    {
      "cell_type": "code",
      "metadata": {
        "colab": {
          "base_uri": "https://localhost:8080/"
        },
        "id": "Opde3XsrkDPM",
        "outputId": "3a85e46c-43a7-4d9e-b5da-dd8fcca53ca0"
      },
      "source": [
        "#dependent and independent variables\n",
        "X_cat_train = df_GB_Train.iloc[:, 0:11]\n",
        "Y_cat_train = df_GB_Train.loc[:, 'category']\n",
        "\n",
        "X_cat_test =df_GB_Test.iloc[:, 0:10]\n",
        "X_cat_test['attack']= y_pred\n",
        "Y_cat_test=df_GB_Test.loc[:, 'category']\n",
        "\n",
        "print(X_cat_train)\n",
        "print(Y_cat_train)"
      ],
      "execution_count": null,
      "outputs": [
        {
          "output_type": "stream",
          "text": [
            "            seq    stddev  N_IN_Conn_P_SrcIP  ...     srate       max  attack\n",
            "0        251984  1.900363                100  ...  0.494549  4.031619       1\n",
            "1        256724  0.078003                 38  ...  0.256493  4.012924       1\n",
            "2         62921  0.268666                100  ...  0.294880  3.609205       1\n",
            "3         99168  1.823185                 63  ...  0.461435  4.942302       1\n",
            "4        105063  0.822418                100  ...  1.002999  4.994452       1\n",
            "...         ...       ...                ...  ...       ...       ...     ...\n",
            "2934812  253370  0.016992                100  ...  0.243473  4.124047       1\n",
            "2934813  231693  1.922317                100  ...  0.490800  4.090534       1\n",
            "2934814  158616  2.112228                100  ...  0.207444  4.332615       1\n",
            "2934815  179855  0.000000                100  ...  0.162130  0.000000       1\n",
            "2934816   95429  0.053820                100  ...  0.116388  0.172408       1\n",
            "\n",
            "[2934817 rows x 11 columns]\n",
            "0          0\n",
            "1          0\n",
            "2          0\n",
            "3          1\n",
            "4          0\n",
            "          ..\n",
            "2934812    1\n",
            "2934813    0\n",
            "2934814    1\n",
            "2934815    1\n",
            "2934816    1\n",
            "Name: category, Length: 2934817, dtype: int64\n"
          ],
          "name": "stdout"
        }
      ]
    },
    {
      "cell_type": "code",
      "metadata": {
        "colab": {
          "base_uri": "https://localhost:8080/"
        },
        "id": "cX-ehHo0kcnf",
        "outputId": "3ab28cc3-9bce-4cef-89cb-de5c944939d4"
      },
      "source": [
        "#classifier\n",
        "model_gb_cat = GradientBoostingClassifier(n_estimators=100, learning_rate = 0.75, random_state = 0)\n",
        "model_gb_cat.fit(X_cat_train, Y_cat_train) "
      ],
      "execution_count": null,
      "outputs": [
        {
          "output_type": "execute_result",
          "data": {
            "text/plain": [
              "GradientBoostingClassifier(ccp_alpha=0.0, criterion='friedman_mse', init=None,\n",
              "                           learning_rate=0.5, loss='deviance', max_depth=3,\n",
              "                           max_features=None, max_leaf_nodes=None,\n",
              "                           min_impurity_decrease=0.0, min_impurity_split=None,\n",
              "                           min_samples_leaf=1, min_samples_split=2,\n",
              "                           min_weight_fraction_leaf=0.0, n_estimators=20,\n",
              "                           n_iter_no_change=None, presort='deprecated',\n",
              "                           random_state=0, subsample=1.0, tol=0.0001,\n",
              "                           validation_fraction=0.1, verbose=0,\n",
              "                           warm_start=False)"
            ]
          },
          "metadata": {
            "tags": []
          },
          "execution_count": 20
        }
      ]
    },
    {
      "cell_type": "code",
      "metadata": {
        "colab": {
          "base_uri": "https://localhost:8080/"
        },
        "id": "XzcAzChskrlE",
        "outputId": "64ccdd68-fd4c-43ba-806b-fb9c163f9924"
      },
      "source": [
        "#calcuating accuracy of the model on test set\n",
        "pred_cat = model_gb_cat.predict(X_cat_test)\n",
        "\n",
        "#calculate accuracy\n",
        "print(\"Accuracy Score: \")\n",
        "print (accuracy_score(Y_cat_test, pred_cat)*100)\n",
        "\n",
        "#confusion matrix\n",
        "print(\"Confusion Matrix:\")\n",
        "print(confusion_matrix(Y_cat_test, pred_cat))\n",
        "\n",
        "#classification report\n",
        "print(\"Classification Report\")\n",
        "print(classification_report(Y_cat_test, pred_cat))"
      ],
      "execution_count": null,
      "outputs": [
        {
          "output_type": "stream",
          "text": [
            "Accuracy Score: \n",
            "99.13412066157379\n",
            "Confusion Matrix:\n",
            "[[380623   4636     15     24     11]\n",
            " [  1441 328624     19     12     16]\n",
            " [     0     11     53     43      0]\n",
            " [    54     34     28  18038      9]\n",
            " [     0      0      0      0     14]]\n",
            "Classification Report\n",
            "              precision    recall  f1-score   support\n",
            "\n",
            "           0       1.00      0.99      0.99    385309\n",
            "           1       0.99      1.00      0.99    330112\n",
            "           2       0.46      0.50      0.48       107\n",
            "           3       1.00      0.99      0.99     18163\n",
            "           4       0.28      1.00      0.44        14\n",
            "\n",
            "    accuracy                           0.99    733705\n",
            "   macro avg       0.74      0.89      0.78    733705\n",
            "weighted avg       0.99      0.99      0.99    733705\n",
            "\n"
          ],
          "name": "stdout"
        }
      ]
    },
    {
      "cell_type": "code",
      "metadata": {
        "id": "dhkSghrOlGOm"
      },
      "source": [
        "####################Predicting subcategory of attack\n",
        "#dependent and independent variables\n",
        "X_subcat_train = df_GB_Train.iloc[:, 0:12]\n",
        "Y_subcat_train = df_GB_Train.loc[:, 'subcategory']\n",
        "\n",
        "X_subcat_test =df_GB_Test.iloc[:, 0:10]\n",
        "\n",
        "X_subcat_test['attack']= y_pred\n",
        "X_subcat_test['category']= pred_cat\n",
        "Y_subcat_test=df_GB_Test.loc[:, 'subcategory']"
      ],
      "execution_count": null,
      "outputs": []
    },
    {
      "cell_type": "code",
      "metadata": {
        "colab": {
          "base_uri": "https://localhost:8080/"
        },
        "id": "ir3ugglEmoIp",
        "outputId": "51de903a-63ac-4957-f23f-02898ff5ea07"
      },
      "source": [
        "#classifying\n",
        "model_gb_subcat = kNeiClassifier(n_estimators=10, learning_rate = 0.5, random_state = 0)\n",
        "model_gb_subcat.fit(X_subcat_train, Y_subcat_train) "
      ],
      "execution_count": null,
      "outputs": [
        {
          "output_type": "execute_result",
          "data": {
            "text/plain": [
              "GradientBoostingClassifier(ccp_alpha=0.0, criterion='friedman_mse', init=None,\n",
              "                           learning_rate=0.5, loss='deviance', max_depth=3,\n",
              "                           max_features=None, max_leaf_nodes=None,\n",
              "                           min_impurity_decrease=0.0, min_impurity_split=None,\n",
              "                           min_samples_leaf=1, min_samples_split=2,\n",
              "                           min_weight_fraction_leaf=0.0, n_estimators=10,\n",
              "                           n_iter_no_change=None, presort='deprecated',\n",
              "                           random_state=0, subsample=1.0, tol=0.0001,\n",
              "                           validation_fraction=0.1, verbose=0,\n",
              "                           warm_start=False)"
            ]
          },
          "metadata": {
            "tags": []
          },
          "execution_count": 23
        }
      ]
    },
    {
      "cell_type": "code",
      "metadata": {
        "colab": {
          "base_uri": "https://localhost:8080/"
        },
        "id": "B16jF-zFmzPg",
        "outputId": "5dd702b3-d704-44fc-fdb7-cce599654a69"
      },
      "source": [
        "#calcuating accuracy of the model on test set\n",
        "pred_subcat = model_gb_subcat.predict(X_subcat_test)\n",
        "\n",
        "#calculate accuracy\n",
        "print(\"Accuracy Score: \")\n",
        "print (accuracy_score(Y_subcat_test, pred_subcat)*100)\n",
        "\n",
        "#confusion matrix\n",
        "print(\"Confusion Matrix:\")\n",
        "print(confusion_matrix(Y_subcat_test, pred_subcat))\n",
        "\n"
      ],
      "execution_count": null,
      "outputs": [
        {
          "output_type": "stream",
          "text": [
            "Accuracy Score: \n",
            "97.92450644332531\n",
            "Confusion Matrix:\n",
            "[[     0      0      0     16    378    110      0]\n",
            " [     0      0      0     14      0      0      0]\n",
            " [     0      0     45      5     38      8     11]\n",
            " [     1      0      6   3529     49     23     13]\n",
            " [     1      0     19  11615   2768    131      8]\n",
            " [     0      0      3     19    413 317902      0]\n",
            " [   310      0     20      3      8   2006 394233]]\n"
          ],
          "name": "stdout"
        }
      ]
    },
    {
      "cell_type": "code",
      "metadata": {
        "colab": {
          "base_uri": "https://localhost:8080/"
        },
        "id": "ZVmOYca2no4d",
        "outputId": "cc2b4b82-7a61-43c5-ee2c-6819155d8a86"
      },
      "source": [
        "#df['attack', 'category', 'subcategory']\n",
        "a=df_GB_Test['attack']\n",
        "b=df_GB_Test['category']\n",
        "c=df_GB_Test['subcategory']\n",
        "count=0\n",
        "for i in range(0,len(df_GB_Test)):\n",
        "  if(y_pred[i]==a[i]) and (pred_cat[i]==b[i]) and (pred_subcat[i]==c[i]):\n",
        "    count=count+1\n",
        "count\n",
        "count/len(df_GB_Test)*100"
      ],
      "execution_count": null,
      "outputs": [
        {
          "output_type": "execute_result",
          "data": {
            "text/plain": [
              "97.12268554800634"
            ]
          },
          "metadata": {
            "tags": []
          },
          "execution_count": 26
        }
      ]
    },
    {
      "cell_type": "code",
      "metadata": {
        "id": "k6zCF1BGEMWT",
        "colab": {
          "base_uri": "https://localhost:8080/",
          "height": 392
        },
        "outputId": "b2f76be0-9c44-431b-e2ee-d60db8049f17"
      },
      "source": [
        "from matplotlib import pyplot as plt\n",
        "\n",
        "accuracy = [96.96 , 97.200, 70.45, 89.45 , 81.26, 97.12]\n",
        "model = ['Information Gain', 'Gini Index','Naive Bayes',  'KNN','Random Forest', 'Gradient Boosting']\n",
        "\n",
        "# Figure Size\n",
        "fig, ax = plt.subplots(figsize =(13, 6))\n",
        "\n",
        "# Horizontal Bar Plot\n",
        "ax.barh(model, accuracy , color=['red', 'blue', 'purple', 'green', 'lavender' , 'grey'])\n",
        "\n",
        "# Remove axes splines\n",
        "for s in ['top', 'bottom', 'left', 'right']:\n",
        "\tax.spines[s].set_visible(False)\n",
        "\n",
        "# Remove x, y Ticks\n",
        "ax.xaxis.set_ticks_position('none')\n",
        "ax.yaxis.set_ticks_position('none')\n",
        "\n",
        "# Add padding between axes and labels\n",
        "ax.xaxis.set_tick_params(pad = 5)\n",
        "ax.yaxis.set_tick_params(pad = 10)\n",
        "\n",
        "# Add x, y gridlines\n",
        "ax.grid(b = True, color ='grey',\n",
        "\t\tlinestyle ='-.', linewidth = 0.3,\n",
        "\t\talpha = 0.2)\n",
        "\n",
        "# Add annotation to bars\n",
        "for i in ax.patches:\n",
        "\tplt.text(i.get_width()+0.2, i.get_y()+0.5,\n",
        "\t\t\tstr(round((i.get_width()), 3)),\n",
        "\t\t\tfontsize = 10, fontweight ='bold',\n",
        "\t\t\tcolor ='Black')\n",
        "\n",
        "# Add Plot Title\n",
        "ax.set_title('Model vs Accuracy')\n",
        "\n",
        "# Show Plot\n",
        "plt.show()"
      ],
      "execution_count": null,
      "outputs": [
        {
          "output_type": "display_data",
          "data": {
            "image/png": "[encoded data removed]",
            "text/plain": [
              "<Figure size 936x432 with 1 Axes>"
            ]
          },
          "metadata": {
            "tags": [],
            "needs_background": "light"
          }
        }
      ]
    },
    {
      "cell_type": "code",
      "metadata": {
        "id": "2xTm4F4xoQPL"
      },
      "source": [
        ""
      ],
      "execution_count": null,
      "outputs": []
    }
  ]
}
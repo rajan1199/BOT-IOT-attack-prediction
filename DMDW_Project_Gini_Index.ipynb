{
  "nbformat": 4,
  "nbformat_minor": 0,
  "metadata": {
    "colab": {
      "name": "DMDW Project Gini Index.ipynb",
      "provenance": []
    },
    "kernelspec": {
      "display_name": "Python 3",
      "name": "python3"
    },
    "language_info": {
      "name": "python"
    }
  },
  "cells": [
    {
      "cell_type": "markdown",
      "metadata": {
        "id": "bzs9L16fT7Bi"
      },
      "source": [
        "BOT-IOT DATASET (Rajan, Rippendeep, Sanyamdeep, Ritika, Shreya)            \n",
        "Description:                                           \n",
        "https://ieee-dataport.org/documents/bot-iot-dataset                     \n",
        "Dataset:                          \n",
        "https://cloudstor.aarnet.edu.au/plus/s/umT99TnxvbpkkoE?path=%2FCSV%2FTraning%20and%20Testing%20Tets%20(5%25%20of%20the%20entier%20dataset)%2F10-best%20features%2F10-best%20Training-Testing%20split"
      ]
    },
    {
      "cell_type": "code",
      "metadata": {
        "colab": {
          "base_uri": "https://localhost:8080/"
        },
        "id": "QRkBz9JvQSPz",
        "outputId": "b335ee00-b55d-4bb8-ab76-c8a1482e84e8"
      },
      "source": [
        "!pip install -U -q PyDrive\n",
        "\n",
        "from pydrive.auth import GoogleAuth\n",
        "from pydrive.drive import GoogleDrive\n",
        "from google.colab import auth\n",
        "from oauth2client.client import GoogleCredentials\n",
        "\n",
        "auth.authenticate_user()\n",
        "gauth = GoogleAuth()\n",
        "gauth.credentials = GoogleCredentials.get_application_default()\n",
        "drive = GoogleDrive(gauth)\n",
        "\n",
        "link = 'https://drive.google.com/file/d/1uV8qsVnl1XLxLlfw2tnGF3rbIU3tntHI/view?usp=sharing'\n",
        "linkId = '1uV8qsVnl1XLxLlfw2tnGF3rbIU3tntHI'\n",
        "\n",
        "#fluff\n",
        "print (linkId)"
      ],
      "execution_count": null,
      "outputs": [
        {
          "output_type": "stream",
          "text": [
            "1uV8qsVnl1XLxLlfw2tnGF3rbIU3tntHI\n"
          ],
          "name": "stdout"
        }
      ]
    },
    {
      "cell_type": "code",
      "metadata": {
        "id": "w4-aiTjeQl4h"
      },
      "source": [
        "import pandas as pd\n",
        "import numpy as np"
      ],
      "execution_count": null,
      "outputs": []
    },
    {
      "cell_type": "code",
      "metadata": {
        "id": "c9uFP1o3Qy6U"
      },
      "source": [
        "downloaded = drive.CreateFile({'id':linkId}) \n",
        "downloaded.GetContentFile('Bot_IOT.csv')  \n",
        "df = pd.read_csv('Bot_IOT.csv')"
      ],
      "execution_count": null,
      "outputs": []
    },
    {
      "cell_type": "code",
      "metadata": {
        "colab": {
          "base_uri": "https://localhost:8080/"
        },
        "id": "uhd5L4XLb5Bq",
        "outputId": "2755ed27-9eea-48cd-dbc8-22ffea884c1f"
      },
      "source": [
        "from google.colab import drive\n",
        "drive.mount('/content/drive')"
      ],
      "execution_count": null,
      "outputs": [
        {
          "output_type": "stream",
          "text": [
            "Mounted at /content/drive\n"
          ],
          "name": "stdout"
        }
      ]
    },
    {
      "cell_type": "code",
      "metadata": {
        "colab": {
          "base_uri": "https://localhost:8080/"
        },
        "id": "TdRqygB6Q1HI",
        "outputId": "f41c4530-5328-4853-ff47-3d52be483dc7"
      },
      "source": [
        "print(df)"
      ],
      "execution_count": null,
      "outputs": [
        {
          "output_type": "stream",
          "text": [
            "         pkSeqID proto            saddr  ... attack category subcategory\n",
            "0        3142762   udp  192.168.100.150  ...      1     DDoS         UDP\n",
            "1        2432264   tcp  192.168.100.150  ...      1     DDoS         TCP\n",
            "2        1976315   tcp  192.168.100.147  ...      1     DDoS         TCP\n",
            "3        1240757   udp  192.168.100.150  ...      1      DoS         UDP\n",
            "4        3257991   udp  192.168.100.147  ...      1     DDoS         UDP\n",
            "...          ...   ...              ...  ...    ...      ...         ...\n",
            "2934812  1132803   udp  192.168.100.149  ...      1      DoS         UDP\n",
            "2934813  3384621   udp  192.168.100.150  ...      1     DDoS         UDP\n",
            "2934814   775893   udp  192.168.100.149  ...      1      DoS         UDP\n",
            "2934815   443484   tcp  192.168.100.147  ...      1      DoS         TCP\n",
            "2934816    96906   tcp  192.168.100.150  ...      1      DoS         TCP\n",
            "\n",
            "[2934817 rows x 19 columns]\n"
          ],
          "name": "stdout"
        }
      ]
    },
    {
      "cell_type": "code",
      "metadata": {
        "colab": {
          "base_uri": "https://localhost:8080/"
        },
        "id": "tssGdIfNQ5oY",
        "outputId": "c101e955-eb65-4f35-b3e7-18d3310dbd4b"
      },
      "source": [
        "#Data preprocessing\n",
        "#checking for NULL Values\n",
        "null_columns = df.columns[df.isnull().any()]\n",
        "df[null_columns].isnull().sum()"
      ],
      "execution_count": null,
      "outputs": [
        {
          "output_type": "execute_result",
          "data": {
            "text/plain": [
              "Series([], dtype: float64)"
            ]
          },
          "metadata": {
            "tags": []
          },
          "execution_count": 7
        }
      ]
    },
    {
      "cell_type": "code",
      "metadata": {
        "id": "bDRlJLu9Q6aC",
        "colab": {
          "base_uri": "https://localhost:8080/",
          "height": 215
        },
        "outputId": "b7c478b7-ca9d-4752-f50b-ba3964c394b6"
      },
      "source": [
        "df.head()"
      ],
      "execution_count": null,
      "outputs": [
        {
          "output_type": "execute_result",
          "data": {
            "text/html": [
              "<div>\n",
              "<style scoped>\n",
              "    .dataframe tbody tr th:only-of-type {\n",
              "        vertical-align: middle;\n",
              "    }\n",
              "\n",
              "    .dataframe tbody tr th {\n",
              "        vertical-align: top;\n",
              "    }\n",
              "\n",
              "    .dataframe thead th {\n",
              "        text-align: right;\n",
              "    }\n",
              "</style>\n",
              "<table border=\"1\" class=\"dataframe\">\n",
              "  <thead>\n",
              "    <tr style=\"text-align: right;\">\n",
              "      <th></th>\n",
              "      <th>pkSeqID</th>\n",
              "      <th>proto</th>\n",
              "      <th>saddr</th>\n",
              "      <th>sport</th>\n",
              "      <th>daddr</th>\n",
              "      <th>dport</th>\n",
              "      <th>seq</th>\n",
              "      <th>stddev</th>\n",
              "      <th>N_IN_Conn_P_SrcIP</th>\n",
              "      <th>min</th>\n",
              "      <th>state_number</th>\n",
              "      <th>mean</th>\n",
              "      <th>N_IN_Conn_P_DstIP</th>\n",
              "      <th>drate</th>\n",
              "      <th>srate</th>\n",
              "      <th>max</th>\n",
              "      <th>attack</th>\n",
              "      <th>category</th>\n",
              "      <th>subcategory</th>\n",
              "    </tr>\n",
              "  </thead>\n",
              "  <tbody>\n",
              "    <tr>\n",
              "      <th>0</th>\n",
              "      <td>3142762</td>\n",
              "      <td>udp</td>\n",
              "      <td>192.168.100.150</td>\n",
              "      <td>6551</td>\n",
              "      <td>192.168.100.3</td>\n",
              "      <td>80</td>\n",
              "      <td>251984</td>\n",
              "      <td>1.900363</td>\n",
              "      <td>100</td>\n",
              "      <td>0.000000</td>\n",
              "      <td>4</td>\n",
              "      <td>2.687519</td>\n",
              "      <td>100</td>\n",
              "      <td>0.0</td>\n",
              "      <td>0.494549</td>\n",
              "      <td>4.031619</td>\n",
              "      <td>1</td>\n",
              "      <td>DDoS</td>\n",
              "      <td>UDP</td>\n",
              "    </tr>\n",
              "    <tr>\n",
              "      <th>1</th>\n",
              "      <td>2432264</td>\n",
              "      <td>tcp</td>\n",
              "      <td>192.168.100.150</td>\n",
              "      <td>5532</td>\n",
              "      <td>192.168.100.3</td>\n",
              "      <td>80</td>\n",
              "      <td>256724</td>\n",
              "      <td>0.078003</td>\n",
              "      <td>38</td>\n",
              "      <td>3.856930</td>\n",
              "      <td>3</td>\n",
              "      <td>3.934927</td>\n",
              "      <td>100</td>\n",
              "      <td>0.0</td>\n",
              "      <td>0.256493</td>\n",
              "      <td>4.012924</td>\n",
              "      <td>1</td>\n",
              "      <td>DDoS</td>\n",
              "      <td>TCP</td>\n",
              "    </tr>\n",
              "    <tr>\n",
              "      <th>2</th>\n",
              "      <td>1976315</td>\n",
              "      <td>tcp</td>\n",
              "      <td>192.168.100.147</td>\n",
              "      <td>27165</td>\n",
              "      <td>192.168.100.3</td>\n",
              "      <td>80</td>\n",
              "      <td>62921</td>\n",
              "      <td>0.268666</td>\n",
              "      <td>100</td>\n",
              "      <td>2.974100</td>\n",
              "      <td>3</td>\n",
              "      <td>3.341429</td>\n",
              "      <td>100</td>\n",
              "      <td>0.0</td>\n",
              "      <td>0.294880</td>\n",
              "      <td>3.609205</td>\n",
              "      <td>1</td>\n",
              "      <td>DDoS</td>\n",
              "      <td>TCP</td>\n",
              "    </tr>\n",
              "    <tr>\n",
              "      <th>3</th>\n",
              "      <td>1240757</td>\n",
              "      <td>udp</td>\n",
              "      <td>192.168.100.150</td>\n",
              "      <td>48719</td>\n",
              "      <td>192.168.100.3</td>\n",
              "      <td>80</td>\n",
              "      <td>99168</td>\n",
              "      <td>1.823185</td>\n",
              "      <td>63</td>\n",
              "      <td>0.000000</td>\n",
              "      <td>4</td>\n",
              "      <td>3.222832</td>\n",
              "      <td>63</td>\n",
              "      <td>0.0</td>\n",
              "      <td>0.461435</td>\n",
              "      <td>4.942302</td>\n",
              "      <td>1</td>\n",
              "      <td>DoS</td>\n",
              "      <td>UDP</td>\n",
              "    </tr>\n",
              "    <tr>\n",
              "      <th>4</th>\n",
              "      <td>3257991</td>\n",
              "      <td>udp</td>\n",
              "      <td>192.168.100.147</td>\n",
              "      <td>22461</td>\n",
              "      <td>192.168.100.3</td>\n",
              "      <td>80</td>\n",
              "      <td>105063</td>\n",
              "      <td>0.822418</td>\n",
              "      <td>100</td>\n",
              "      <td>2.979995</td>\n",
              "      <td>4</td>\n",
              "      <td>3.983222</td>\n",
              "      <td>100</td>\n",
              "      <td>0.0</td>\n",
              "      <td>1.002999</td>\n",
              "      <td>4.994452</td>\n",
              "      <td>1</td>\n",
              "      <td>DDoS</td>\n",
              "      <td>UDP</td>\n",
              "    </tr>\n",
              "  </tbody>\n",
              "</table>\n",
              "</div>"
            ],
            "text/plain": [
              "   pkSeqID proto            saddr  sport  ...       max attack  category  subcategory\n",
              "0  3142762   udp  192.168.100.150   6551  ...  4.031619      1      DDoS          UDP\n",
              "1  2432264   tcp  192.168.100.150   5532  ...  4.012924      1      DDoS          TCP\n",
              "2  1976315   tcp  192.168.100.147  27165  ...  3.609205      1      DDoS          TCP\n",
              "3  1240757   udp  192.168.100.150  48719  ...  4.942302      1       DoS          UDP\n",
              "4  3257991   udp  192.168.100.147  22461  ...  4.994452      1      DDoS          UDP\n",
              "\n",
              "[5 rows x 19 columns]"
            ]
          },
          "metadata": {
            "tags": []
          },
          "execution_count": 8
        }
      ]
    },
    {
      "cell_type": "code",
      "metadata": {
        "id": "ocPwkp02Q-5s"
      },
      "source": [
        "df=df.drop(['pkSeqID', 'saddr', 'sport', 'daddr', 'dport', 'proto'], axis = 1)"
      ],
      "execution_count": null,
      "outputs": []
    },
    {
      "cell_type": "code",
      "metadata": {
        "id": "HwbiP8OyRTtd"
      },
      "source": [
        "from sklearn import tree\n",
        "from sklearn.model_selection import train_test_split\n",
        "from sklearn.tree import DecisionTreeClassifier \n",
        "from sklearn.metrics import accuracy_score, classification_report, confusion_matrix"
      ],
      "execution_count": null,
      "outputs": []
    },
    {
      "cell_type": "code",
      "metadata": {
        "id": "XXeDjDVqRIRK"
      },
      "source": [
        "#dependent and independent variables\n",
        "X = df.iloc[:, 0:10]\n",
        "Y = df.loc[:, 'attack']"
      ],
      "execution_count": null,
      "outputs": []
    },
    {
      "cell_type": "code",
      "metadata": {
        "id": "3aTDl44qRLkU"
      },
      "source": [
        "#training and testing data\n",
        "X_train, X_val, Y_train, Y_val = train_test_split(X,Y, test_size = 0.3)"
      ],
      "execution_count": null,
      "outputs": []
    },
    {
      "cell_type": "code",
      "metadata": {
        "colab": {
          "base_uri": "https://localhost:8080/"
        },
        "id": "MMAlADL1ROqE",
        "outputId": "e843b236-767c-4a64-cef4-7aedc92bf70e"
      },
      "source": [
        "scores_gini = []\n",
        "print('Accuracy score for values of max_depth of a decision tree are :')\n",
        "print('Max Depth     Accuracy Score')\n",
        "for i in range(1,9):\n",
        "  dtree_test_gini = DecisionTreeClassifier(criterion='gini',max_depth=i)\n",
        "  dtree_test_gini.fit(X_train,Y_train)\n",
        "  scores_gini.append(dtree_test_gini.score(X_val,Y_val))\n",
        "  print(i,'          ', scores_gini[i-1])\n",
        "\n",
        "print('We got maximum accuracy for max_depth=', scores_gini.index(max(scores_gini))+1, 'and the maximum accuracy is: ', max(scores_gini))"
      ],
      "execution_count": null,
      "outputs": [
        {
          "output_type": "stream",
          "text": [
            "Accuracy score for values of max_depth of a decision tree are :\n",
            "Max Depth     Accuracy Score\n",
            "1            0.9998716559561859\n",
            "2            0.9998943717161529\n",
            "3            0.9999114085361283\n",
            "4            0.9999102727481299\n",
            "5            0.9999068653841349\n",
            "6            0.9999239022041102\n",
            "7            0.9999284453561036\n",
            "8            0.9999329885080971\n",
            "We got maximum accuracy for max_depth= 8 and the maximum accuracy is:  0.9999329885080971\n"
          ],
          "name": "stdout"
        }
      ]
    },
    {
      "cell_type": "code",
      "metadata": {
        "id": "9SQaa15mRfyE"
      },
      "source": [
        "#making classifier\n",
        "clf = DecisionTreeClassifier(criterion='gini' , max_depth=8)"
      ],
      "execution_count": null,
      "outputs": []
    },
    {
      "cell_type": "code",
      "metadata": {
        "colab": {
          "base_uri": "https://localhost:8080/"
        },
        "id": "5clrQntVR0MW",
        "outputId": "78ddc075-4316-43ff-c151-4b768fdd5d7c"
      },
      "source": [
        "#Training the classifier\n",
        "clf.fit(X_train, Y_train)"
      ],
      "execution_count": null,
      "outputs": [
        {
          "output_type": "execute_result",
          "data": {
            "text/plain": [
              "DecisionTreeClassifier(ccp_alpha=0.0, class_weight=None, criterion='gini',\n",
              "                       max_depth=8, max_features=None, max_leaf_nodes=None,\n",
              "                       min_impurity_decrease=0.0, min_impurity_split=None,\n",
              "                       min_samples_leaf=1, min_samples_split=2,\n",
              "                       min_weight_fraction_leaf=0.0, presort='deprecated',\n",
              "                       random_state=None, splitter='best')"
            ]
          },
          "metadata": {
            "tags": []
          },
          "execution_count": 15
        }
      ]
    },
    {
      "cell_type": "code",
      "metadata": {
        "colab": {
          "base_uri": "https://localhost:8080/"
        },
        "id": "fr9KOxo5R4iv",
        "outputId": "a2f11a4a-72c4-4157-810b-cd389d048b01"
      },
      "source": [
        "#calcuating accuracy of the model on validation set\n",
        "Predt = clf.predict(X_val)\n",
        "\n",
        "#calculate accuracy\n",
        "print (accuracy_score(Y_val, Predt)*100 )"
      ],
      "execution_count": null,
      "outputs": [
        {
          "output_type": "stream",
          "text": [
            "99.99341242960953\n"
          ],
          "name": "stdout"
        }
      ]
    },
    {
      "cell_type": "code",
      "metadata": {
        "colab": {
          "base_uri": "https://localhost:8080/",
          "height": 1000
        },
        "id": "TTl268GnR60y",
        "outputId": "b9f8ac8f-b018-4f0d-c6bb-057069da5357"
      },
      "source": [
        "#visualize the tree\n",
        "tree.plot_tree(clf)"
      ],
      "execution_count": null,
      "outputs": [
        {
          "output_type": "execute_result",
          "data": {
            "text/plain": [
              "[Text(160.54955357142856, 205.35999999999999, 'X[6] <= 2.5\\ngini = 0.0\\nsamples = 2054371\\nvalue = [257, 2054114]'),\n",
              " Text(85.69285714285715, 181.2, 'X[2] <= 5.5\\ngini = 0.313\\nsamples = 495\\nvalue = [96, 399]'),\n",
              " Text(51.81428571428572, 157.04, 'X[0] <= 17115.5\\ngini = 0.077\\nsamples = 397\\nvalue = [16, 381]'),\n",
              " Text(31.885714285714286, 132.88, 'X[3] <= 0.0\\ngini = 0.302\\nsamples = 81\\nvalue = [15, 66]'),\n",
              " Text(15.942857142857143, 108.72, 'X[4] <= 3.5\\ngini = 0.08\\nsamples = 48\\nvalue = [2, 46]'),\n",
              " Text(7.9714285714285715, 84.56, 'gini = 0.0\\nsamples = 38\\nvalue = [0, 38]'),\n",
              " Text(23.914285714285715, 84.56, 'X[2] <= 1.5\\ngini = 0.32\\nsamples = 10\\nvalue = [2, 8]'),\n",
              " Text(15.942857142857143, 60.400000000000006, 'X[8] <= 0.125\\ngini = 0.5\\nsamples = 4\\nvalue = [2, 2]'),\n",
              " Text(7.9714285714285715, 36.24000000000001, 'gini = 0.0\\nsamples = 2\\nvalue = [2, 0]'),\n",
              " Text(23.914285714285715, 36.24000000000001, 'gini = 0.0\\nsamples = 2\\nvalue = [0, 2]'),\n",
              " Text(31.885714285714286, 60.400000000000006, 'gini = 0.0\\nsamples = 6\\nvalue = [0, 6]'),\n",
              " Text(47.82857142857143, 108.72, 'X[2] <= 1.5\\ngini = 0.478\\nsamples = 33\\nvalue = [13, 20]'),\n",
              " Text(39.85714285714286, 84.56, 'gini = 0.0\\nsamples = 13\\nvalue = [0, 13]'),\n",
              " Text(55.8, 84.56, 'X[3] <= 0.683\\ngini = 0.455\\nsamples = 20\\nvalue = [13, 7]'),\n",
              " Text(47.82857142857143, 60.400000000000006, 'X[5] <= 0.0\\ngini = 0.36\\nsamples = 17\\nvalue = [13, 4]'),\n",
              " Text(39.85714285714286, 36.24000000000001, 'X[3] <= 0.0\\ngini = 0.49\\nsamples = 7\\nvalue = [3, 4]'),\n",
              " Text(31.885714285714286, 12.079999999999984, 'gini = 0.0\\nsamples = 3\\nvalue = [3, 0]'),\n",
              " Text(47.82857142857143, 12.079999999999984, 'gini = 0.0\\nsamples = 4\\nvalue = [0, 4]'),\n",
              " Text(55.8, 36.24000000000001, 'gini = 0.0\\nsamples = 10\\nvalue = [10, 0]'),\n",
              " Text(63.77142857142857, 60.400000000000006, 'gini = 0.0\\nsamples = 3\\nvalue = [0, 3]'),\n",
              " Text(71.74285714285715, 132.88, 'X[4] <= 6.5\\ngini = 0.006\\nsamples = 316\\nvalue = [1, 315]'),\n",
              " Text(63.77142857142857, 108.72, 'gini = 0.0\\nsamples = 315\\nvalue = [0, 315]'),\n",
              " Text(79.71428571428572, 108.72, 'gini = 0.0\\nsamples = 1\\nvalue = [1, 0]'),\n",
              " Text(119.57142857142857, 157.04, 'X[9] <= 0.004\\ngini = 0.3\\nsamples = 98\\nvalue = [80, 18]'),\n",
              " Text(103.62857142857143, 132.88, 'X[8] <= 0.001\\ngini = 0.386\\nsamples = 23\\nvalue = [6, 17]'),\n",
              " Text(95.65714285714286, 108.72, 'X[4] <= 4.5\\ngini = 0.49\\nsamples = 14\\nvalue = [6, 8]'),\n",
              " Text(87.68571428571428, 84.56, 'X[2] <= 20.5\\ngini = 0.375\\nsamples = 8\\nvalue = [6, 2]'),\n",
              " Text(79.71428571428572, 60.400000000000006, 'gini = 0.0\\nsamples = 6\\nvalue = [6, 0]'),\n",
              " Text(95.65714285714286, 60.400000000000006, 'gini = 0.0\\nsamples = 2\\nvalue = [0, 2]'),\n",
              " Text(103.62857142857143, 84.56, 'gini = 0.0\\nsamples = 6\\nvalue = [0, 6]'),\n",
              " Text(111.6, 108.72, 'gini = 0.0\\nsamples = 9\\nvalue = [0, 9]'),\n",
              " Text(135.5142857142857, 132.88, 'X[2] <= 77.0\\ngini = 0.026\\nsamples = 75\\nvalue = [74, 1]'),\n",
              " Text(127.54285714285714, 108.72, 'gini = 0.0\\nsamples = 74\\nvalue = [74, 0]'),\n",
              " Text(143.4857142857143, 108.72, 'gini = 0.0\\nsamples = 1\\nvalue = [0, 1]'),\n",
              " Text(235.40625, 181.2, 'X[0] <= 7.5\\ngini = 0.0\\nsamples = 2053876\\nvalue = [161, 2053715]'),\n",
              " Text(202.275, 157.04, 'X[5] <= 4.585\\ngini = 0.391\\nsamples = 60\\nvalue = [16, 44]'),\n",
              " Text(194.30357142857144, 132.88, 'gini = 0.0\\nsamples = 44\\nvalue = [0, 44]'),\n",
              " Text(210.24642857142857, 132.88, 'gini = 0.0\\nsamples = 16\\nvalue = [16, 0]'),\n",
              " Text(268.5375, 157.04, 'X[8] <= 225000.0\\ngini = 0.0\\nsamples = 2053816\\nvalue = [145, 2053671]'),\n",
              " Text(226.18928571428572, 132.88, 'X[6] <= 4.5\\ngini = 0.0\\nsamples = 2053811\\nvalue = [141, 2053670]'),\n",
              " Text(165.40714285714287, 108.72, 'X[0] <= 9355.0\\ngini = 0.102\\nsamples = 671\\nvalue = [36, 635]'),\n",
              " Text(139.5, 84.56, 'X[3] <= 0.0\\ngini = 0.483\\nsamples = 71\\nvalue = [29, 42]'),\n",
              " Text(111.6, 60.400000000000006, 'X[2] <= 2.5\\ngini = 0.198\\nsamples = 36\\nvalue = [4, 32]'),\n",
              " Text(95.65714285714286, 36.24000000000001, 'X[6] <= 3.5\\ngini = 0.375\\nsamples = 4\\nvalue = [3, 1]'),\n",
              " Text(87.68571428571428, 12.079999999999984, 'gini = 0.5\\nsamples = 2\\nvalue = [1, 1]'),\n",
              " Text(103.62857142857143, 12.079999999999984, 'gini = 0.0\\nsamples = 2\\nvalue = [2, 0]'),\n",
              " Text(127.54285714285714, 36.24000000000001, 'X[0] <= 77.5\\ngini = 0.061\\nsamples = 32\\nvalue = [1, 31]'),\n",
              " Text(119.57142857142857, 12.079999999999984, 'gini = 0.0\\nsamples = 1\\nvalue = [1, 0]'),\n",
              " Text(135.5142857142857, 12.079999999999984, 'gini = 0.0\\nsamples = 31\\nvalue = [0, 31]'),\n",
              " Text(167.4, 60.400000000000006, 'X[1] <= 0.121\\ngini = 0.408\\nsamples = 35\\nvalue = [25, 10]'),\n",
              " Text(159.42857142857144, 36.24000000000001, 'X[4] <= 1.5\\ngini = 0.137\\nsamples = 27\\nvalue = [25, 2]'),\n",
              " Text(151.45714285714286, 12.079999999999984, 'gini = 0.0\\nsamples = 1\\nvalue = [0, 1]'),\n",
              " Text(167.4, 12.079999999999984, 'gini = 0.074\\nsamples = 26\\nvalue = [25, 1]'),\n",
              " Text(175.37142857142857, 36.24000000000001, 'gini = 0.0\\nsamples = 8\\nvalue = [0, 8]'),\n",
              " Text(191.31428571428572, 84.56, 'X[2] <= 2.0\\ngini = 0.023\\nsamples = 600\\nvalue = [7, 593]'),\n",
              " Text(183.34285714285716, 60.400000000000006, 'gini = 0.0\\nsamples = 3\\nvalue = [3, 0]'),\n",
              " Text(199.28571428571428, 60.400000000000006, 'X[7] <= 0.319\\ngini = 0.013\\nsamples = 597\\nvalue = [4, 593]'),\n",
              " Text(191.31428571428572, 36.24000000000001, 'X[0] <= 17455.5\\ngini = 0.007\\nsamples = 595\\nvalue = [2, 593]'),\n",
              " Text(183.34285714285716, 12.079999999999984, 'gini = 0.065\\nsamples = 59\\nvalue = [2, 57]'),\n",
              " Text(199.28571428571428, 12.079999999999984, 'gini = 0.0\\nsamples = 536\\nvalue = [0, 536]'),\n",
              " Text(207.25714285714287, 36.24000000000001, 'gini = 0.0\\nsamples = 2\\nvalue = [2, 0]'),\n",
              " Text(286.9714285714286, 108.72, 'X[6] <= 24.5\\ngini = 0.0\\nsamples = 2053140\\nvalue = [105, 2053035]'),\n",
              " Text(255.0857142857143, 84.56, 'X[2] <= 4.5\\ngini = 0.007\\nsamples = 30621\\nvalue = [104, 30517]'),\n",
              " Text(231.17142857142858, 60.400000000000006, 'X[0] <= 9019.5\\ngini = 0.469\\nsamples = 16\\nvalue = [10, 6]'),\n",
              " Text(223.2, 36.24000000000001, 'gini = 0.0\\nsamples = 4\\nvalue = [0, 4]'),\n",
              " Text(239.14285714285714, 36.24000000000001, 'X[0] <= 18588.5\\ngini = 0.278\\nsamples = 12\\nvalue = [10, 2]'),\n",
              " Text(231.17142857142858, 12.079999999999984, 'gini = 0.0\\nsamples = 8\\nvalue = [8, 0]'),\n",
              " Text(247.11428571428573, 12.079999999999984, 'gini = 0.5\\nsamples = 4\\nvalue = [2, 2]'),\n",
              " Text(279.0, 60.400000000000006, 'X[8] <= 107142.852\\ngini = 0.006\\nsamples = 30605\\nvalue = [94, 30511]'),\n",
              " Text(271.0285714285714, 36.24000000000001, 'X[0] <= 31739.5\\ngini = 0.006\\nsamples = 30604\\nvalue = [93, 30511]'),\n",
              " Text(263.0571428571429, 12.079999999999984, 'gini = 0.022\\nsamples = 8337\\nvalue = [93, 8244]'),\n",
              " Text(279.0, 12.079999999999984, 'gini = 0.0\\nsamples = 22267\\nvalue = [0, 22267]'),\n",
              " Text(286.9714285714286, 36.24000000000001, 'gini = 0.0\\nsamples = 1\\nvalue = [1, 0]'),\n",
              " Text(318.8571428571429, 84.56, 'X[0] <= 9.5\\ngini = 0.0\\nsamples = 2022519\\nvalue = [1, 2022518]'),\n",
              " Text(310.8857142857143, 60.400000000000006, 'X[2] <= 7.0\\ngini = 0.1\\nsamples = 19\\nvalue = [1, 18]'),\n",
              " Text(302.9142857142857, 36.24000000000001, 'gini = 0.0\\nsamples = 1\\nvalue = [1, 0]'),\n",
              " Text(318.8571428571429, 36.24000000000001, 'gini = 0.0\\nsamples = 18\\nvalue = [0, 18]'),\n",
              " Text(326.8285714285714, 60.400000000000006, 'gini = 0.0\\nsamples = 2022500\\nvalue = [0, 2022500]'),\n",
              " Text(310.8857142857143, 132.88, 'X[4] <= 1.5\\ngini = 0.32\\nsamples = 5\\nvalue = [4, 1]'),\n",
              " Text(302.9142857142857, 108.72, 'gini = 0.0\\nsamples = 1\\nvalue = [0, 1]'),\n",
              " Text(318.8571428571429, 108.72, 'gini = 0.0\\nsamples = 4\\nvalue = [4, 0]')]"
            ]
          },
          "metadata": {
            "tags": []
          },
          "execution_count": 17
        },
        {
          "output_type": "display_data",
          "data": {
            "image/png": "[encoded data removed]",
            "text/plain": [
              "<Figure size 432x288 with 1 Axes>"
            ]
          },
          "metadata": {
            "tags": [],
            "needs_background": "light"
          }
        }
      ]
    },
    {
      "cell_type": "code",
      "metadata": {
        "colab": {
          "base_uri": "https://localhost:8080/",
          "height": 422
        },
        "id": "230Q67tUR63U",
        "outputId": "6a88b659-68ff-413d-ef23-738c3737e187"
      },
      "source": [
        "####Uploading testing DATA\n",
        "!pip install -U -q PyDrive\n",
        "from pydrive.auth import GoogleAuth\n",
        "from pydrive.drive import GoogleDrive\n",
        "from google.colab import auth\n",
        "from oauth2client.client import GoogleCredentials\n",
        "\n",
        "auth.authenticate_user()\n",
        "gauth = GoogleAuth()\n",
        "gauth.credentials = GoogleCredentials.get_application_default()\n",
        "drive = GoogleDrive(gauth)\n",
        "\n",
        "\n",
        "link = 'https://drive.google.com/file/d/1QIJWtK99SblVQK88AHqHwAVBZJcT14yW/view?usp=sharing'\n",
        "linkId = '1QIJWtK99SblVQK88AHqHwAVBZJcT14yW'\n",
        "\n",
        "downloaded = drive.CreateFile({'id':linkId}) \n",
        "downloaded.GetContentFile('Bot_IOT_Test.csv')  \n",
        "dfTEST = pd.read_csv('Bot_IOT_Test.csv')\n",
        "\n",
        "dfTEST"
      ],
      "execution_count": null,
      "outputs": [
        {
          "output_type": "execute_result",
          "data": {
            "text/html": [
              "<div>\n",
              "<style scoped>\n",
              "    .dataframe tbody tr th:only-of-type {\n",
              "        vertical-align: middle;\n",
              "    }\n",
              "\n",
              "    .dataframe tbody tr th {\n",
              "        vertical-align: top;\n",
              "    }\n",
              "\n",
              "    .dataframe thead th {\n",
              "        text-align: right;\n",
              "    }\n",
              "</style>\n",
              "<table border=\"1\" class=\"dataframe\">\n",
              "  <thead>\n",
              "    <tr style=\"text-align: right;\">\n",
              "      <th></th>\n",
              "      <th>pkSeqID</th>\n",
              "      <th>proto</th>\n",
              "      <th>saddr</th>\n",
              "      <th>sport</th>\n",
              "      <th>daddr</th>\n",
              "      <th>dport</th>\n",
              "      <th>seq</th>\n",
              "      <th>stddev</th>\n",
              "      <th>N_IN_Conn_P_SrcIP</th>\n",
              "      <th>min</th>\n",
              "      <th>state_number</th>\n",
              "      <th>mean</th>\n",
              "      <th>N_IN_Conn_P_DstIP</th>\n",
              "      <th>drate</th>\n",
              "      <th>srate</th>\n",
              "      <th>max</th>\n",
              "      <th>attack</th>\n",
              "      <th>category</th>\n",
              "      <th>subcategory</th>\n",
              "    </tr>\n",
              "  </thead>\n",
              "  <tbody>\n",
              "    <tr>\n",
              "      <th>0</th>\n",
              "      <td>792371</td>\n",
              "      <td>udp</td>\n",
              "      <td>192.168.100.150</td>\n",
              "      <td>48516</td>\n",
              "      <td>192.168.100.3</td>\n",
              "      <td>80</td>\n",
              "      <td>175094</td>\n",
              "      <td>0.226784</td>\n",
              "      <td>100</td>\n",
              "      <td>4.100436</td>\n",
              "      <td>4</td>\n",
              "      <td>4.457383</td>\n",
              "      <td>100</td>\n",
              "      <td>0.000000</td>\n",
              "      <td>0.404711</td>\n",
              "      <td>4.719438</td>\n",
              "      <td>1</td>\n",
              "      <td>DoS</td>\n",
              "      <td>UDP</td>\n",
              "    </tr>\n",
              "    <tr>\n",
              "      <th>1</th>\n",
              "      <td>2056418</td>\n",
              "      <td>tcp</td>\n",
              "      <td>192.168.100.148</td>\n",
              "      <td>22267</td>\n",
              "      <td>192.168.100.3</td>\n",
              "      <td>80</td>\n",
              "      <td>143024</td>\n",
              "      <td>0.451998</td>\n",
              "      <td>100</td>\n",
              "      <td>3.439257</td>\n",
              "      <td>1</td>\n",
              "      <td>3.806172</td>\n",
              "      <td>100</td>\n",
              "      <td>0.225077</td>\n",
              "      <td>0.401397</td>\n",
              "      <td>4.442930</td>\n",
              "      <td>1</td>\n",
              "      <td>DDoS</td>\n",
              "      <td>TCP</td>\n",
              "    </tr>\n",
              "    <tr>\n",
              "      <th>2</th>\n",
              "      <td>2795650</td>\n",
              "      <td>udp</td>\n",
              "      <td>192.168.100.149</td>\n",
              "      <td>28629</td>\n",
              "      <td>192.168.100.3</td>\n",
              "      <td>80</td>\n",
              "      <td>167033</td>\n",
              "      <td>1.931553</td>\n",
              "      <td>73</td>\n",
              "      <td>0.000000</td>\n",
              "      <td>4</td>\n",
              "      <td>2.731204</td>\n",
              "      <td>100</td>\n",
              "      <td>0.000000</td>\n",
              "      <td>0.407287</td>\n",
              "      <td>4.138455</td>\n",
              "      <td>1</td>\n",
              "      <td>DDoS</td>\n",
              "      <td>UDP</td>\n",
              "    </tr>\n",
              "    <tr>\n",
              "      <th>3</th>\n",
              "      <td>2118009</td>\n",
              "      <td>tcp</td>\n",
              "      <td>192.168.100.148</td>\n",
              "      <td>42142</td>\n",
              "      <td>192.168.100.3</td>\n",
              "      <td>80</td>\n",
              "      <td>204615</td>\n",
              "      <td>0.428798</td>\n",
              "      <td>56</td>\n",
              "      <td>3.271411</td>\n",
              "      <td>1</td>\n",
              "      <td>3.626428</td>\n",
              "      <td>100</td>\n",
              "      <td>0.000000</td>\n",
              "      <td>0.343654</td>\n",
              "      <td>4.229700</td>\n",
              "      <td>1</td>\n",
              "      <td>DDoS</td>\n",
              "      <td>TCP</td>\n",
              "    </tr>\n",
              "    <tr>\n",
              "      <th>4</th>\n",
              "      <td>303688</td>\n",
              "      <td>tcp</td>\n",
              "      <td>192.168.100.149</td>\n",
              "      <td>1645</td>\n",
              "      <td>192.168.100.5</td>\n",
              "      <td>80</td>\n",
              "      <td>40058</td>\n",
              "      <td>2.058381</td>\n",
              "      <td>100</td>\n",
              "      <td>0.000000</td>\n",
              "      <td>3</td>\n",
              "      <td>1.188407</td>\n",
              "      <td>100</td>\n",
              "      <td>0.000000</td>\n",
              "      <td>0.135842</td>\n",
              "      <td>4.753628</td>\n",
              "      <td>1</td>\n",
              "      <td>DoS</td>\n",
              "      <td>TCP</td>\n",
              "    </tr>\n",
              "    <tr>\n",
              "      <th>...</th>\n",
              "      <td>...</td>\n",
              "      <td>...</td>\n",
              "      <td>...</td>\n",
              "      <td>...</td>\n",
              "      <td>...</td>\n",
              "      <td>...</td>\n",
              "      <td>...</td>\n",
              "      <td>...</td>\n",
              "      <td>...</td>\n",
              "      <td>...</td>\n",
              "      <td>...</td>\n",
              "      <td>...</td>\n",
              "      <td>...</td>\n",
              "      <td>...</td>\n",
              "      <td>...</td>\n",
              "      <td>...</td>\n",
              "      <td>...</td>\n",
              "      <td>...</td>\n",
              "      <td>...</td>\n",
              "    </tr>\n",
              "    <tr>\n",
              "      <th>733700</th>\n",
              "      <td>1571905</td>\n",
              "      <td>udp</td>\n",
              "      <td>192.168.100.148</td>\n",
              "      <td>17412</td>\n",
              "      <td>192.168.100.6</td>\n",
              "      <td>80</td>\n",
              "      <td>168162</td>\n",
              "      <td>1.743940</td>\n",
              "      <td>39</td>\n",
              "      <td>0.000000</td>\n",
              "      <td>4</td>\n",
              "      <td>3.020449</td>\n",
              "      <td>39</td>\n",
              "      <td>0.000000</td>\n",
              "      <td>0.224603</td>\n",
              "      <td>4.043432</td>\n",
              "      <td>1</td>\n",
              "      <td>DoS</td>\n",
              "      <td>UDP</td>\n",
              "    </tr>\n",
              "    <tr>\n",
              "      <th>733701</th>\n",
              "      <td>2787099</td>\n",
              "      <td>udp</td>\n",
              "      <td>192.168.100.147</td>\n",
              "      <td>932</td>\n",
              "      <td>192.168.100.3</td>\n",
              "      <td>80</td>\n",
              "      <td>158482</td>\n",
              "      <td>0.694618</td>\n",
              "      <td>65</td>\n",
              "      <td>3.002272</td>\n",
              "      <td>4</td>\n",
              "      <td>3.905409</td>\n",
              "      <td>100</td>\n",
              "      <td>0.000000</td>\n",
              "      <td>0.875121</td>\n",
              "      <td>4.691634</td>\n",
              "      <td>1</td>\n",
              "      <td>DDoS</td>\n",
              "      <td>UDP</td>\n",
              "    </tr>\n",
              "    <tr>\n",
              "      <th>733702</th>\n",
              "      <td>2255382</td>\n",
              "      <td>tcp</td>\n",
              "      <td>192.168.100.149</td>\n",
              "      <td>47980</td>\n",
              "      <td>192.168.100.3</td>\n",
              "      <td>80</td>\n",
              "      <td>79841</td>\n",
              "      <td>1.744651</td>\n",
              "      <td>53</td>\n",
              "      <td>0.000000</td>\n",
              "      <td>1</td>\n",
              "      <td>2.464288</td>\n",
              "      <td>100</td>\n",
              "      <td>0.278496</td>\n",
              "      <td>0.472773</td>\n",
              "      <td>3.802142</td>\n",
              "      <td>1</td>\n",
              "      <td>DDoS</td>\n",
              "      <td>TCP</td>\n",
              "    </tr>\n",
              "    <tr>\n",
              "      <th>733703</th>\n",
              "      <td>588946</td>\n",
              "      <td>tcp</td>\n",
              "      <td>192.168.100.147</td>\n",
              "      <td>25096</td>\n",
              "      <td>192.168.100.7</td>\n",
              "      <td>80</td>\n",
              "      <td>63165</td>\n",
              "      <td>0.000000</td>\n",
              "      <td>100</td>\n",
              "      <td>0.000000</td>\n",
              "      <td>3</td>\n",
              "      <td>0.000000</td>\n",
              "      <td>100</td>\n",
              "      <td>0.000000</td>\n",
              "      <td>0.070461</td>\n",
              "      <td>0.000000</td>\n",
              "      <td>1</td>\n",
              "      <td>DoS</td>\n",
              "      <td>TCP</td>\n",
              "    </tr>\n",
              "    <tr>\n",
              "      <th>733704</th>\n",
              "      <td>2577420</td>\n",
              "      <td>tcp</td>\n",
              "      <td>192.168.100.147</td>\n",
              "      <td>34718</td>\n",
              "      <td>192.168.100.3</td>\n",
              "      <td>80</td>\n",
              "      <td>139733</td>\n",
              "      <td>0.091420</td>\n",
              "      <td>65</td>\n",
              "      <td>0.000000</td>\n",
              "      <td>3</td>\n",
              "      <td>0.052781</td>\n",
              "      <td>100</td>\n",
              "      <td>0.000000</td>\n",
              "      <td>0.093828</td>\n",
              "      <td>0.211125</td>\n",
              "      <td>1</td>\n",
              "      <td>DDoS</td>\n",
              "      <td>TCP</td>\n",
              "    </tr>\n",
              "  </tbody>\n",
              "</table>\n",
              "<p>733705 rows × 19 columns</p>\n",
              "</div>"
            ],
            "text/plain": [
              "        pkSeqID proto            saddr  ... attack category subcategory\n",
              "0        792371   udp  192.168.100.150  ...      1      DoS         UDP\n",
              "1       2056418   tcp  192.168.100.148  ...      1     DDoS         TCP\n",
              "2       2795650   udp  192.168.100.149  ...      1     DDoS         UDP\n",
              "3       2118009   tcp  192.168.100.148  ...      1     DDoS         TCP\n",
              "4        303688   tcp  192.168.100.149  ...      1      DoS         TCP\n",
              "...         ...   ...              ...  ...    ...      ...         ...\n",
              "733700  1571905   udp  192.168.100.148  ...      1      DoS         UDP\n",
              "733701  2787099   udp  192.168.100.147  ...      1     DDoS         UDP\n",
              "733702  2255382   tcp  192.168.100.149  ...      1     DDoS         TCP\n",
              "733703   588946   tcp  192.168.100.147  ...      1      DoS         TCP\n",
              "733704  2577420   tcp  192.168.100.147  ...      1     DDoS         TCP\n",
              "\n",
              "[733705 rows x 19 columns]"
            ]
          },
          "metadata": {
            "tags": []
          },
          "execution_count": 18
        }
      ]
    },
    {
      "cell_type": "code",
      "metadata": {
        "id": "YV5IGkMmR66B"
      },
      "source": [
        "dfTEST=dfTEST.drop(['pkSeqID', 'saddr', 'sport', 'daddr', 'dport', 'proto'], axis = 1)\n"
      ],
      "execution_count": null,
      "outputs": []
    },
    {
      "cell_type": "code",
      "metadata": {
        "id": "yCde4DntR682"
      },
      "source": [
        "X_Test = dfTEST.iloc[: , 0:10]\n",
        "Y_Test = dfTEST.loc[:,'attack']"
      ],
      "execution_count": null,
      "outputs": []
    },
    {
      "cell_type": "code",
      "metadata": {
        "colab": {
          "base_uri": "https://localhost:8080/",
          "height": 402
        },
        "id": "w3G6NpdFR6--",
        "outputId": "a5eb6ebf-90eb-4941-e42a-8f9276939662"
      },
      "source": [
        "X_Test"
      ],
      "execution_count": null,
      "outputs": [
        {
          "output_type": "execute_result",
          "data": {
            "text/html": [
              "<div>\n",
              "<style scoped>\n",
              "    .dataframe tbody tr th:only-of-type {\n",
              "        vertical-align: middle;\n",
              "    }\n",
              "\n",
              "    .dataframe tbody tr th {\n",
              "        vertical-align: top;\n",
              "    }\n",
              "\n",
              "    .dataframe thead th {\n",
              "        text-align: right;\n",
              "    }\n",
              "</style>\n",
              "<table border=\"1\" class=\"dataframe\">\n",
              "  <thead>\n",
              "    <tr style=\"text-align: right;\">\n",
              "      <th></th>\n",
              "      <th>seq</th>\n",
              "      <th>stddev</th>\n",
              "      <th>N_IN_Conn_P_SrcIP</th>\n",
              "      <th>min</th>\n",
              "      <th>state_number</th>\n",
              "      <th>mean</th>\n",
              "      <th>N_IN_Conn_P_DstIP</th>\n",
              "      <th>drate</th>\n",
              "      <th>srate</th>\n",
              "      <th>max</th>\n",
              "    </tr>\n",
              "  </thead>\n",
              "  <tbody>\n",
              "    <tr>\n",
              "      <th>0</th>\n",
              "      <td>175094</td>\n",
              "      <td>0.226784</td>\n",
              "      <td>100</td>\n",
              "      <td>4.100436</td>\n",
              "      <td>4</td>\n",
              "      <td>4.457383</td>\n",
              "      <td>100</td>\n",
              "      <td>0.000000</td>\n",
              "      <td>0.404711</td>\n",
              "      <td>4.719438</td>\n",
              "    </tr>\n",
              "    <tr>\n",
              "      <th>1</th>\n",
              "      <td>143024</td>\n",
              "      <td>0.451998</td>\n",
              "      <td>100</td>\n",
              "      <td>3.439257</td>\n",
              "      <td>1</td>\n",
              "      <td>3.806172</td>\n",
              "      <td>100</td>\n",
              "      <td>0.225077</td>\n",
              "      <td>0.401397</td>\n",
              "      <td>4.442930</td>\n",
              "    </tr>\n",
              "    <tr>\n",
              "      <th>2</th>\n",
              "      <td>167033</td>\n",
              "      <td>1.931553</td>\n",
              "      <td>73</td>\n",
              "      <td>0.000000</td>\n",
              "      <td>4</td>\n",
              "      <td>2.731204</td>\n",
              "      <td>100</td>\n",
              "      <td>0.000000</td>\n",
              "      <td>0.407287</td>\n",
              "      <td>4.138455</td>\n",
              "    </tr>\n",
              "    <tr>\n",
              "      <th>3</th>\n",
              "      <td>204615</td>\n",
              "      <td>0.428798</td>\n",
              "      <td>56</td>\n",
              "      <td>3.271411</td>\n",
              "      <td>1</td>\n",
              "      <td>3.626428</td>\n",
              "      <td>100</td>\n",
              "      <td>0.000000</td>\n",
              "      <td>0.343654</td>\n",
              "      <td>4.229700</td>\n",
              "    </tr>\n",
              "    <tr>\n",
              "      <th>4</th>\n",
              "      <td>40058</td>\n",
              "      <td>2.058381</td>\n",
              "      <td>100</td>\n",
              "      <td>0.000000</td>\n",
              "      <td>3</td>\n",
              "      <td>1.188407</td>\n",
              "      <td>100</td>\n",
              "      <td>0.000000</td>\n",
              "      <td>0.135842</td>\n",
              "      <td>4.753628</td>\n",
              "    </tr>\n",
              "    <tr>\n",
              "      <th>...</th>\n",
              "      <td>...</td>\n",
              "      <td>...</td>\n",
              "      <td>...</td>\n",
              "      <td>...</td>\n",
              "      <td>...</td>\n",
              "      <td>...</td>\n",
              "      <td>...</td>\n",
              "      <td>...</td>\n",
              "      <td>...</td>\n",
              "      <td>...</td>\n",
              "    </tr>\n",
              "    <tr>\n",
              "      <th>733700</th>\n",
              "      <td>168162</td>\n",
              "      <td>1.743940</td>\n",
              "      <td>39</td>\n",
              "      <td>0.000000</td>\n",
              "      <td>4</td>\n",
              "      <td>3.020449</td>\n",
              "      <td>39</td>\n",
              "      <td>0.000000</td>\n",
              "      <td>0.224603</td>\n",
              "      <td>4.043432</td>\n",
              "    </tr>\n",
              "    <tr>\n",
              "      <th>733701</th>\n",
              "      <td>158482</td>\n",
              "      <td>0.694618</td>\n",
              "      <td>65</td>\n",
              "      <td>3.002272</td>\n",
              "      <td>4</td>\n",
              "      <td>3.905409</td>\n",
              "      <td>100</td>\n",
              "      <td>0.000000</td>\n",
              "      <td>0.875121</td>\n",
              "      <td>4.691634</td>\n",
              "    </tr>\n",
              "    <tr>\n",
              "      <th>733702</th>\n",
              "      <td>79841</td>\n",
              "      <td>1.744651</td>\n",
              "      <td>53</td>\n",
              "      <td>0.000000</td>\n",
              "      <td>1</td>\n",
              "      <td>2.464288</td>\n",
              "      <td>100</td>\n",
              "      <td>0.278496</td>\n",
              "      <td>0.472773</td>\n",
              "      <td>3.802142</td>\n",
              "    </tr>\n",
              "    <tr>\n",
              "      <th>733703</th>\n",
              "      <td>63165</td>\n",
              "      <td>0.000000</td>\n",
              "      <td>100</td>\n",
              "      <td>0.000000</td>\n",
              "      <td>3</td>\n",
              "      <td>0.000000</td>\n",
              "      <td>100</td>\n",
              "      <td>0.000000</td>\n",
              "      <td>0.070461</td>\n",
              "      <td>0.000000</td>\n",
              "    </tr>\n",
              "    <tr>\n",
              "      <th>733704</th>\n",
              "      <td>139733</td>\n",
              "      <td>0.091420</td>\n",
              "      <td>65</td>\n",
              "      <td>0.000000</td>\n",
              "      <td>3</td>\n",
              "      <td>0.052781</td>\n",
              "      <td>100</td>\n",
              "      <td>0.000000</td>\n",
              "      <td>0.093828</td>\n",
              "      <td>0.211125</td>\n",
              "    </tr>\n",
              "  </tbody>\n",
              "</table>\n",
              "<p>733705 rows × 10 columns</p>\n",
              "</div>"
            ],
            "text/plain": [
              "           seq    stddev  N_IN_Conn_P_SrcIP  ...     drate     srate       max\n",
              "0       175094  0.226784                100  ...  0.000000  0.404711  4.719438\n",
              "1       143024  0.451998                100  ...  0.225077  0.401397  4.442930\n",
              "2       167033  1.931553                 73  ...  0.000000  0.407287  4.138455\n",
              "3       204615  0.428798                 56  ...  0.000000  0.343654  4.229700\n",
              "4        40058  2.058381                100  ...  0.000000  0.135842  4.753628\n",
              "...        ...       ...                ...  ...       ...       ...       ...\n",
              "733700  168162  1.743940                 39  ...  0.000000  0.224603  4.043432\n",
              "733701  158482  0.694618                 65  ...  0.000000  0.875121  4.691634\n",
              "733702   79841  1.744651                 53  ...  0.278496  0.472773  3.802142\n",
              "733703   63165  0.000000                100  ...  0.000000  0.070461  0.000000\n",
              "733704  139733  0.091420                 65  ...  0.000000  0.093828  0.211125\n",
              "\n",
              "[733705 rows x 10 columns]"
            ]
          },
          "metadata": {
            "tags": []
          },
          "execution_count": 21
        }
      ]
    },
    {
      "cell_type": "code",
      "metadata": {
        "colab": {
          "base_uri": "https://localhost:8080/"
        },
        "id": "5RNaTXHbR7Cb",
        "outputId": "beda1cda-0bde-4909-c34d-4c375a9ab5c8"
      },
      "source": [
        "#calcuating accuracy of the model on test set\n",
        "Predt1 = clf.predict(X_Test)\n",
        "\n",
        " \n",
        "#calculate accuracy\n",
        "print (accuracy_score(Y_Test, Predt1)*100 )\n",
        "print(\"Classification Report\")\n",
        "print(classification_report(Y_Test, Predt1))\n",
        "print(\"Confusion matrix\")\n",
        "print(confusion_matrix(Y_Test, Predt1))"
      ],
      "execution_count": null,
      "outputs": [
        {
          "output_type": "stream",
          "text": [
            "99.99223121009125\n",
            "Classification Report\n",
            "              precision    recall  f1-score   support\n",
            "\n",
            "           0       0.92      0.51      0.66       107\n",
            "           1       1.00      1.00      1.00    733598\n",
            "\n",
            "    accuracy                           1.00    733705\n",
            "   macro avg       0.96      0.76      0.83    733705\n",
            "weighted avg       1.00      1.00      1.00    733705\n",
            "\n",
            "Confusion matrix\n",
            "[[    55     52]\n",
            " [     5 733593]]\n"
          ],
          "name": "stdout"
        }
      ]
    },
    {
      "cell_type": "code",
      "metadata": {
        "id": "LL3zYcqrTKF5"
      },
      "source": [
        "from array import array\n",
        "from sklearn.preprocessing import LabelEncoder\n",
        "le = LabelEncoder()\n",
        "le1 = LabelEncoder()\n",
        "df['category']=le.fit_transform(df['category'])\n",
        "df['subcategory']=le1.fit_transform(df['subcategory'])\n",
        "\n",
        "dfTEST['category']=le.transform(dfTEST['category'])\n",
        "dfTEST['subcategory']=le1.transform(dfTEST['subcategory'])\n"
      ],
      "execution_count": null,
      "outputs": []
    },
    {
      "cell_type": "code",
      "metadata": {
        "id": "-krwi-ngTM3z"
      },
      "source": [
        "#dependent and independent variables\n",
        "X_cat_train = df.iloc[:, 0:11]\n",
        "Y_cat_train = df.loc[:, 'category']\n",
        "\n",
        "X_cat_test =dfTEST.iloc[:, 0:10]\n",
        "X_cat_test['attack']=Predt1\n",
        "Y_cat_test=dfTEST.loc[:, 'category']"
      ],
      "execution_count": null,
      "outputs": []
    },
    {
      "cell_type": "code",
      "metadata": {
        "colab": {
          "base_uri": "https://localhost:8080/"
        },
        "id": "BvwqbkVxTPqy",
        "outputId": "24a85a6d-a30e-48c5-9310-2d2d7de55e56"
      },
      "source": [
        "#making classifier\n",
        "clf1 = DecisionTreeClassifier(criterion='gini' , max_depth=8)\n",
        "#Training the classifier\n",
        "clf1.fit(X_cat_train, Y_cat_train)"
      ],
      "execution_count": null,
      "outputs": [
        {
          "output_type": "execute_result",
          "data": {
            "text/plain": [
              "DecisionTreeClassifier(ccp_alpha=0.0, class_weight=None, criterion='gini',\n",
              "                       max_depth=8, max_features=None, max_leaf_nodes=None,\n",
              "                       min_impurity_decrease=0.0, min_impurity_split=None,\n",
              "                       min_samples_leaf=1, min_samples_split=2,\n",
              "                       min_weight_fraction_leaf=0.0, presort='deprecated',\n",
              "                       random_state=None, splitter='best')"
            ]
          },
          "metadata": {
            "tags": []
          },
          "execution_count": 25
        }
      ]
    },
    {
      "cell_type": "code",
      "metadata": {
        "colab": {
          "base_uri": "https://localhost:8080/",
          "height": 1000
        },
        "id": "nn86QSj-TSqU",
        "outputId": "a221e890-3f6d-4498-8642-8f97d2f7431a"
      },
      "source": [
        "#visualize the tree\n",
        "tree.plot_tree(clf1)"
      ],
      "execution_count": null,
      "outputs": [
        {
          "output_type": "execute_result",
          "data": {
            "text/plain": [
              "[Text(145.09670658682634, 205.35999999999999, 'X[6] <= 99.5\\ngini = 0.521\\nsamples = 2934817\\nvalue = [1541315, 1320148, 370, 72919, 65]'),\n",
              " Text(73.1122005988024, 181.2, 'X[8] <= 0.034\\ngini = 0.096\\nsamples = 638261\\nvalue = [6090, 606426, 370, 25310, 65]'),\n",
              " Text(27.064670658682637, 157.04, 'X[10] <= 0.5\\ngini = 0.042\\nsamples = 24966\\nvalue = [195, 21, 267, 24439, 44]'),\n",
              " Text(25.05988023952096, 132.88, 'gini = 0.0\\nsamples = 267\\nvalue = [0, 0, 267, 0, 0]'),\n",
              " Text(29.069461077844313, 132.88, 'X[0] <= 46769.0\\ngini = 0.021\\nsamples = 24699\\nvalue = [195, 21, 0, 24439, 44]'),\n",
              " Text(16.038323353293414, 108.72, 'X[0] <= 62.5\\ngini = 0.004\\nsamples = 24492\\nvalue = [0, 9, 0, 24439, 44]'),\n",
              " Text(8.019161676646707, 84.56, 'X[2] <= 40.5\\ngini = 0.427\\nsamples = 136\\nvalue = [0, 0, 0, 94, 42]'),\n",
              " Text(4.0095808383233535, 60.400000000000006, 'X[1] <= 0.0\\ngini = 0.062\\nsamples = 93\\nvalue = [0, 0, 0, 90, 3]'),\n",
              " Text(2.0047904191616768, 36.24000000000001, 'gini = 0.0\\nsamples = 87\\nvalue = [0, 0, 0, 87, 0]'),\n",
              " Text(6.01437125748503, 36.24000000000001, 'X[6] <= 32.5\\ngini = 0.5\\nsamples = 6\\nvalue = [0, 0, 0, 3, 3]'),\n",
              " Text(4.0095808383233535, 12.079999999999984, 'gini = 0.0\\nsamples = 3\\nvalue = [0, 0, 0, 0, 3]'),\n",
              " Text(8.019161676646707, 12.079999999999984, 'gini = 0.0\\nsamples = 3\\nvalue = [0, 0, 0, 3, 0]'),\n",
              " Text(12.02874251497006, 60.400000000000006, 'X[9] <= 0.0\\ngini = 0.169\\nsamples = 43\\nvalue = [0, 0, 0, 4, 39]'),\n",
              " Text(10.023952095808383, 36.24000000000001, 'gini = 0.0\\nsamples = 4\\nvalue = [0, 0, 0, 4, 0]'),\n",
              " Text(14.033532934131738, 36.24000000000001, 'gini = 0.0\\nsamples = 39\\nvalue = [0, 0, 0, 0, 39]'),\n",
              " Text(24.05748502994012, 84.56, 'X[2] <= 1.5\\ngini = 0.001\\nsamples = 24356\\nvalue = [0, 9, 0, 24345, 2]'),\n",
              " Text(20.047904191616766, 60.400000000000006, 'X[3] <= 0.0\\ngini = 0.305\\nsamples = 32\\nvalue = [0, 6, 0, 26, 0]'),\n",
              " Text(18.04311377245509, 36.24000000000001, 'gini = 0.0\\nsamples = 26\\nvalue = [0, 0, 0, 26, 0]'),\n",
              " Text(22.052694610778445, 36.24000000000001, 'gini = 0.0\\nsamples = 6\\nvalue = [0, 6, 0, 0, 0]'),\n",
              " Text(28.067065868263477, 60.400000000000006, 'X[6] <= 2.5\\ngini = 0.0\\nsamples = 24324\\nvalue = [0, 3, 0, 24319, 2]'),\n",
              " Text(26.062275449101797, 36.24000000000001, 'X[0] <= 88.5\\ngini = 0.149\\nsamples = 63\\nvalue = [0, 3, 0, 58, 2]'),\n",
              " Text(24.05748502994012, 12.079999999999984, 'gini = 0.64\\nsamples = 5\\nvalue = [0, 2, 0, 1, 2]'),\n",
              " Text(28.067065868263477, 12.079999999999984, 'gini = 0.034\\nsamples = 58\\nvalue = [0, 1, 0, 57, 0]'),\n",
              " Text(30.071856287425152, 36.24000000000001, 'gini = 0.0\\nsamples = 24261\\nvalue = [0, 0, 0, 24261, 0]'),\n",
              " Text(42.10059880239521, 108.72, 'X[2] <= 2.5\\ngini = 0.109\\nsamples = 207\\nvalue = [195, 12, 0, 0, 0]'),\n",
              " Text(40.09580838323353, 84.56, 'X[0] <= 260389.0\\ngini = 0.444\\nsamples = 18\\nvalue = [6, 12, 0, 0, 0]'),\n",
              " Text(38.09101796407186, 60.400000000000006, 'X[5] <= 0.075\\ngini = 0.497\\nsamples = 13\\nvalue = [6, 7, 0, 0, 0]'),\n",
              " Text(34.08143712574851, 36.24000000000001, 'X[5] <= 0.011\\ngini = 0.408\\nsamples = 7\\nvalue = [5, 2, 0, 0, 0]'),\n",
              " Text(32.07664670658683, 12.079999999999984, 'gini = 0.0\\nsamples = 1\\nvalue = [0, 1, 0, 0, 0]'),\n",
              " Text(36.08622754491018, 12.079999999999984, 'gini = 0.278\\nsamples = 6\\nvalue = [5, 1, 0, 0, 0]'),\n",
              " Text(42.10059880239521, 36.24000000000001, 'X[0] <= 242539.5\\ngini = 0.278\\nsamples = 6\\nvalue = [1, 5, 0, 0, 0]'),\n",
              " Text(40.09580838323353, 12.079999999999984, 'gini = 0.0\\nsamples = 5\\nvalue = [0, 5, 0, 0, 0]'),\n",
              " Text(44.10538922155689, 12.079999999999984, 'gini = 0.0\\nsamples = 1\\nvalue = [1, 0, 0, 0, 0]'),\n",
              " Text(42.10059880239521, 60.400000000000006, 'gini = 0.0\\nsamples = 5\\nvalue = [0, 5, 0, 0, 0]'),\n",
              " Text(44.10538922155689, 84.56, 'gini = 0.0\\nsamples = 189\\nvalue = [189, 0, 0, 0, 0]'),\n",
              " Text(119.15973053892216, 157.04, 'X[8] <= 15.814\\ngini = 0.022\\nsamples = 613295\\nvalue = [5895, 606405, 103, 871, 21]'),\n",
              " Text(97.98413173652695, 132.88, 'X[0] <= 5611.5\\ngini = 0.02\\nsamples = 612572\\nvalue = [5895, 606403, 76, 183, 15]'),\n",
              " Text(77.68562874251498, 108.72, 'X[4] <= 2.5\\ngini = 0.304\\nsamples = 15536\\nvalue = [2764, 12662, 38, 57, 15]'),\n",
              " Text(62.14850299401198, 84.56, 'X[9] <= 0.224\\ngini = 0.495\\nsamples = 5721\\nvalue = [2419, 3269, 12, 21, 0]'),\n",
              " Text(54.129341317365274, 60.400000000000006, 'X[7] <= 0.291\\ngini = 0.043\\nsamples = 2673\\nvalue = [51, 2614, 0, 8, 0]'),\n",
              " Text(50.11976047904192, 36.24000000000001, 'X[5] <= 0.01\\ngini = 0.012\\nsamples = 2542\\nvalue = [15, 2527, 0, 0, 0]'),\n",
              " Text(48.11497005988024, 12.079999999999984, 'gini = 0.118\\nsamples = 143\\nvalue = [9, 134, 0, 0, 0]'),\n",
              " Text(52.124550898203594, 12.079999999999984, 'gini = 0.005\\nsamples = 2399\\nvalue = [6, 2393, 0, 0, 0]'),\n",
              " Text(58.138922155688626, 36.24000000000001, 'X[2] <= 86.0\\ngini = 0.48\\nsamples = 131\\nvalue = [36, 87, 0, 8, 0]'),\n",
              " Text(56.13413173652695, 12.079999999999984, 'gini = 0.274\\nsamples = 103\\nvalue = [8, 87, 0, 8, 0]'),\n",
              " Text(60.143712574850305, 12.079999999999984, 'gini = 0.0\\nsamples = 28\\nvalue = [28, 0, 0, 0, 0]'),\n",
              " Text(70.16766467065868, 60.400000000000006, 'X[7] <= 0.166\\ngini = 0.35\\nsamples = 3048\\nvalue = [2368, 655, 12, 13, 0]'),\n",
              " Text(66.15808383233534, 36.24000000000001, 'X[1] <= 1.635\\ngini = 0.198\\nsamples = 2541\\nvalue = [2261, 259, 8, 13, 0]'),\n",
              " Text(64.15329341317366, 12.079999999999984, 'gini = 0.032\\nsamples = 2194\\nvalue = [2158, 22, 8, 6, 0]'),\n",
              " Text(68.16287425149702, 12.079999999999984, 'gini = 0.445\\nsamples = 347\\nvalue = [103, 237, 0, 7, 0]'),\n",
              " Text(74.17724550898204, 36.24000000000001, 'X[0] <= 1972.5\\ngini = 0.345\\nsamples = 507\\nvalue = [107, 396, 4, 0, 0]'),\n",
              " Text(72.17245508982036, 12.079999999999984, 'gini = 0.208\\nsamples = 446\\nvalue = [48, 394, 4, 0, 0]'),\n",
              " Text(76.18203592814372, 12.079999999999984, 'gini = 0.063\\nsamples = 61\\nvalue = [59, 2, 0, 0, 0]'),\n",
              " Text(93.22275449101797, 84.56, 'X[8] <= 0.563\\ngini = 0.083\\nsamples = 9815\\nvalue = [345, 9393, 26, 36, 15]'),\n",
              " Text(86.2059880239521, 60.400000000000006, 'X[4] <= 3.5\\ngini = 0.061\\nsamples = 9700\\nvalue = [284, 9393, 15, 8, 0]'),\n",
              " Text(82.19640718562874, 36.24000000000001, 'X[8] <= 0.179\\ngini = 0.162\\nsamples = 3170\\nvalue = [282, 2888, 0, 0, 0]'),\n",
              " Text(80.19161676646706, 12.079999999999984, 'gini = 0.096\\nsamples = 3041\\nvalue = [153, 2888, 0, 0, 0]'),\n",
              " Text(84.20119760479042, 12.079999999999984, 'gini = 0.0\\nsamples = 129\\nvalue = [129, 0, 0, 0, 0]'),\n",
              " Text(90.21556886227546, 36.24000000000001, 'X[9] <= 1.47\\ngini = 0.008\\nsamples = 6530\\nvalue = [2, 6505, 15, 8, 0]'),\n",
              " Text(88.21077844311378, 12.079999999999984, 'gini = 0.531\\nsamples = 25\\nvalue = [2, 0, 15, 8, 0]'),\n",
              " Text(92.22035928143713, 12.079999999999984, 'gini = 0.0\\nsamples = 6505\\nvalue = [0, 6505, 0, 0, 0]'),\n",
              " Text(100.23952095808384, 60.400000000000006, 'X[1] <= 0.807\\ngini = 0.633\\nsamples = 115\\nvalue = [61, 0, 11, 28, 15]'),\n",
              " Text(98.23473053892216, 36.24000000000001, 'X[6] <= 22.5\\ngini = 0.612\\nsamples = 54\\nvalue = [0, 0, 11, 28, 15]'),\n",
              " Text(96.22994011976049, 12.079999999999984, 'gini = 0.488\\nsamples = 26\\nvalue = [0, 0, 11, 0, 15]'),\n",
              " Text(100.23952095808384, 12.079999999999984, 'gini = 0.0\\nsamples = 28\\nvalue = [0, 0, 0, 28, 0]'),\n",
              " Text(102.24431137724551, 36.24000000000001, 'gini = 0.0\\nsamples = 61\\nvalue = [61, 0, 0, 0, 0]'),\n",
              " Text(118.28263473053893, 108.72, 'X[6] <= 98.5\\ngini = 0.011\\nsamples = 597036\\nvalue = [3131, 593741, 38, 126, 0]'),\n",
              " Text(112.2682634730539, 84.56, 'X[2] <= 99.0\\ngini = 0.005\\nsamples = 583588\\nvalue = [1304, 582149, 38, 97, 0]'),\n",
              " Text(110.26347305389223, 60.400000000000006, 'X[0] <= 262059.5\\ngini = 0.005\\nsamples = 583506\\nvalue = [1222, 582149, 38, 97, 0]'),\n",
              " Text(106.25389221556887, 36.24000000000001, 'X[7] <= 0.292\\ngini = 0.004\\nsamples = 583052\\nvalue = [1048, 581869, 38, 97, 0]'),\n",
              " Text(104.24910179640719, 12.079999999999984, 'gini = 0.004\\nsamples = 582957\\nvalue = [1048, 581856, 33, 20, 0]'),\n",
              " Text(108.25868263473055, 12.079999999999984, 'gini = 0.322\\nsamples = 95\\nvalue = [0, 13, 5, 77, 0]'),\n",
              " Text(114.27305389221557, 36.24000000000001, 'X[6] <= 94.0\\ngini = 0.473\\nsamples = 454\\nvalue = [174, 280, 0, 0, 0]'),\n",
              " Text(112.2682634730539, 12.079999999999984, 'gini = 0.202\\nsamples = 316\\nvalue = [36, 280, 0, 0, 0]'),\n",
              " Text(116.27784431137725, 12.079999999999984, 'gini = 0.0\\nsamples = 138\\nvalue = [138, 0, 0, 0, 0]'),\n",
              " Text(114.27305389221557, 60.400000000000006, 'gini = 0.0\\nsamples = 82\\nvalue = [82, 0, 0, 0, 0]'),\n",
              " Text(124.29700598802395, 84.56, 'X[2] <= 97.5\\ngini = 0.239\\nsamples = 13448\\nvalue = [1827, 11592, 0, 29, 0]'),\n",
              " Text(120.28742514970061, 60.400000000000006, 'X[7] <= 0.214\\ngini = 0.035\\nsamples = 1612\\nvalue = [1583, 0, 0, 29, 0]'),\n",
              " Text(118.28263473053893, 36.24000000000001, 'gini = 0.0\\nsamples = 1583\\nvalue = [1583, 0, 0, 0, 0]'),\n",
              " Text(122.29221556886229, 36.24000000000001, 'gini = 0.0\\nsamples = 29\\nvalue = [0, 0, 0, 29, 0]'),\n",
              " Text(128.3065868263473, 60.400000000000006, 'X[9] <= 4.978\\ngini = 0.04\\nsamples = 11836\\nvalue = [244, 11592, 0, 0, 0]'),\n",
              " Text(126.30179640718563, 36.24000000000001, 'X[8] <= 0.472\\ngini = 0.027\\nsamples = 11752\\nvalue = [160, 11592, 0, 0, 0]'),\n",
              " Text(124.29700598802395, 12.079999999999984, 'gini = 0.004\\nsamples = 10687\\nvalue = [23, 10664, 0, 0, 0]'),\n",
              " Text(128.3065868263473, 12.079999999999984, 'gini = 0.224\\nsamples = 1065\\nvalue = [137, 928, 0, 0, 0]'),\n",
              " Text(130.311377245509, 36.24000000000001, 'gini = 0.0\\nsamples = 84\\nvalue = [84, 0, 0, 0, 0]'),\n",
              " Text(140.33532934131736, 132.88, 'X[10] <= 0.5\\ngini = 0.093\\nsamples = 723\\nvalue = [0, 2, 27, 688, 6]'),\n",
              " Text(138.3305389221557, 108.72, 'gini = 0.0\\nsamples = 27\\nvalue = [0, 0, 27, 0, 0]'),\n",
              " Text(142.34011976047904, 108.72, 'X[5] <= 0.47\\ngini = 0.023\\nsamples = 696\\nvalue = [0, 2, 0, 688, 6]'),\n",
              " Text(138.3305389221557, 84.56, 'X[6] <= 32.0\\ngini = 0.014\\nsamples = 693\\nvalue = [0, 0, 0, 688, 5]'),\n",
              " Text(136.32574850299403, 60.400000000000006, 'X[0] <= 92.0\\ngini = 0.375\\nsamples = 20\\nvalue = [0, 0, 0, 15, 5]'),\n",
              " Text(134.32095808383235, 36.24000000000001, 'gini = 0.0\\nsamples = 5\\nvalue = [0, 0, 0, 0, 5]'),\n",
              " Text(138.3305389221557, 36.24000000000001, 'gini = 0.0\\nsamples = 15\\nvalue = [0, 0, 0, 15, 0]'),\n",
              " Text(140.33532934131736, 60.400000000000006, 'gini = 0.0\\nsamples = 673\\nvalue = [0, 0, 0, 673, 0]'),\n",
              " Text(146.3497005988024, 84.56, 'X[6] <= 4.5\\ngini = 0.444\\nsamples = 3\\nvalue = [0, 2, 0, 0, 1]'),\n",
              " Text(144.34491017964072, 60.400000000000006, 'gini = 0.0\\nsamples = 2\\nvalue = [0, 2, 0, 0, 0]'),\n",
              " Text(148.35449101796408, 60.400000000000006, 'gini = 0.0\\nsamples = 1\\nvalue = [0, 0, 0, 0, 1]'),\n",
              " Text(217.08121257485033, 181.2, 'X[2] <= 99.5\\ngini = 0.456\\nsamples = 2296556\\nvalue = [1535225, 713722, 0, 47609, 0]'),\n",
              " Text(168.40239520958085, 157.04, 'X[7] <= 0.597\\ngini = 0.038\\nsamples = 816329\\nvalue = [800660, 243, 0, 15426, 0]'),\n",
              " Text(158.37844311377248, 132.88, 'X[8] <= 0.047\\ngini = 0.026\\nsamples = 811072\\nvalue = [800556, 241, 0, 10275, 0]'),\n",
              " Text(154.36886227544912, 108.72, 'X[0] <= 48822.0\\ngini = 0.315\\nsamples = 50992\\nvalue = [41015, 0, 0, 9977, 0]'),\n",
              " Text(152.36407185628744, 84.56, 'gini = 0.0\\nsamples = 9977\\nvalue = [0, 0, 0, 9977, 0]'),\n",
              " Text(156.3736526946108, 84.56, 'gini = 0.0\\nsamples = 41015\\nvalue = [41015, 0, 0, 0, 0]'),\n",
              " Text(162.3880239520958, 108.72, 'X[8] <= 58.466\\ngini = 0.001\\nsamples = 760080\\nvalue = [759541, 241, 0, 298, 0]'),\n",
              " Text(160.38323353293413, 84.56, 'X[7] <= 0.379\\ngini = 0.001\\nsamples = 759946\\nvalue = [759541, 241, 0, 164, 0]'),\n",
              " Text(152.36407185628744, 60.400000000000006, 'X[0] <= 1408.5\\ngini = 0.0\\nsamples = 759540\\nvalue = [759351, 102, 0, 87, 0]'),\n",
              " Text(148.35449101796408, 36.24000000000001, 'X[9] <= 0.002\\ngini = 0.067\\nsamples = 2988\\nvalue = [2885, 102, 0, 1, 0]'),\n",
              " Text(146.3497005988024, 12.079999999999984, 'gini = 0.473\\nsamples = 258\\nvalue = [159, 99, 0, 0, 0]'),\n",
              " Text(150.35928143712576, 12.079999999999984, 'gini = 0.003\\nsamples = 2730\\nvalue = [2726, 3, 0, 1, 0]'),\n",
              " Text(156.3736526946108, 36.24000000000001, 'X[7] <= 0.356\\ngini = 0.0\\nsamples = 756552\\nvalue = [756466, 0, 0, 86, 0]'),\n",
              " Text(154.36886227544912, 12.079999999999984, 'gini = 0.0\\nsamples = 756550\\nvalue = [756466, 0, 0, 84, 0]'),\n",
              " Text(158.37844311377248, 12.079999999999984, 'gini = 0.0\\nsamples = 2\\nvalue = [0, 0, 0, 2, 0]'),\n",
              " Text(168.40239520958085, 60.400000000000006, 'X[0] <= 6614.5\\ngini = 0.628\\nsamples = 406\\nvalue = [190, 139, 0, 77, 0]'),\n",
              " Text(164.3928143712575, 36.24000000000001, 'X[0] <= 1204.0\\ngini = 0.494\\nsamples = 322\\nvalue = [182, 139, 0, 1, 0]'),\n",
              " Text(162.3880239520958, 12.079999999999984, 'gini = 0.406\\nsamples = 253\\nvalue = [182, 70, 0, 1, 0]'),\n",
              " Text(166.39760479041917, 12.079999999999984, 'gini = 0.0\\nsamples = 69\\nvalue = [0, 69, 0, 0, 0]'),\n",
              " Text(172.4119760479042, 36.24000000000001, 'X[0] <= 84520.5\\ngini = 0.172\\nsamples = 84\\nvalue = [8, 0, 0, 76, 0]'),\n",
              " Text(170.40718562874252, 12.079999999999984, 'gini = 0.0\\nsamples = 76\\nvalue = [0, 0, 0, 76, 0]'),\n",
              " Text(174.41676646706588, 12.079999999999984, 'gini = 0.0\\nsamples = 8\\nvalue = [8, 0, 0, 0, 0]'),\n",
              " Text(164.3928143712575, 84.56, 'gini = 0.0\\nsamples = 134\\nvalue = [0, 0, 0, 134, 0]'),\n",
              " Text(178.42634730538924, 132.88, 'X[0] <= 25963.0\\ngini = 0.04\\nsamples = 5257\\nvalue = [104, 2, 0, 5151, 0]'),\n",
              " Text(176.42155688622756, 108.72, 'X[3] <= 0.0\\ngini = 0.007\\nsamples = 5168\\nvalue = [15, 2, 0, 5151, 0]'),\n",
              " Text(174.41676646706588, 84.56, 'X[2] <= 71.0\\ngini = 0.208\\nsamples = 17\\nvalue = [15, 2, 0, 0, 0]'),\n",
              " Text(172.4119760479042, 60.400000000000006, 'gini = 0.0\\nsamples = 15\\nvalue = [15, 0, 0, 0, 0]'),\n",
              " Text(176.42155688622756, 60.400000000000006, 'gini = 0.0\\nsamples = 2\\nvalue = [0, 2, 0, 0, 0]'),\n",
              " Text(178.42634730538924, 84.56, 'gini = 0.0\\nsamples = 5151\\nvalue = [0, 0, 0, 5151, 0]'),\n",
              " Text(180.43113772455092, 108.72, 'gini = 0.0\\nsamples = 89\\nvalue = [89, 0, 0, 0, 0]'),\n",
              " Text(265.76002994011975, 157.04, 'X[8] <= 0.465\\ngini = 0.521\\nsamples = 1480227\\nvalue = [734565, 713479, 0, 32183, 0]'),\n",
              " Text(229.04730538922158, 132.88, 'X[4] <= 3.5\\ngini = 0.495\\nsamples = 1019731\\nvalue = [364206, 626009, 0, 29516, 0]'),\n",
              " Text(205.9922155688623, 108.72, 'X[8] <= 0.179\\ngini = 0.532\\nsamples = 555997\\nvalue = [314775, 211706, 0, 29516, 0]'),\n",
              " Text(192.45988023952097, 84.56, 'X[8] <= 0.05\\ngini = 0.547\\nsamples = 373237\\nvalue = [132147, 211574, 0, 29516, 0]'),\n",
              " Text(184.44071856287425, 60.400000000000006, 'X[0] <= 45026.5\\ngini = 0.504\\nsamples = 57416\\nvalue = [27662, 238, 0, 29516, 0]'),\n",
              " Text(180.43113772455092, 36.24000000000001, 'X[8] <= 0.017\\ngini = 0.015\\nsamples = 29748\\nvalue = [0, 232, 0, 29516, 0]'),\n",
              " Text(178.42634730538924, 12.079999999999984, 'gini = 0.0\\nsamples = 29516\\nvalue = [0, 0, 0, 29516, 0]'),\n",
              " Text(182.43592814371257, 12.079999999999984, 'gini = 0.0\\nsamples = 232\\nvalue = [0, 232, 0, 0, 0]'),\n",
              " Text(188.4502994011976, 36.24000000000001, 'X[3] <= 0.008\\ngini = 0.0\\nsamples = 27668\\nvalue = [27662, 6, 0, 0, 0]'),\n",
              " Text(186.44550898203593, 12.079999999999984, 'gini = 0.0\\nsamples = 27662\\nvalue = [27660, 2, 0, 0, 0]'),\n",
              " Text(190.4550898203593, 12.079999999999984, 'gini = 0.444\\nsamples = 6\\nvalue = [2, 4, 0, 0, 0]'),\n",
              " Text(200.4790419161677, 60.400000000000006, 'X[1] <= 0.08\\ngini = 0.443\\nsamples = 315821\\nvalue = [104485, 211336, 0, 0, 0]'),\n",
              " Text(196.46946107784433, 36.24000000000001, 'X[8] <= 0.103\\ngini = 0.269\\nsamples = 199133\\nvalue = [31864, 167269, 0, 0, 0]'),\n",
              " Text(194.46467065868265, 12.079999999999984, 'gini = 0.489\\nsamples = 66018\\nvalue = [28101, 37917, 0, 0, 0]'),\n",
              " Text(198.474251497006, 12.079999999999984, 'gini = 0.055\\nsamples = 133115\\nvalue = [3763, 129352, 0, 0, 0]'),\n",
              " Text(204.48862275449102, 36.24000000000001, 'X[9] <= 4.506\\ngini = 0.47\\nsamples = 116688\\nvalue = [72621, 44067, 0, 0, 0]'),\n",
              " Text(202.48383233532937, 12.079999999999984, 'gini = 0.345\\nsamples = 84663\\nvalue = [65904, 18759, 0, 0, 0]'),\n",
              " Text(206.4934131736527, 12.079999999999984, 'gini = 0.332\\nsamples = 32025\\nvalue = [6717, 25308, 0, 0, 0]'),\n",
              " Text(219.52455089820361, 84.56, 'X[0] <= 1045.5\\ngini = 0.001\\nsamples = 182760\\nvalue = [182628, 132, 0, 0, 0]'),\n",
              " Text(214.51257485029942, 60.400000000000006, 'X[7] <= 0.207\\ngini = 0.154\\nsamples = 1369\\nvalue = [1254, 115, 0, 0, 0]'),\n",
              " Text(212.50778443113774, 36.24000000000001, 'X[8] <= 0.213\\ngini = 0.013\\nsamples = 1262\\nvalue = [1254, 8, 0, 0, 0]'),\n",
              " Text(210.50299401197606, 12.079999999999984, 'gini = 0.0\\nsamples = 8\\nvalue = [0, 8, 0, 0, 0]'),\n",
              " Text(214.51257485029942, 12.079999999999984, 'gini = 0.0\\nsamples = 1254\\nvalue = [1254, 0, 0, 0, 0]'),\n",
              " Text(216.5173652694611, 36.24000000000001, 'gini = 0.0\\nsamples = 107\\nvalue = [0, 107, 0, 0, 0]'),\n",
              " Text(224.5365269461078, 60.400000000000006, 'X[8] <= 0.197\\ngini = 0.0\\nsamples = 181391\\nvalue = [181374, 17, 0, 0, 0]'),\n",
              " Text(220.52694610778445, 36.24000000000001, 'X[7] <= 0.135\\ngini = 0.005\\nsamples = 4660\\nvalue = [4648, 12, 0, 0, 0]'),\n",
              " Text(218.52215568862277, 12.079999999999984, 'gini = 0.004\\nsamples = 4658\\nvalue = [4648, 10, 0, 0, 0]'),\n",
              " Text(222.53173652694613, 12.079999999999984, 'gini = 0.0\\nsamples = 2\\nvalue = [0, 2, 0, 0, 0]'),\n",
              " Text(228.54610778443114, 36.24000000000001, 'X[7] <= 0.053\\ngini = 0.0\\nsamples = 176731\\nvalue = [176726, 5, 0, 0, 0]'),\n",
              " Text(226.54131736526946, 12.079999999999984, 'gini = 0.0\\nsamples = 162802\\nvalue = [162801, 1, 0, 0, 0]'),\n",
              " Text(230.55089820359282, 12.079999999999984, 'gini = 0.001\\nsamples = 13929\\nvalue = [13925, 4, 0, 0, 0]'),\n",
              " Text(252.10239520958086, 108.72, 'X[8] <= 0.369\\ngini = 0.19\\nsamples = 463734\\nvalue = [49431, 414303, 0, 0, 0]'),\n",
              " Text(242.5796407185629, 84.56, 'X[4] <= 5.5\\ngini = 0.023\\nsamples = 314339\\nvalue = [3715, 310624, 0, 0, 0]'),\n",
              " Text(240.57485029940122, 60.400000000000006, 'X[8] <= 0.309\\ngini = 0.019\\nsamples = 313571\\nvalue = [2947, 310624, 0, 0, 0]'),\n",
              " Text(236.56526946107786, 36.24000000000001, 'X[5] <= 0.702\\ngini = 0.002\\nsamples = 293816\\nvalue = [234, 293582, 0, 0, 0]'),\n",
              " Text(234.56047904191618, 12.079999999999984, 'gini = 0.0\\nsamples = 38\\nvalue = [38, 0, 0, 0, 0]'),\n",
              " Text(238.57005988023954, 12.079999999999984, 'gini = 0.001\\nsamples = 293778\\nvalue = [196, 293582, 0, 0, 0]'),\n",
              " Text(244.58443113772458, 36.24000000000001, 'X[1] <= 1.619\\ngini = 0.237\\nsamples = 19755\\nvalue = [2713, 17042, 0, 0, 0]'),\n",
              " Text(242.5796407185629, 12.079999999999984, 'gini = 0.101\\nsamples = 17795\\nvalue = [951, 16844, 0, 0, 0]'),\n",
              " Text(246.58922155688623, 12.079999999999984, 'gini = 0.182\\nsamples = 1960\\nvalue = [1762, 198, 0, 0, 0]'),\n",
              " Text(244.58443113772458, 60.400000000000006, 'gini = 0.0\\nsamples = 768\\nvalue = [768, 0, 0, 0, 0]'),\n",
              " Text(261.6251497005988, 84.56, 'X[1] <= 1.879\\ngini = 0.425\\nsamples = 149395\\nvalue = [45716, 103679, 0, 0, 0]'),\n",
              " Text(256.6131736526946, 60.400000000000006, 'X[5] <= 2.79\\ngini = 0.309\\nsamples = 128070\\nvalue = [24461, 103609, 0, 0, 0]'),\n",
              " Text(252.60359281437127, 36.24000000000001, 'X[1] <= 0.684\\ngini = 0.498\\nsamples = 26568\\nvalue = [12488, 14080, 0, 0, 0]'),\n",
              " Text(250.5988023952096, 12.079999999999984, 'gini = 0.0\\nsamples = 14054\\nvalue = [0, 14054, 0, 0, 0]'),\n",
              " Text(254.60838323353295, 12.079999999999984, 'gini = 0.004\\nsamples = 12514\\nvalue = [12488, 26, 0, 0, 0]'),\n",
              " Text(260.622754491018, 36.24000000000001, 'X[0] <= 216275.0\\ngini = 0.208\\nsamples = 101502\\nvalue = [11973, 89529, 0, 0, 0]'),\n",
              " Text(258.6179640718563, 12.079999999999984, 'gini = 0.111\\nsamples = 84700\\nvalue = [4989, 79711, 0, 0, 0]'),\n",
              " Text(262.62754491017967, 12.079999999999984, 'gini = 0.486\\nsamples = 16802\\nvalue = [6984, 9818, 0, 0, 0]'),\n",
              " Text(266.637125748503, 60.400000000000006, 'X[8] <= 0.427\\ngini = 0.007\\nsamples = 21325\\nvalue = [21255, 70, 0, 0, 0]'),\n",
              " Text(264.63233532934134, 36.24000000000001, 'gini = 0.0\\nsamples = 21255\\nvalue = [21255, 0, 0, 0, 0]'),\n",
              " Text(268.6419161676647, 36.24000000000001, 'gini = 0.0\\nsamples = 70\\nvalue = [0, 70, 0, 0, 0]'),\n",
              " Text(302.472754491018, 132.88, 'X[5] <= 0.212\\ngini = 0.317\\nsamples = 460496\\nvalue = [370359, 87470, 0, 2667, 0]'),\n",
              " Text(281.17185628742516, 108.72, 'X[0] <= 172726.0\\ngini = 0.181\\nsamples = 46984\\nvalue = [2074, 42406, 0, 2504, 0]'),\n",
              " Text(272.65149700598806, 84.56, 'X[9] <= 0.035\\ngini = 0.5\\nsamples = 4503\\nvalue = [1965, 34, 0, 2504, 0]'),\n",
              " Text(270.6467065868264, 60.400000000000006, 'gini = 0.0\\nsamples = 2504\\nvalue = [0, 0, 0, 2504, 0]'),\n",
              " Text(274.65628742514974, 60.400000000000006, 'X[9] <= 0.126\\ngini = 0.033\\nsamples = 1999\\nvalue = [1965, 34, 0, 0, 0]'),\n",
              " Text(272.65149700598806, 36.24000000000001, 'gini = 0.0\\nsamples = 34\\nvalue = [0, 34, 0, 0, 0]'),\n",
              " Text(276.6610778443114, 36.24000000000001, 'gini = 0.0\\nsamples = 1965\\nvalue = [1965, 0, 0, 0, 0]'),\n",
              " Text(289.6922155688623, 84.56, 'X[8] <= 5.083\\ngini = 0.005\\nsamples = 42481\\nvalue = [109, 42372, 0, 0, 0]'),\n",
              " Text(284.6802395209581, 60.400000000000006, 'X[9] <= 0.197\\ngini = 0.046\\nsamples = 4115\\nvalue = [98, 4017, 0, 0, 0]'),\n",
              " Text(280.6706586826347, 36.24000000000001, 'X[0] <= 240847.0\\ngini = 0.245\\nsamples = 28\\nvalue = [24, 4, 0, 0, 0]'),\n",
              " Text(278.66586826347304, 12.079999999999984, 'gini = 0.0\\nsamples = 24\\nvalue = [24, 0, 0, 0, 0]'),\n",
              " Text(282.6754491017964, 12.079999999999984, 'gini = 0.0\\nsamples = 4\\nvalue = [0, 4, 0, 0, 0]'),\n",
              " Text(288.68982035928144, 36.24000000000001, 'X[0] <= 207776.0\\ngini = 0.036\\nsamples = 4087\\nvalue = [74, 4013, 0, 0, 0]'),\n",
              " Text(286.68502994011976, 12.079999999999984, 'gini = 0.0\\nsamples = 5\\nvalue = [5, 0, 0, 0, 0]'),\n",
              " Text(290.6946107784431, 12.079999999999984, 'gini = 0.033\\nsamples = 4082\\nvalue = [69, 4013, 0, 0, 0]'),\n",
              " Text(294.7041916167665, 60.400000000000006, 'X[0] <= 248889.5\\ngini = 0.001\\nsamples = 38366\\nvalue = [11, 38355, 0, 0, 0]'),\n",
              " Text(292.6994011976048, 36.24000000000001, 'gini = 0.0\\nsamples = 26446\\nvalue = [0, 26446, 0, 0, 0]'),\n",
              " Text(296.70898203592816, 36.24000000000001, 'X[0] <= 248901.5\\ngini = 0.002\\nsamples = 11920\\nvalue = [11, 11909, 0, 0, 0]'),\n",
              " Text(294.7041916167665, 12.079999999999984, 'gini = 0.435\\nsamples = 25\\nvalue = [8, 17, 0, 0, 0]'),\n",
              " Text(298.71377245508984, 12.079999999999984, 'gini = 0.001\\nsamples = 11895\\nvalue = [3, 11892, 0, 0, 0]'),\n",
              " Text(323.7736526946108, 108.72, 'X[5] <= 4.589\\ngini = 0.195\\nsamples = 413512\\nvalue = [368285, 45064, 0, 163, 0]'),\n",
              " Text(316.75688622754495, 84.56, 'X[3] <= 0.24\\ngini = 0.153\\nsamples = 401846\\nvalue = [368220, 33463, 0, 163, 0]'),\n",
              " Text(308.73772455089824, 60.400000000000006, 'X[5] <= 3.023\\ngini = 0.386\\nsamples = 109066\\nvalue = [80564, 28495, 0, 7, 0]'),\n",
              " Text(304.7281437125749, 36.24000000000001, 'X[5] <= 2.051\\ngini = 0.044\\nsamples = 81235\\nvalue = [79386, 1842, 0, 7, 0]'),\n",
              " Text(302.7233532934132, 12.079999999999984, 'gini = 0.487\\nsamples = 4336\\nvalue = [2538, 1791, 0, 7, 0]'),\n",
              " Text(306.73293413173656, 12.079999999999984, 'gini = 0.001\\nsamples = 76899\\nvalue = [76848, 51, 0, 0, 0]'),\n",
              " Text(312.7473053892216, 36.24000000000001, 'X[1] <= 2.046\\ngini = 0.081\\nsamples = 27831\\nvalue = [1178, 26653, 0, 0, 0]'),\n",
              " Text(310.7425149700599, 12.079999999999984, 'gini = 0.0\\nsamples = 26653\\nvalue = [0, 26653, 0, 0, 0]'),\n",
              " Text(314.7520958083833, 12.079999999999984, 'gini = 0.0\\nsamples = 1178\\nvalue = [1178, 0, 0, 0, 0]'),\n",
              " Text(324.7760479041916, 60.400000000000006, 'X[3] <= 1.751\\ngini = 0.034\\nsamples = 292780\\nvalue = [287656, 4968, 0, 156, 0]'),\n",
              " Text(320.76646706586826, 36.24000000000001, 'X[5] <= 4.038\\ngini = 0.218\\nsamples = 41084\\nvalue = [35986, 4942, 0, 156, 0]'),\n",
              " Text(318.76167664670663, 12.079999999999984, 'gini = 0.016\\nsamples = 36286\\nvalue = [35986, 144, 0, 156, 0]'),\n",
              " Text(322.77125748502993, 12.079999999999984, 'gini = 0.0\\nsamples = 4798\\nvalue = [0, 4798, 0, 0, 0]'),\n",
              " Text(328.785628742515, 36.24000000000001, 'X[1] <= 0.0\\ngini = 0.0\\nsamples = 251696\\nvalue = [251670, 26, 0, 0, 0]'),\n",
              " Text(326.7808383233533, 12.079999999999984, 'gini = 0.5\\nsamples = 6\\nvalue = [3, 3, 0, 0, 0]'),\n",
              " Text(330.79041916167665, 12.079999999999984, 'gini = 0.0\\nsamples = 251690\\nvalue = [251667, 23, 0, 0, 0]'),\n",
              " Text(330.79041916167665, 84.56, 'X[5] <= 4.891\\ngini = 0.011\\nsamples = 11666\\nvalue = [65, 11601, 0, 0, 0]'),\n",
              " Text(328.785628742515, 60.400000000000006, 'gini = 0.0\\nsamples = 11601\\nvalue = [0, 11601, 0, 0, 0]'),\n",
              " Text(332.79520958083833, 60.400000000000006, 'gini = 0.0\\nsamples = 65\\nvalue = [65, 0, 0, 0, 0]')]"
            ]
          },
          "metadata": {
            "tags": []
          },
          "execution_count": 26
        },
        {
          "output_type": "display_data",
          "data": {
            "image/png": "[encoded data removed]",
            "text/plain": [
              "<Figure size 432x288 with 1 Axes>"
            ]
          },
          "metadata": {
            "tags": [],
            "needs_background": "light"
          }
        }
      ]
    },
    {
      "cell_type": "code",
      "metadata": {
        "colab": {
          "base_uri": "https://localhost:8080/"
        },
        "id": "OVKaeoCsTW77",
        "outputId": "221501fe-0e8c-4430-8ddc-d0746a513dc2"
      },
      "source": [
        "#calcuating accuracy of the model on testing set\n",
        "Predt_cat = clf1.predict(X_cat_test)\n",
        "\n",
        "#calculate accuracy\n",
        "print (accuracy_score(Y_cat_test, Predt_cat)*100)"
      ],
      "execution_count": null,
      "outputs": [
        {
          "output_type": "stream",
          "text": [
            "97.45279097184836\n"
          ],
          "name": "stdout"
        }
      ]
    },
    {
      "cell_type": "code",
      "metadata": {
        "id": "DxmdgkW2TZOF"
      },
      "source": [
        "#dependent and independent variables\n",
        "X_subcat_train = df.iloc[:, 0:12]\n",
        "Y_subcat_train = df.loc[:, 'subcategory']\n",
        "\n",
        "X_subcat_test =dfTEST.iloc[:, 0:10]\n",
        "\n",
        "X_subcat_test['attack']=Predt1\n",
        "X_subcat_test['category']=Predt_cat\n",
        "Y_subcat_test=dfTEST.loc[:, 'subcategory']"
      ],
      "execution_count": null,
      "outputs": []
    },
    {
      "cell_type": "code",
      "metadata": {
        "id": "-zyz35Y9Tbyt",
        "colab": {
          "base_uri": "https://localhost:8080/"
        },
        "outputId": "a5ca98f9-7051-4160-c214-2d50f4007657"
      },
      "source": [
        "#making classifier\n",
        "clf2 = DecisionTreeClassifier(criterion='gini' , max_depth=8)\n",
        "#Training the classifier\n",
        "clf2.fit(X_subcat_train, Y_subcat_train)"
      ],
      "execution_count": null,
      "outputs": [
        {
          "output_type": "execute_result",
          "data": {
            "text/plain": [
              "DecisionTreeClassifier(ccp_alpha=0.0, class_weight=None, criterion='gini',\n",
              "                       max_depth=8, max_features=None, max_leaf_nodes=None,\n",
              "                       min_impurity_decrease=0.0, min_impurity_split=None,\n",
              "                       min_samples_leaf=1, min_samples_split=2,\n",
              "                       min_weight_fraction_leaf=0.0, presort='deprecated',\n",
              "                       random_state=None, splitter='best')"
            ]
          },
          "metadata": {
            "tags": []
          },
          "execution_count": 30
        }
      ]
    },
    {
      "cell_type": "code",
      "metadata": {
        "id": "ug1bqvEjTd-U",
        "colab": {
          "base_uri": "https://localhost:8080/"
        },
        "outputId": "209e2ce0-f1f7-433d-c281-2b768e5cf2ab"
      },
      "source": [
        "#calcuating accuracy of the model on validation set\n",
        "Predt_subcat = clf2.predict(X_subcat_test)\n",
        "\n",
        "#calculate accuracy\n",
        "print (accuracy_score(Y_subcat_test, Predt_subcat)*100)"
      ],
      "execution_count": null,
      "outputs": [
        {
          "output_type": "stream",
          "text": [
            "99.74335734389162\n"
          ],
          "name": "stdout"
        }
      ]
    },
    {
      "cell_type": "code",
      "metadata": {
        "colab": {
          "background_save": true
        },
        "id": "CnHyU15xThRk",
        "outputId": "ee6d4437-7c54-4bc2-da07-791bb95fc9b7"
      },
      "source": [
        "#visualize the tree\n",
        "tree.plot_tree(clf2)"
      ],
      "execution_count": null,
      "outputs": [
        {
          "output_type": "execute_result",
          "data": {
            "text/plain": [
              "[Text(211.04466240875914, 205.35999999999999, 'X[4] <= 3.5\\ngini = 0.519\\nsamples = 2934817\\nvalue = [6, 1970, 59, 370, 14293, 58626, 1274843, 1584650]'),\n",
              " Text(131.6594890510949, 181.2, 'X[11] <= 1.5\\ngini = 0.075\\nsamples = 1323763\\nvalue = [1, 1968, 48, 235, 13725, 34915, 1272844, 27]'),\n",
              " Text(70.564598540146, 157.04, 'X[7] <= 0.345\\ngini = 0.003\\nsamples = 1274839\\nvalue = [0, 1968, 0, 0, 0, 0, 1272844, 27]'),\n",
              " Text(40.933576642335765, 132.88, 'X[0] <= 1110.5\\ngini = 0.002\\nsamples = 1273952\\nvalue = [0, 1290, 0, 0, 0, 0, 1272639, 23]'),\n",
              " Text(19.55036496350365, 108.72, 'X[7] <= 0.166\\ngini = 0.263\\nsamples = 7256\\nvalue = [0, 1129, 0, 0, 0, 0, 6127, 0]'),\n",
              " Text(9.775182481751825, 84.56, 'X[1] <= 1.986\\ngini = 0.043\\nsamples = 5999\\nvalue = [0, 133, 0, 0, 0, 0, 5866, 0]'),\n",
              " Text(4.887591240875913, 60.400000000000006, 'X[8] <= 0.018\\ngini = 0.018\\nsamples = 5875\\nvalue = [0, 54, 0, 0, 0, 0, 5821, 0]'),\n",
              " Text(2.4437956204379563, 36.24000000000001, 'gini = 0.0\\nsamples = 7\\nvalue = [0, 7, 0, 0, 0, 0, 0, 0]'),\n",
              " Text(7.331386861313868, 36.24000000000001, 'X[5] <= 3.559\\ngini = 0.016\\nsamples = 5868\\nvalue = [0, 47, 0, 0, 0, 0, 5821, 0]'),\n",
              " Text(4.887591240875913, 12.079999999999984, 'gini = 0.014\\nsamples = 5861\\nvalue = [0, 40, 0, 0, 0, 0, 5821, 0]'),\n",
              " Text(9.775182481751825, 12.079999999999984, 'gini = 0.0\\nsamples = 7\\nvalue = [0, 7, 0, 0, 0, 0, 0, 0]'),\n",
              " Text(14.662773722627737, 60.400000000000006, 'X[8] <= 0.157\\ngini = 0.462\\nsamples = 124\\nvalue = [0, 79, 0, 0, 0, 0, 45, 0]'),\n",
              " Text(12.218978102189782, 36.24000000000001, 'gini = 0.0\\nsamples = 45\\nvalue = [0, 0, 0, 0, 0, 0, 45, 0]'),\n",
              " Text(17.106569343065694, 36.24000000000001, 'gini = 0.0\\nsamples = 79\\nvalue = [0, 79, 0, 0, 0, 0, 0, 0]'),\n",
              " Text(29.325547445255474, 84.56, 'X[5] <= 2.117\\ngini = 0.329\\nsamples = 1257\\nvalue = [0, 996, 0, 0, 0, 0, 261, 0]'),\n",
              " Text(24.437956204379564, 60.400000000000006, 'X[6] <= 6.5\\ngini = 0.014\\nsamples = 978\\nvalue = [0, 971, 0, 0, 0, 0, 7, 0]'),\n",
              " Text(21.994160583941607, 36.24000000000001, 'gini = 0.0\\nsamples = 6\\nvalue = [0, 0, 0, 0, 0, 0, 6, 0]'),\n",
              " Text(26.88175182481752, 36.24000000000001, 'X[4] <= 2.0\\ngini = 0.002\\nsamples = 972\\nvalue = [0, 971, 0, 0, 0, 0, 1, 0]'),\n",
              " Text(24.437956204379564, 12.079999999999984, 'gini = 0.0\\nsamples = 971\\nvalue = [0, 971, 0, 0, 0, 0, 0, 0]'),\n",
              " Text(29.325547445255474, 12.079999999999984, 'gini = 0.0\\nsamples = 1\\nvalue = [0, 0, 0, 0, 0, 0, 1, 0]'),\n",
              " Text(34.21313868613139, 60.400000000000006, 'X[9] <= 3.449\\ngini = 0.163\\nsamples = 279\\nvalue = [0, 25, 0, 0, 0, 0, 254, 0]'),\n",
              " Text(31.76934306569343, 36.24000000000001, 'gini = 0.0\\nsamples = 254\\nvalue = [0, 0, 0, 0, 0, 0, 254, 0]'),\n",
              " Text(36.65693430656935, 36.24000000000001, 'gini = 0.0\\nsamples = 25\\nvalue = [0, 25, 0, 0, 0, 0, 0, 0]'),\n",
              " Text(62.316788321167884, 108.72, 'X[0] <= 1488.5\\ngini = 0.0\\nsamples = 1266696\\nvalue = [0, 161, 0, 0, 0, 0, 1266512, 23]'),\n",
              " Text(48.87591240875913, 84.56, 'X[7] <= 0.162\\ngini = 0.13\\nsamples = 2306\\nvalue = [0, 161, 0, 0, 0, 0, 2145, 0]'),\n",
              " Text(43.988321167883214, 60.400000000000006, 'X[8] <= 0.511\\ngini = 0.004\\nsamples = 1874\\nvalue = [0, 4, 0, 0, 0, 0, 1870, 0]'),\n",
              " Text(41.544525547445254, 36.24000000000001, 'gini = 0.0\\nsamples = 1870\\nvalue = [0, 0, 0, 0, 0, 0, 1870, 0]'),\n",
              " Text(46.43211678832117, 36.24000000000001, 'gini = 0.0\\nsamples = 4\\nvalue = [0, 4, 0, 0, 0, 0, 0, 0]'),\n",
              " Text(53.76350364963504, 60.400000000000006, 'X[9] <= 2.852\\ngini = 0.463\\nsamples = 432\\nvalue = [0, 157, 0, 0, 0, 0, 275, 0]'),\n",
              " Text(51.31970802919708, 36.24000000000001, 'gini = 0.0\\nsamples = 157\\nvalue = [0, 157, 0, 0, 0, 0, 0, 0]'),\n",
              " Text(56.207299270072994, 36.24000000000001, 'gini = 0.0\\nsamples = 275\\nvalue = [0, 0, 0, 0, 0, 0, 275, 0]'),\n",
              " Text(75.75766423357665, 84.56, 'X[6] <= 1.5\\ngini = 0.0\\nsamples = 1264390\\nvalue = [0, 0, 0, 0, 0, 0, 1264367, 23]'),\n",
              " Text(65.98248175182482, 60.400000000000006, 'X[0] <= 246922.0\\ngini = 0.295\\nsamples = 78\\nvalue = [0, 0, 0, 0, 0, 0, 64, 14]'),\n",
              " Text(61.09489051094891, 36.24000000000001, 'X[8] <= 0.045\\ngini = 0.087\\nsamples = 66\\nvalue = [0, 0, 0, 0, 0, 0, 63, 3]'),\n",
              " Text(58.65109489051095, 12.079999999999984, 'gini = 0.355\\nsamples = 13\\nvalue = [0, 0, 0, 0, 0, 0, 10, 3]'),\n",
              " Text(63.53868613138686, 12.079999999999984, 'gini = 0.0\\nsamples = 53\\nvalue = [0, 0, 0, 0, 0, 0, 53, 0]'),\n",
              " Text(70.87007299270073, 36.24000000000001, 'X[3] <= 0.06\\ngini = 0.153\\nsamples = 12\\nvalue = [0, 0, 0, 0, 0, 0, 1, 11]'),\n",
              " Text(68.42627737226277, 12.079999999999984, 'gini = 0.0\\nsamples = 11\\nvalue = [0, 0, 0, 0, 0, 0, 0, 11]'),\n",
              " Text(73.3138686131387, 12.079999999999984, 'gini = 0.0\\nsamples = 1\\nvalue = [0, 0, 0, 0, 0, 0, 1, 0]'),\n",
              " Text(85.53284671532847, 60.400000000000006, 'X[0] <= 262156.5\\ngini = 0.0\\nsamples = 1264312\\nvalue = [0, 0, 0, 0, 0, 0, 1264303, 9]'),\n",
              " Text(80.64525547445255, 36.24000000000001, 'X[2] <= 1.5\\ngini = 0.0\\nsamples = 1264254\\nvalue = [0, 0, 0, 0, 0, 0, 1264248, 6]'),\n",
              " Text(78.2014598540146, 12.079999999999984, 'gini = 0.02\\nsamples = 101\\nvalue = [0, 0, 0, 0, 0, 0, 100, 1]'),\n",
              " Text(83.08905109489051, 12.079999999999984, 'gini = 0.0\\nsamples = 1264153\\nvalue = [0, 0, 0, 0, 0, 0, 1264148, 5]'),\n",
              " Text(90.42043795620438, 36.24000000000001, 'X[5] <= 1.094\\ngini = 0.098\\nsamples = 58\\nvalue = [0, 0, 0, 0, 0, 0, 55, 3]'),\n",
              " Text(87.97664233576643, 12.079999999999984, 'gini = 0.035\\nsamples = 56\\nvalue = [0, 0, 0, 0, 0, 0, 55, 1]'),\n",
              " Text(92.86423357664233, 12.079999999999984, 'gini = 0.0\\nsamples = 2\\nvalue = [0, 0, 0, 0, 0, 0, 0, 2]'),\n",
              " Text(100.19562043795621, 132.88, 'X[0] <= 1352.5\\ngini = 0.362\\nsamples = 887\\nvalue = [0, 678, 0, 0, 0, 0, 205, 4]'),\n",
              " Text(97.75182481751825, 108.72, 'gini = 0.0\\nsamples = 678\\nvalue = [0, 678, 0, 0, 0, 0, 0, 0]'),\n",
              " Text(102.63941605839416, 108.72, 'X[2] <= 2.5\\ngini = 0.038\\nsamples = 209\\nvalue = [0, 0, 0, 0, 0, 0, 205, 4]'),\n",
              " Text(100.19562043795621, 84.56, 'X[9] <= 4.271\\ngini = 0.49\\nsamples = 7\\nvalue = [0, 0, 0, 0, 0, 0, 3, 4]'),\n",
              " Text(97.75182481751825, 60.400000000000006, 'X[9] <= 2.539\\ngini = 0.375\\nsamples = 4\\nvalue = [0, 0, 0, 0, 0, 0, 3, 1]'),\n",
              " Text(95.3080291970803, 36.24000000000001, 'gini = 0.0\\nsamples = 1\\nvalue = [0, 0, 0, 0, 0, 0, 0, 1]'),\n",
              " Text(100.19562043795621, 36.24000000000001, 'gini = 0.0\\nsamples = 3\\nvalue = [0, 0, 0, 0, 0, 0, 3, 0]'),\n",
              " Text(102.63941605839416, 60.400000000000006, 'gini = 0.0\\nsamples = 3\\nvalue = [0, 0, 0, 0, 0, 0, 0, 3]'),\n",
              " Text(105.08321167883211, 84.56, 'gini = 0.0\\nsamples = 202\\nvalue = [0, 0, 0, 0, 0, 0, 202, 0]'),\n",
              " Text(192.7543795620438, 157.04, 'X[0] <= 18278.5\\ngini = 0.412\\nsamples = 48924\\nvalue = [1, 0, 48, 235, 13725, 34915, 0, 0]'),\n",
              " Text(171.06569343065695, 132.88, 'X[0] <= 9247.5\\ngini = 0.468\\nsamples = 38349\\nvalue = [1, 0, 48, 205, 13725, 24370, 0, 0]'),\n",
              " Text(135.0197080291971, 108.72, 'X[2] <= 37.0\\ngini = 0.415\\nsamples = 25586\\nvalue = [1, 0, 48, 170, 7161, 18206, 0, 0]'),\n",
              " Text(116.08029197080292, 84.56, 'X[2] <= 23.5\\ngini = 0.135\\nsamples = 5948\\nvalue = [1, 0, 9, 123, 291, 5524, 0, 0]'),\n",
              " Text(107.52700729927008, 60.400000000000006, 'X[10] <= 0.5\\ngini = 0.63\\nsamples = 629\\nvalue = [1, 0, 9, 100, 230, 289, 0, 0]'),\n",
              " Text(105.08321167883211, 36.24000000000001, 'gini = 0.0\\nsamples = 100\\nvalue = [0, 0, 0, 100, 0, 0, 0, 0]'),\n",
              " Text(109.97080291970804, 36.24000000000001, 'X[6] <= 99.0\\ngini = 0.512\\nsamples = 529\\nvalue = [1, 0, 9, 0, 230, 289, 0, 0]'),\n",
              " Text(107.52700729927008, 12.079999999999984, 'gini = 0.456\\nsamples = 380\\nvalue = [1, 0, 9, 0, 114, 256, 0, 0]'),\n",
              " Text(112.41459854014599, 12.079999999999984, 'gini = 0.345\\nsamples = 149\\nvalue = [0, 0, 0, 0, 116, 33, 0, 0]'),\n",
              " Text(124.63357664233577, 60.400000000000006, 'X[6] <= 61.0\\ngini = 0.031\\nsamples = 5319\\nvalue = [0, 0, 0, 23, 61, 5235, 0, 0]'),\n",
              " Text(119.74598540145986, 36.24000000000001, 'X[10] <= 0.5\\ngini = 0.498\\nsamples = 43\\nvalue = [0, 0, 0, 23, 20, 0, 0, 0]'),\n",
              " Text(117.3021897810219, 12.079999999999984, 'gini = 0.0\\nsamples = 23\\nvalue = [0, 0, 0, 23, 0, 0, 0, 0]'),\n",
              " Text(122.18978102189782, 12.079999999999984, 'gini = 0.0\\nsamples = 20\\nvalue = [0, 0, 0, 0, 20, 0, 0, 0]'),\n",
              " Text(129.5211678832117, 36.24000000000001, 'X[3] <= 0.0\\ngini = 0.015\\nsamples = 5276\\nvalue = [0, 0, 0, 0, 41, 5235, 0, 0]'),\n",
              " Text(127.07737226277372, 12.079999999999984, 'gini = 0.01\\nsamples = 5189\\nvalue = [0, 0, 0, 0, 25, 5164, 0, 0]'),\n",
              " Text(131.96496350364964, 12.079999999999984, 'gini = 0.3\\nsamples = 87\\nvalue = [0, 0, 0, 0, 16, 71, 0, 0]'),\n",
              " Text(153.95912408759125, 84.56, 'X[8] <= 0.938\\ngini = 0.461\\nsamples = 19638\\nvalue = [0, 0, 39, 47, 6870, 12682, 0, 0]'),\n",
              " Text(144.1839416058394, 60.400000000000006, 'X[2] <= 56.5\\ngini = 0.49\\nsamples = 16667\\nvalue = [0, 0, 39, 47, 6841, 9740, 0, 0]'),\n",
              " Text(139.2963503649635, 36.24000000000001, 'X[0] <= 5139.0\\ngini = 0.293\\nsamples = 971\\nvalue = [0, 0, 39, 0, 806, 126, 0, 0]'),\n",
              " Text(136.85255474452555, 12.079999999999984, 'gini = 0.561\\nsamples = 152\\nvalue = [0, 0, 39, 0, 23, 90, 0, 0]'),\n",
              " Text(141.74014598540145, 12.079999999999984, 'gini = 0.084\\nsamples = 819\\nvalue = [0, 0, 0, 0, 783, 36, 0, 0]'),\n",
              " Text(149.07153284671534, 36.24000000000001, 'X[9] <= 0.0\\ngini = 0.477\\nsamples = 15696\\nvalue = [0, 0, 0, 47, 6035, 9614, 0, 0]'),\n",
              " Text(146.6277372262774, 12.079999999999984, 'gini = 0.499\\nsamples = 6535\\nvalue = [0, 0, 0, 0, 3388, 3147, 0, 0]'),\n",
              " Text(151.5153284671533, 12.079999999999984, 'gini = 0.418\\nsamples = 9161\\nvalue = [0, 0, 0, 47, 2647, 6467, 0, 0]'),\n",
              " Text(163.73430656934306, 60.400000000000006, 'X[8] <= 2284.652\\ngini = 0.019\\nsamples = 2971\\nvalue = [0, 0, 0, 0, 29, 2942, 0, 0]'),\n",
              " Text(158.84671532846716, 36.24000000000001, 'X[3] <= 0.055\\ngini = 0.001\\nsamples = 2917\\nvalue = [0, 0, 0, 0, 1, 2916, 0, 0]'),\n",
              " Text(156.4029197080292, 12.079999999999984, 'gini = 0.0\\nsamples = 2916\\nvalue = [0, 0, 0, 0, 0, 2916, 0, 0]'),\n",
              " Text(161.2905109489051, 12.079999999999984, 'gini = 0.0\\nsamples = 1\\nvalue = [0, 0, 0, 0, 1, 0, 0, 0]'),\n",
              " Text(168.621897810219, 36.24000000000001, 'X[0] <= 3173.0\\ngini = 0.499\\nsamples = 54\\nvalue = [0, 0, 0, 0, 28, 26, 0, 0]'),\n",
              " Text(166.17810218978101, 12.079999999999984, 'gini = 0.418\\nsamples = 37\\nvalue = [0, 0, 0, 0, 11, 26, 0, 0]'),\n",
              " Text(171.06569343065695, 12.079999999999984, 'gini = 0.0\\nsamples = 17\\nvalue = [0, 0, 0, 0, 17, 0, 0, 0]'),\n",
              " Text(207.1116788321168, 108.72, 'X[2] <= 51.5\\ngini = 0.502\\nsamples = 12763\\nvalue = [0, 0, 0, 35, 6564, 6164, 0, 0]'),\n",
              " Text(191.83795620437957, 84.56, 'X[6] <= 99.5\\ngini = 0.161\\nsamples = 3325\\nvalue = [0, 0, 0, 35, 3035, 255, 0, 0]'),\n",
              " Text(183.28467153284672, 60.400000000000006, 'X[0] <= 17277.0\\ngini = 0.571\\nsamples = 430\\nvalue = [0, 0, 0, 35, 203, 192, 0, 0]'),\n",
              " Text(178.3970802919708, 36.24000000000001, 'X[11] <= 2.5\\ngini = 0.456\\nsamples = 272\\nvalue = [0, 0, 0, 31, 49, 192, 0, 0]'),\n",
              " Text(175.95328467153286, 12.079999999999984, 'gini = 0.0\\nsamples = 31\\nvalue = [0, 0, 0, 31, 0, 0, 0, 0]'),\n",
              " Text(180.84087591240876, 12.079999999999984, 'gini = 0.324\\nsamples = 241\\nvalue = [0, 0, 0, 0, 49, 192, 0, 0]'),\n",
              " Text(188.17226277372262, 36.24000000000001, 'X[10] <= 0.5\\ngini = 0.049\\nsamples = 158\\nvalue = [0, 0, 0, 4, 154, 0, 0, 0]'),\n",
              " Text(185.72846715328467, 12.079999999999984, 'gini = 0.0\\nsamples = 4\\nvalue = [0, 0, 0, 4, 0, 0, 0, 0]'),\n",
              " Text(190.6160583941606, 12.079999999999984, 'gini = 0.0\\nsamples = 154\\nvalue = [0, 0, 0, 0, 154, 0, 0, 0]'),\n",
              " Text(200.39124087591242, 60.400000000000006, 'X[3] <= 0.047\\ngini = 0.043\\nsamples = 2895\\nvalue = [0, 0, 0, 0, 2832, 63, 0, 0]'),\n",
              " Text(197.94744525547446, 36.24000000000001, 'X[0] <= 17801.5\\ngini = 0.012\\nsamples = 2849\\nvalue = [0, 0, 0, 0, 2832, 17, 0, 0]'),\n",
              " Text(195.5036496350365, 12.079999999999984, 'gini = 0.008\\nsamples = 2843\\nvalue = [0, 0, 0, 0, 2832, 11, 0, 0]'),\n",
              " Text(200.39124087591242, 12.079999999999984, 'gini = 0.0\\nsamples = 6\\nvalue = [0, 0, 0, 0, 0, 6, 0, 0]'),\n",
              " Text(202.83503649635037, 36.24000000000001, 'gini = 0.0\\nsamples = 46\\nvalue = [0, 0, 0, 0, 0, 46, 0, 0]'),\n",
              " Text(222.38540145985402, 84.56, 'X[0] <= 13315.5\\ngini = 0.468\\nsamples = 9438\\nvalue = [0, 0, 0, 0, 3529, 5909, 0, 0]'),\n",
              " Text(212.6102189781022, 60.400000000000006, 'X[3] <= 0.0\\ngini = 0.118\\nsamples = 3330\\nvalue = [0, 0, 0, 0, 209, 3121, 0, 0]'),\n",
              " Text(207.72262773722628, 36.24000000000001, 'X[2] <= 97.5\\ngini = 0.451\\nsamples = 315\\nvalue = [0, 0, 0, 0, 207, 108, 0, 0]'),\n",
              " Text(205.27883211678832, 12.079999999999984, 'gini = 0.037\\nsamples = 211\\nvalue = [0, 0, 0, 0, 207, 4, 0, 0]'),\n",
              " Text(210.16642335766423, 12.079999999999984, 'gini = 0.0\\nsamples = 104\\nvalue = [0, 0, 0, 0, 0, 104, 0, 0]'),\n",
              " Text(217.49781021897812, 36.24000000000001, 'X[9] <= 0.0\\ngini = 0.001\\nsamples = 3015\\nvalue = [0, 0, 0, 0, 2, 3013, 0, 0]'),\n",
              " Text(215.05401459854016, 12.079999999999984, 'gini = 0.031\\nsamples = 126\\nvalue = [0, 0, 0, 0, 2, 124, 0, 0]'),\n",
              " Text(219.94160583941607, 12.079999999999984, 'gini = 0.0\\nsamples = 2889\\nvalue = [0, 0, 0, 0, 0, 2889, 0, 0]'),\n",
              " Text(232.16058394160584, 60.400000000000006, 'X[9] <= 0.0\\ngini = 0.496\\nsamples = 6108\\nvalue = [0, 0, 0, 0, 3320, 2788, 0, 0]'),\n",
              " Text(227.27299270072993, 36.24000000000001, 'X[0] <= 17930.5\\ngini = 0.304\\nsamples = 2737\\nvalue = [0, 0, 0, 0, 512, 2225, 0, 0]'),\n",
              " Text(224.82919708029198, 12.079999999999984, 'gini = 0.219\\nsamples = 2487\\nvalue = [0, 0, 0, 0, 312, 2175, 0, 0]'),\n",
              " Text(229.71678832116788, 12.079999999999984, 'gini = 0.32\\nsamples = 250\\nvalue = [0, 0, 0, 0, 200, 50, 0, 0]'),\n",
              " Text(237.04817518248177, 36.24000000000001, 'X[3] <= 0.002\\ngini = 0.278\\nsamples = 3371\\nvalue = [0, 0, 0, 0, 2808, 563, 0, 0]'),\n",
              " Text(234.6043795620438, 12.079999999999984, 'gini = 0.156\\nsamples = 3056\\nvalue = [0, 0, 0, 0, 2795, 261, 0, 0]'),\n",
              " Text(239.49197080291972, 12.079999999999984, 'gini = 0.079\\nsamples = 315\\nvalue = [0, 0, 0, 0, 13, 302, 0, 0]'),\n",
              " Text(214.44306569343067, 132.88, 'X[11] <= 2.5\\ngini = 0.006\\nsamples = 10575\\nvalue = [0, 0, 0, 30, 0, 10545, 0, 0]'),\n",
              " Text(211.99927007299272, 108.72, 'gini = 0.0\\nsamples = 30\\nvalue = [0, 0, 0, 30, 0, 0, 0, 0]'),\n",
              " Text(216.88686131386862, 108.72, 'gini = 0.0\\nsamples = 10545\\nvalue = [0, 0, 0, 0, 0, 10545, 0, 0]'),\n",
              " Text(290.42983576642337, 181.2, 'X[9] <= 1.987\\ngini = 0.032\\nsamples = 1611054\\nvalue = [5, 2, 11, 135, 568, 23711, 1999, 1584623]'),\n",
              " Text(263.1662408759124, 157.04, 'X[11] <= 2.5\\ngini = 0.106\\nsamples = 25088\\nvalue = [1, 2, 0, 127, 551, 23702, 704, 1]'),\n",
              " Text(244.37956204379563, 132.88, 'X[6] <= 51.5\\ngini = 0.264\\nsamples = 834\\nvalue = [0, 2, 0, 127, 0, 0, 704, 1]'),\n",
              " Text(241.93576642335768, 108.72, 'gini = 0.0\\nsamples = 127\\nvalue = [0, 0, 0, 127, 0, 0, 0, 0]'),\n",
              " Text(246.82335766423358, 108.72, 'X[8] <= 0.051\\ngini = 0.008\\nsamples = 707\\nvalue = [0, 2, 0, 0, 0, 0, 704, 1]'),\n",
              " Text(244.37956204379563, 84.56, 'X[5] <= 0.002\\ngini = 0.444\\nsamples = 3\\nvalue = [0, 2, 0, 0, 0, 0, 0, 1]'),\n",
              " Text(241.93576642335768, 60.400000000000006, 'gini = 0.0\\nsamples = 1\\nvalue = [0, 0, 0, 0, 0, 0, 0, 1]'),\n",
              " Text(246.82335766423358, 60.400000000000006, 'gini = 0.0\\nsamples = 2\\nvalue = [0, 2, 0, 0, 0, 0, 0, 0]'),\n",
              " Text(249.26715328467154, 84.56, 'gini = 0.0\\nsamples = 704\\nvalue = [0, 0, 0, 0, 0, 0, 704, 0]'),\n",
              " Text(281.9529197080292, 132.88, 'X[1] <= 0.0\\ngini = 0.044\\nsamples = 24254\\nvalue = [1, 0, 0, 0, 551, 23702, 0, 0]'),\n",
              " Text(261.4861313868613, 108.72, 'X[8] <= 188.6\\ngini = 0.022\\nsamples = 23863\\nvalue = [1, 0, 0, 0, 265, 23597, 0, 0]'),\n",
              " Text(254.15474452554744, 84.56, 'X[4] <= 7.5\\ngini = 0.014\\nsamples = 23734\\nvalue = [1, 0, 0, 0, 162, 23571, 0, 0]'),\n",
              " Text(251.7109489051095, 60.400000000000006, 'X[7] <= 26.566\\ngini = 0.009\\nsamples = 23681\\nvalue = [1, 0, 0, 0, 109, 23571, 0, 0]'),\n",
              " Text(246.82335766423358, 36.24000000000001, 'X[6] <= 2.5\\ngini = 0.005\\nsamples = 23471\\nvalue = [0, 0, 0, 0, 53, 23418, 0, 0]'),\n",
              " Text(244.37956204379563, 12.079999999999984, 'gini = 0.48\\nsamples = 35\\nvalue = [0, 0, 0, 0, 14, 21, 0, 0]'),\n",
              " Text(249.26715328467154, 12.079999999999984, 'gini = 0.003\\nsamples = 23436\\nvalue = [0, 0, 0, 0, 39, 23397, 0, 0]'),\n",
              " Text(256.5985401459854, 36.24000000000001, 'X[6] <= 97.5\\ngini = 0.398\\nsamples = 210\\nvalue = [1, 0, 0, 0, 56, 153, 0, 0]'),\n",
              " Text(254.15474452554744, 12.079999999999984, 'gini = 0.313\\nsamples = 58\\nvalue = [1, 0, 0, 0, 47, 10, 0, 0]'),\n",
              " Text(259.0423357664234, 12.079999999999984, 'gini = 0.111\\nsamples = 152\\nvalue = [0, 0, 0, 0, 9, 143, 0, 0]'),\n",
              " Text(256.5985401459854, 60.400000000000006, 'gini = 0.0\\nsamples = 53\\nvalue = [0, 0, 0, 0, 53, 0, 0, 0]'),\n",
              " Text(268.8175182481752, 84.56, 'X[0] <= 4156.5\\ngini = 0.322\\nsamples = 129\\nvalue = [0, 0, 0, 0, 103, 26, 0, 0]'),\n",
              " Text(263.9299270072993, 60.400000000000006, 'X[2] <= 76.5\\ngini = 0.137\\nsamples = 27\\nvalue = [0, 0, 0, 0, 2, 25, 0, 0]'),\n",
              " Text(261.4861313868613, 36.24000000000001, 'gini = 0.0\\nsamples = 24\\nvalue = [0, 0, 0, 0, 0, 24, 0, 0]'),\n",
              " Text(266.3737226277372, 36.24000000000001, 'X[5] <= 0.012\\ngini = 0.444\\nsamples = 3\\nvalue = [0, 0, 0, 0, 2, 1, 0, 0]'),\n",
              " Text(263.9299270072993, 12.079999999999984, 'gini = 0.0\\nsamples = 1\\nvalue = [0, 0, 0, 0, 0, 1, 0, 0]'),\n",
              " Text(268.8175182481752, 12.079999999999984, 'gini = 0.0\\nsamples = 2\\nvalue = [0, 0, 0, 0, 2, 0, 0, 0]'),\n",
              " Text(273.7051094890511, 60.400000000000006, 'X[0] <= 20600.5\\ngini = 0.019\\nsamples = 102\\nvalue = [0, 0, 0, 0, 101, 1, 0, 0]'),\n",
              " Text(271.2613138686132, 36.24000000000001, 'gini = 0.0\\nsamples = 101\\nvalue = [0, 0, 0, 0, 101, 0, 0, 0]'),\n",
              " Text(276.1489051094891, 36.24000000000001, 'gini = 0.0\\nsamples = 1\\nvalue = [0, 0, 0, 0, 0, 1, 0, 0]'),\n",
              " Text(302.41970802919707, 108.72, 'X[0] <= 17783.5\\ngini = 0.393\\nsamples = 391\\nvalue = [0, 0, 0, 0, 286, 105, 0, 0]'),\n",
              " Text(294.4773722627737, 84.56, 'X[7] <= 0.611\\ngini = 0.149\\nsamples = 309\\nvalue = [0, 0, 0, 0, 284, 25, 0, 0]'),\n",
              " Text(285.9240875912409, 60.400000000000006, 'X[0] <= 4180.5\\ngini = 0.03\\nsamples = 262\\nvalue = [0, 0, 0, 0, 258, 4, 0, 0]'),\n",
              " Text(281.036496350365, 36.24000000000001, 'X[0] <= 3648.0\\ngini = 0.355\\nsamples = 13\\nvalue = [0, 0, 0, 0, 10, 3, 0, 0]'),\n",
              " Text(278.592700729927, 12.079999999999984, 'gini = 0.278\\nsamples = 12\\nvalue = [0, 0, 0, 0, 10, 2, 0, 0]'),\n",
              " Text(283.4802919708029, 12.079999999999984, 'gini = 0.0\\nsamples = 1\\nvalue = [0, 0, 0, 0, 0, 1, 0, 0]'),\n",
              " Text(290.8116788321168, 36.24000000000001, 'X[7] <= 0.161\\ngini = 0.008\\nsamples = 249\\nvalue = [0, 0, 0, 0, 248, 1, 0, 0]'),\n",
              " Text(288.3678832116788, 12.079999999999984, 'gini = 0.105\\nsamples = 18\\nvalue = [0, 0, 0, 0, 17, 1, 0, 0]'),\n",
              " Text(293.2554744525548, 12.079999999999984, 'gini = 0.0\\nsamples = 231\\nvalue = [0, 0, 0, 0, 231, 0, 0, 0]'),\n",
              " Text(303.0306569343066, 60.400000000000006, 'X[2] <= 27.0\\ngini = 0.494\\nsamples = 47\\nvalue = [0, 0, 0, 0, 26, 21, 0, 0]'),\n",
              " Text(300.5868613138686, 36.24000000000001, 'X[5] <= 0.003\\ngini = 0.346\\nsamples = 27\\nvalue = [0, 0, 0, 0, 6, 21, 0, 0]'),\n",
              " Text(298.1430656934307, 12.079999999999984, 'gini = 0.0\\nsamples = 6\\nvalue = [0, 0, 0, 0, 6, 0, 0, 0]'),\n",
              " Text(303.0306569343066, 12.079999999999984, 'gini = 0.0\\nsamples = 21\\nvalue = [0, 0, 0, 0, 0, 21, 0, 0]'),\n",
              " Text(305.4744525547445, 36.24000000000001, 'gini = 0.0\\nsamples = 20\\nvalue = [0, 0, 0, 0, 20, 0, 0, 0]'),\n",
              " Text(310.3620437956204, 84.56, 'X[4] <= 7.5\\ngini = 0.048\\nsamples = 82\\nvalue = [0, 0, 0, 0, 2, 80, 0, 0]'),\n",
              " Text(307.9182481751825, 60.400000000000006, 'gini = 0.0\\nsamples = 80\\nvalue = [0, 0, 0, 0, 0, 80, 0, 0]'),\n",
              " Text(312.8058394160584, 60.400000000000006, 'gini = 0.0\\nsamples = 2\\nvalue = [0, 0, 0, 0, 2, 0, 0, 0]'),\n",
              " Text(317.6934306569343, 157.04, 'X[4] <= 5.5\\ngini = 0.002\\nsamples = 1585966\\nvalue = [4, 0, 11, 8, 17, 9, 1295, 1584622]'),\n",
              " Text(312.8058394160584, 132.88, 'X[11] <= 1.5\\ngini = 0.0\\nsamples = 1584630\\nvalue = [0, 0, 0, 8, 0, 0, 0, 1584622]'),\n",
              " Text(310.3620437956204, 108.72, 'gini = 0.0\\nsamples = 1584622\\nvalue = [0, 0, 0, 0, 0, 0, 0, 1584622]'),\n",
              " Text(315.2496350364964, 108.72, 'gini = 0.0\\nsamples = 8\\nvalue = [0, 0, 0, 8, 0, 0, 0, 0]'),\n",
              " Text(322.5810218978102, 132.88, 'X[8] <= 0.397\\ngini = 0.06\\nsamples = 1336\\nvalue = [4, 0, 11, 0, 17, 9, 1295, 0]'),\n",
              " Text(320.1372262773723, 108.72, 'gini = 0.0\\nsamples = 1295\\nvalue = [0, 0, 0, 0, 0, 0, 1295, 0]'),\n",
              " Text(325.0248175182482, 108.72, 'X[2] <= 33.0\\ngini = 0.698\\nsamples = 41\\nvalue = [4, 0, 11, 0, 17, 9, 0, 0]'),\n",
              " Text(320.1372262773723, 84.56, 'X[6] <= 58.5\\ngini = 0.62\\nsamples = 23\\nvalue = [4, 0, 11, 0, 0, 8, 0, 0]'),\n",
              " Text(317.6934306569343, 60.400000000000006, 'X[0] <= 48.5\\ngini = 0.391\\nsamples = 15\\nvalue = [4, 0, 11, 0, 0, 0, 0, 0]'),\n",
              " Text(315.2496350364964, 36.24000000000001, 'gini = 0.0\\nsamples = 4\\nvalue = [4, 0, 0, 0, 0, 0, 0, 0]'),\n",
              " Text(320.1372262773723, 36.24000000000001, 'gini = 0.0\\nsamples = 11\\nvalue = [0, 0, 11, 0, 0, 0, 0, 0]'),\n",
              " Text(322.5810218978102, 60.400000000000006, 'gini = 0.0\\nsamples = 8\\nvalue = [0, 0, 0, 0, 0, 8, 0, 0]'),\n",
              " Text(329.9124087591241, 84.56, 'X[8] <= 2.882\\ngini = 0.105\\nsamples = 18\\nvalue = [0, 0, 0, 0, 17, 1, 0, 0]'),\n",
              " Text(327.4686131386861, 60.400000000000006, 'gini = 0.0\\nsamples = 17\\nvalue = [0, 0, 0, 0, 17, 0, 0, 0]'),\n",
              " Text(332.35620437956203, 60.400000000000006, 'gini = 0.0\\nsamples = 1\\nvalue = [0, 0, 0, 0, 0, 1, 0, 0]')]"
            ]
          },
          "metadata": {
            "tags": []
          },
          "execution_count": 0
        },
        {
          "output_type": "display_data",
          "data": {
            "image/png": "[encoded data removed]",
            "text/plain": [
              "<Figure size 432x288 with 1 Axes>"
            ]
          },
          "metadata": {
            "tags": []
          }
        }
      ]
    },
    {
      "cell_type": "code",
      "metadata": {
        "colab": {
          "background_save": true
        },
        "id": "eBGT78uCTjv3",
        "outputId": "9c4808bd-e0cc-49c5-c962-0e5852621a96"
      },
      "source": [
        "#//Predt Predt_cat Predt_subcat\n",
        "#dfTEST['attack', 'category', 'subcategory']\n",
        "a=dfTEST['attack']\n",
        "b=dfTEST['category']\n",
        "c=dfTEST['subcategory']\n",
        "count=0\n",
        "for i in range(0,len(dfTEST)):\n",
        "  if(Predt[i]==a[i]) and (Predt_cat[i]==b[i]) and (Predt_subcat[i]==c[i]):\n",
        "    count=count+1\n",
        "count\n",
        "count/len(dfTEST)*100"
      ],
      "execution_count": null,
      "outputs": [
        {
          "output_type": "execute_result",
          "data": {
            "text/plain": [
              "97.20050974165366"
            ]
          },
          "metadata": {
            "tags": []
          },
          "execution_count": 0
        }
      ]
    }
  ]
}
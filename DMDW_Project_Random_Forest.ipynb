{
  "nbformat": 4,
  "nbformat_minor": 0,
  "metadata": {
    "kernelspec": {
      "display_name": "Python 3",
      "language": "python",
      "name": "python3"
    },
    "language_info": {
      "codemirror_mode": {
        "name": "ipython",
        "version": 3
      },
      "file_extension": ".py",
      "mimetype": "text/x-python",
      "name": "python",
      "nbconvert_exporter": "python",
      "pygments_lexer": "ipython3",
      "version": "3.7.3"
    },
    "colab": {
      "name": "DMDW Project Random Forest.ipynb",
      "provenance": []
    }
  },
  "cells": [
    {
      "cell_type": "code",
      "metadata": {
        "id": "Y4ypFne1cbuI"
      },
      "source": [
        "!pip install -U -q PyDrive\n",
        "from pydrive.auth import GoogleAuth\n",
        "from pydrive.drive import GoogleDrive\n",
        "from google.colab import auth\n",
        "from oauth2client.client import GoogleCredentials\n",
        "auth.authenticate_user()\n",
        "gauth = GoogleAuth()\n",
        "gauth.credentials = GoogleCredentials.get_application_default()\n",
        "drive = GoogleDrive(gauth)\n",
        "linkTrain = 'https://drive.google.com/file/d/1uV8qsVnl1XLxLlfw2tnGF3rbIU3tntHI/view?usp=sharing'\n",
        "linkIdTrain = '1uV8qsVnl1XLxLlfw2tnGF3rbIU3tntHI'\n",
        "\n",
        "linkTest = 'https://drive.google.com/file/d/1QIJWtK99SblVQK88AHqHwAVBZJcT14yW/view?usp=sharing'\n",
        "LinkIdTest = '1QIJWtK99SblVQK88AHqHwAVBZJcT14yW'"
      ],
      "execution_count": null,
      "outputs": []
    },
    {
      "cell_type": "code",
      "metadata": {
        "id": "34jJrR52Z0rp"
      },
      "source": [
        "import numpy as np\n",
        "import pandas as pd"
      ],
      "execution_count": null,
      "outputs": []
    },
    {
      "cell_type": "code",
      "metadata": {
        "id": "D30bhI_FZ0rw"
      },
      "source": [
        "downloaded = drive.CreateFile({'id':linkIdTrain}) \n",
        "downloaded.GetContentFile('Bot_IOT_Train.csv')  \n",
        "\n",
        "downloaded = drive.CreateFile({'id':LinkIdTest}) \n",
        "downloaded.GetContentFile('Bot_IOT_Test.csv')  \n",
        "\n",
        "#loading data\n",
        "train_df = pd.read_csv('Bot_IOT_Train.csv')\n",
        "test_df = pd.read_csv('Bot_IOT_Test.csv')"
      ],
      "execution_count": null,
      "outputs": []
    },
    {
      "cell_type": "code",
      "metadata": {
        "id": "n3TYUxUwZ0rx",
        "outputId": "b97dd743-9b14-406b-bd92-50c62399263c"
      },
      "source": [
        "test_df.head()"
      ],
      "execution_count": null,
      "outputs": [
        {
          "output_type": "execute_result",
          "data": {
            "text/html": [
              "<div>\n",
              "<style scoped>\n",
              "    .dataframe tbody tr th:only-of-type {\n",
              "        vertical-align: middle;\n",
              "    }\n",
              "\n",
              "    .dataframe tbody tr th {\n",
              "        vertical-align: top;\n",
              "    }\n",
              "\n",
              "    .dataframe thead th {\n",
              "        text-align: right;\n",
              "    }\n",
              "</style>\n",
              "<table border=\"1\" class=\"dataframe\">\n",
              "  <thead>\n",
              "    <tr style=\"text-align: right;\">\n",
              "      <th></th>\n",
              "      <th>pkSeqID</th>\n",
              "      <th>proto</th>\n",
              "      <th>saddr</th>\n",
              "      <th>sport</th>\n",
              "      <th>daddr</th>\n",
              "      <th>dport</th>\n",
              "      <th>seq</th>\n",
              "      <th>stddev</th>\n",
              "      <th>N_IN_Conn_P_SrcIP</th>\n",
              "      <th>min</th>\n",
              "      <th>state_number</th>\n",
              "      <th>mean</th>\n",
              "      <th>N_IN_Conn_P_DstIP</th>\n",
              "      <th>drate</th>\n",
              "      <th>srate</th>\n",
              "      <th>max</th>\n",
              "      <th>attack</th>\n",
              "      <th>category</th>\n",
              "      <th>subcategory</th>\n",
              "    </tr>\n",
              "  </thead>\n",
              "  <tbody>\n",
              "    <tr>\n",
              "      <th>0</th>\n",
              "      <td>792371</td>\n",
              "      <td>udp</td>\n",
              "      <td>192.168.100.150</td>\n",
              "      <td>48516</td>\n",
              "      <td>192.168.100.3</td>\n",
              "      <td>80</td>\n",
              "      <td>175094</td>\n",
              "      <td>0.226784</td>\n",
              "      <td>100</td>\n",
              "      <td>4.100436</td>\n",
              "      <td>4</td>\n",
              "      <td>4.457383</td>\n",
              "      <td>100</td>\n",
              "      <td>0.000000</td>\n",
              "      <td>0.404711</td>\n",
              "      <td>4.719438</td>\n",
              "      <td>1</td>\n",
              "      <td>DoS</td>\n",
              "      <td>UDP</td>\n",
              "    </tr>\n",
              "    <tr>\n",
              "      <th>1</th>\n",
              "      <td>2056418</td>\n",
              "      <td>tcp</td>\n",
              "      <td>192.168.100.148</td>\n",
              "      <td>22267</td>\n",
              "      <td>192.168.100.3</td>\n",
              "      <td>80</td>\n",
              "      <td>143024</td>\n",
              "      <td>0.451998</td>\n",
              "      <td>100</td>\n",
              "      <td>3.439257</td>\n",
              "      <td>1</td>\n",
              "      <td>3.806172</td>\n",
              "      <td>100</td>\n",
              "      <td>0.225077</td>\n",
              "      <td>0.401397</td>\n",
              "      <td>4.442930</td>\n",
              "      <td>1</td>\n",
              "      <td>DDoS</td>\n",
              "      <td>TCP</td>\n",
              "    </tr>\n",
              "    <tr>\n",
              "      <th>2</th>\n",
              "      <td>2795650</td>\n",
              "      <td>udp</td>\n",
              "      <td>192.168.100.149</td>\n",
              "      <td>28629</td>\n",
              "      <td>192.168.100.3</td>\n",
              "      <td>80</td>\n",
              "      <td>167033</td>\n",
              "      <td>1.931553</td>\n",
              "      <td>73</td>\n",
              "      <td>0.000000</td>\n",
              "      <td>4</td>\n",
              "      <td>2.731204</td>\n",
              "      <td>100</td>\n",
              "      <td>0.000000</td>\n",
              "      <td>0.407287</td>\n",
              "      <td>4.138455</td>\n",
              "      <td>1</td>\n",
              "      <td>DDoS</td>\n",
              "      <td>UDP</td>\n",
              "    </tr>\n",
              "    <tr>\n",
              "      <th>3</th>\n",
              "      <td>2118009</td>\n",
              "      <td>tcp</td>\n",
              "      <td>192.168.100.148</td>\n",
              "      <td>42142</td>\n",
              "      <td>192.168.100.3</td>\n",
              "      <td>80</td>\n",
              "      <td>204615</td>\n",
              "      <td>0.428798</td>\n",
              "      <td>56</td>\n",
              "      <td>3.271411</td>\n",
              "      <td>1</td>\n",
              "      <td>3.626428</td>\n",
              "      <td>100</td>\n",
              "      <td>0.000000</td>\n",
              "      <td>0.343654</td>\n",
              "      <td>4.229700</td>\n",
              "      <td>1</td>\n",
              "      <td>DDoS</td>\n",
              "      <td>TCP</td>\n",
              "    </tr>\n",
              "    <tr>\n",
              "      <th>4</th>\n",
              "      <td>303688</td>\n",
              "      <td>tcp</td>\n",
              "      <td>192.168.100.149</td>\n",
              "      <td>1645</td>\n",
              "      <td>192.168.100.5</td>\n",
              "      <td>80</td>\n",
              "      <td>40058</td>\n",
              "      <td>2.058381</td>\n",
              "      <td>100</td>\n",
              "      <td>0.000000</td>\n",
              "      <td>3</td>\n",
              "      <td>1.188407</td>\n",
              "      <td>100</td>\n",
              "      <td>0.000000</td>\n",
              "      <td>0.135842</td>\n",
              "      <td>4.753628</td>\n",
              "      <td>1</td>\n",
              "      <td>DoS</td>\n",
              "      <td>TCP</td>\n",
              "    </tr>\n",
              "  </tbody>\n",
              "</table>\n",
              "</div>"
            ],
            "text/plain": [
              "   pkSeqID proto            saddr  sport          daddr dport     seq  \\\n",
              "0   792371   udp  192.168.100.150  48516  192.168.100.3    80  175094   \n",
              "1  2056418   tcp  192.168.100.148  22267  192.168.100.3    80  143024   \n",
              "2  2795650   udp  192.168.100.149  28629  192.168.100.3    80  167033   \n",
              "3  2118009   tcp  192.168.100.148  42142  192.168.100.3    80  204615   \n",
              "4   303688   tcp  192.168.100.149   1645  192.168.100.5    80   40058   \n",
              "\n",
              "     stddev  N_IN_Conn_P_SrcIP       min  state_number      mean  \\\n",
              "0  0.226784                100  4.100436             4  4.457383   \n",
              "1  0.451998                100  3.439257             1  3.806172   \n",
              "2  1.931553                 73  0.000000             4  2.731204   \n",
              "3  0.428798                 56  3.271411             1  3.626428   \n",
              "4  2.058381                100  0.000000             3  1.188407   \n",
              "\n",
              "   N_IN_Conn_P_DstIP     drate     srate       max  attack category  \\\n",
              "0                100  0.000000  0.404711  4.719438       1      DoS   \n",
              "1                100  0.225077  0.401397  4.442930       1     DDoS   \n",
              "2                100  0.000000  0.407287  4.138455       1     DDoS   \n",
              "3                100  0.000000  0.343654  4.229700       1     DDoS   \n",
              "4                100  0.000000  0.135842  4.753628       1      DoS   \n",
              "\n",
              "  subcategory  \n",
              "0         UDP  \n",
              "1         TCP  \n",
              "2         UDP  \n",
              "3         TCP  \n",
              "4         TCP  "
            ]
          },
          "metadata": {
            "tags": []
          },
          "execution_count": 3
        }
      ]
    },
    {
      "cell_type": "code",
      "metadata": {
        "id": "OBCafTZiZ0ry",
        "outputId": "45d344ab-1b27-4107-bf3c-bbcece4b97c5"
      },
      "source": [
        "print(train_df.shape)\n",
        "print(test_df.shape)"
      ],
      "execution_count": null,
      "outputs": [
        {
          "output_type": "stream",
          "text": [
            "(2934817, 19)\n",
            "(733705, 19)\n"
          ],
          "name": "stdout"
        }
      ]
    },
    {
      "cell_type": "code",
      "metadata": {
        "id": "BVKBGM8XZ0ry"
      },
      "source": [
        "train_df.drop([\"pkSeqID\",\"proto\",\"saddr\", \"sport\", \"daddr\", \"dport\"], axis=1, inplace=True)\n",
        "test_df.drop([\"pkSeqID\",\"proto\",\"saddr\", \"sport\", \"daddr\", \"dport\"], axis=1, inplace=True)"
      ],
      "execution_count": null,
      "outputs": []
    },
    {
      "cell_type": "code",
      "metadata": {
        "id": "CHhqGMB6Z0rz",
        "outputId": "1e58d327-d8cb-4f2d-fcb3-2d4801b2b471"
      },
      "source": [
        "train_df.dtypes"
      ],
      "execution_count": null,
      "outputs": [
        {
          "output_type": "execute_result",
          "data": {
            "text/plain": [
              "seq                    int64\n",
              "stddev               float64\n",
              "N_IN_Conn_P_SrcIP      int64\n",
              "min                  float64\n",
              "state_number           int64\n",
              "mean                 float64\n",
              "N_IN_Conn_P_DstIP      int64\n",
              "drate                float64\n",
              "srate                float64\n",
              "max                  float64\n",
              "attack                 int64\n",
              "category              object\n",
              "subcategory           object\n",
              "dtype: object"
            ]
          },
          "metadata": {
            "tags": []
          },
          "execution_count": 6
        }
      ]
    },
    {
      "cell_type": "code",
      "metadata": {
        "id": "E-NAP4VzZ0rz",
        "outputId": "297f822e-97bd-4a7c-94d4-03fcd1d0285f"
      },
      "source": [
        "train_df.isnull().sum()"
      ],
      "execution_count": null,
      "outputs": [
        {
          "output_type": "execute_result",
          "data": {
            "text/plain": [
              "seq                  0\n",
              "stddev               0\n",
              "N_IN_Conn_P_SrcIP    0\n",
              "min                  0\n",
              "state_number         0\n",
              "mean                 0\n",
              "N_IN_Conn_P_DstIP    0\n",
              "drate                0\n",
              "srate                0\n",
              "max                  0\n",
              "attack               0\n",
              "category             0\n",
              "subcategory          0\n",
              "dtype: int64"
            ]
          },
          "metadata": {
            "tags": []
          },
          "execution_count": 7
        }
      ]
    },
    {
      "cell_type": "code",
      "metadata": {
        "id": "3u6SqqScZ0rz",
        "outputId": "7ffe689e-bd87-4c6a-b1f0-b58e24d3623d"
      },
      "source": [
        "unique_count=train_df.nunique()\n",
        "unique_count"
      ],
      "execution_count": null,
      "outputs": [
        {
          "output_type": "execute_result",
          "data": {
            "text/plain": [
              "seq                  262206\n",
              "stddev               401054\n",
              "N_IN_Conn_P_SrcIP       100\n",
              "min                  256015\n",
              "state_number             11\n",
              "mean                 479462\n",
              "N_IN_Conn_P_DstIP       100\n",
              "drate                 18952\n",
              "srate                114098\n",
              "max                  558914\n",
              "attack                    2\n",
              "category                  5\n",
              "subcategory               8\n",
              "dtype: int64"
            ]
          },
          "metadata": {
            "tags": []
          },
          "execution_count": 8
        }
      ]
    },
    {
      "cell_type": "code",
      "metadata": {
        "id": "7i1CPZ0yZ0r0"
      },
      "source": [
        "Y=train_df.loc[:,'attack']\n",
        "y=test_df.loc[:,'attack']"
      ],
      "execution_count": null,
      "outputs": []
    },
    {
      "cell_type": "code",
      "metadata": {
        "id": "0d7mQ9gqZ0r0"
      },
      "source": [
        "X=train_df.iloc[:, 0:10]\n",
        "x=test_df.iloc[:,0:10]"
      ],
      "execution_count": null,
      "outputs": []
    },
    {
      "cell_type": "code",
      "metadata": {
        "id": "lSulRb05Z0r0",
        "outputId": "64fc7669-1999-44c1-86bc-695f602ef607"
      },
      "source": [
        "print(train_df.shape)\n",
        "print(test_df.shape)"
      ],
      "execution_count": null,
      "outputs": [
        {
          "output_type": "stream",
          "text": [
            "(2934817, 13)\n",
            "(733705, 13)\n"
          ],
          "name": "stdout"
        }
      ]
    },
    {
      "cell_type": "code",
      "metadata": {
        "id": "zhyXWuLHZ0r1",
        "outputId": "53eac974-fcb2-43e8-a707-64e8e4ac8510"
      },
      "source": [
        "Y.value_counts()"
      ],
      "execution_count": null,
      "outputs": [
        {
          "output_type": "execute_result",
          "data": {
            "text/plain": [
              "1    2934447\n",
              "0        370\n",
              "Name: attack, dtype: int64"
            ]
          },
          "metadata": {
            "tags": []
          },
          "execution_count": 12
        }
      ]
    },
    {
      "cell_type": "code",
      "metadata": {
        "id": "lJTa1JEdZ0r1",
        "outputId": "a0a8f44f-5617-4a17-c17c-ae957a3c6c04"
      },
      "source": [
        "y.value_counts()"
      ],
      "execution_count": null,
      "outputs": [
        {
          "output_type": "execute_result",
          "data": {
            "text/plain": [
              "1    733598\n",
              "0       107\n",
              "Name: attack, dtype: int64"
            ]
          },
          "metadata": {
            "tags": []
          },
          "execution_count": 13
        }
      ]
    },
    {
      "cell_type": "code",
      "metadata": {
        "id": "CgZgC5k4Z0r1"
      },
      "source": [
        "from sklearn.model_selection import train_test_split as tts\n",
        "X_Train, X_Test, Y_Train, Y_Test = tts(X,Y, test_size = 0.3)"
      ],
      "execution_count": null,
      "outputs": []
    },
    {
      "cell_type": "code",
      "metadata": {
        "id": "L51r2vqnZ0r2"
      },
      "source": [
        "from sklearn.ensemble import RandomForestClassifier\n",
        "from sklearn.metrics import accuracy_score, confusion_matrix, classification_report"
      ],
      "execution_count": null,
      "outputs": []
    },
    {
      "cell_type": "code",
      "metadata": {
        "id": "woZ_X-8bZ0r2",
        "outputId": "84ed0e56-9cbd-4ce9-91da-7374409abe07"
      },
      "source": [
        "#creating and training classifier\n",
        "model = RandomForestClassifier(n_estimators=100, criterion=\"entropy\")\n",
        "model.fit(X_Train, Y_Train)"
      ],
      "execution_count": null,
      "outputs": [
        {
          "output_type": "execute_result",
          "data": {
            "text/plain": [
              "RandomForestClassifier(bootstrap=True, class_weight=None, criterion='entropy',\n",
              "                       max_depth=None, max_features='auto', max_leaf_nodes=None,\n",
              "                       min_impurity_decrease=0.0, min_impurity_split=None,\n",
              "                       min_samples_leaf=1, min_samples_split=2,\n",
              "                       min_weight_fraction_leaf=0.0, n_estimators=100,\n",
              "                       n_jobs=None, oob_score=False, random_state=None,\n",
              "                       verbose=0, warm_start=False)"
            ]
          },
          "metadata": {
            "tags": []
          },
          "execution_count": 35
        }
      ]
    },
    {
      "cell_type": "code",
      "metadata": {
        "id": "HAWE2Qu5Z0r2",
        "outputId": "6ef43687-373a-47a8-991c-37ba74ad1fd2"
      },
      "source": [
        "#predicting VALIDATION SET\n",
        "y_val = model.predict(X_Test)\n",
        "y_val"
      ],
      "execution_count": null,
      "outputs": [
        {
          "output_type": "execute_result",
          "data": {
            "text/plain": [
              "array([1, 1, 1, ..., 1, 1, 1], dtype=int64)"
            ]
          },
          "metadata": {
            "tags": []
          },
          "execution_count": 36
        }
      ]
    },
    {
      "cell_type": "code",
      "metadata": {
        "id": "tHubNXbiZ0r3",
        "outputId": "e4a99534-9b3d-47f8-cf24-b43909735e82"
      },
      "source": [
        "#model evaluation over VALIDATION\n",
        "accuracy = accuracy_score(Y_Test,y_val)*100\n",
        "accuracy"
      ],
      "execution_count": null,
      "outputs": [
        {
          "output_type": "execute_result",
          "data": {
            "text/plain": [
              "99.99897779080148"
            ]
          },
          "metadata": {
            "tags": []
          },
          "execution_count": 37
        }
      ]
    },
    {
      "cell_type": "code",
      "metadata": {
        "id": "3mzqgb8jZ0r3",
        "outputId": "f37422ef-c08f-4e3a-a1ae-500010222ceb"
      },
      "source": [
        "#confusion matrix VALIDATION\n",
        "print(\"Confusion Matrix:\")\n",
        "print(confusion_matrix(Y_Test, y_val))"
      ],
      "execution_count": null,
      "outputs": [
        {
          "output_type": "stream",
          "text": [
            "Confusion Matrix:\n",
            "[[   103      3]\n",
            " [     6 880334]]\n"
          ],
          "name": "stdout"
        }
      ]
    },
    {
      "cell_type": "code",
      "metadata": {
        "id": "-B9H2EfZZ0r3",
        "outputId": "d7b5030c-ba9e-4b63-9a40-ffb25b21fb21"
      },
      "source": [
        "print(\"Classification Report\")\n",
        "print(classification_report(Y_Test, y_val))"
      ],
      "execution_count": null,
      "outputs": [
        {
          "output_type": "stream",
          "text": [
            "Classification Report\n",
            "              precision    recall  f1-score   support\n",
            "\n",
            "           0       0.94      0.97      0.96       106\n",
            "           1       1.00      1.00      1.00    880340\n",
            "\n",
            "    accuracy                           1.00    880446\n",
            "   macro avg       0.97      0.99      0.98    880446\n",
            "weighted avg       1.00      1.00      1.00    880446\n",
            "\n"
          ],
          "name": "stdout"
        }
      ]
    },
    {
      "cell_type": "code",
      "metadata": {
        "id": "Xczjs7BQZ0r3",
        "outputId": "082f6c7e-eb92-464d-d7a4-4bc4d0cf9511"
      },
      "source": [
        "# for TEST SET\n",
        "y_pred = model.predict(x)\n",
        "y_pred"
      ],
      "execution_count": null,
      "outputs": [
        {
          "output_type": "execute_result",
          "data": {
            "text/plain": [
              "array([1, 1, 1, ..., 1, 1, 1], dtype=int64)"
            ]
          },
          "metadata": {
            "tags": []
          },
          "execution_count": 40
        }
      ]
    },
    {
      "cell_type": "code",
      "metadata": {
        "id": "aqW9GUckZ0r4",
        "outputId": "0fbb387d-d7e1-4cca-cb50-3690313c489a"
      },
      "source": [
        "#model evaluation over TEST SET\n",
        "accuracy = accuracy_score(y,y_pred)*100\n",
        "accuracy"
      ],
      "execution_count": null,
      "outputs": [
        {
          "output_type": "execute_result",
          "data": {
            "text/plain": [
              "99.99890964352159"
            ]
          },
          "metadata": {
            "tags": []
          },
          "execution_count": 41
        }
      ]
    },
    {
      "cell_type": "code",
      "metadata": {
        "id": "QDeRI2loZ0r4",
        "outputId": "24415de6-d291-46ac-a2f0-c12455d6e562"
      },
      "source": [
        "#confusion matrix\n",
        "print(\"Confusion Matrix:\")\n",
        "print(confusion_matrix(y, y_pred))"
      ],
      "execution_count": null,
      "outputs": [
        {
          "output_type": "stream",
          "text": [
            "Confusion Matrix:\n",
            "[[   101      6]\n",
            " [     2 733596]]\n"
          ],
          "name": "stdout"
        }
      ]
    },
    {
      "cell_type": "code",
      "metadata": {
        "id": "Svf7_VfsZ0r4",
        "outputId": "0dd0f9ae-b6e8-4180-9ed0-19f8ac43e6e6"
      },
      "source": [
        "print(\"Classification Report\")\n",
        "print(classification_report(y, y_pred))"
      ],
      "execution_count": null,
      "outputs": [
        {
          "output_type": "stream",
          "text": [
            "Classification Report\n",
            "              precision    recall  f1-score   support\n",
            "\n",
            "           0       0.98      0.94      0.96       107\n",
            "           1       1.00      1.00      1.00    733598\n",
            "\n",
            "    accuracy                           1.00    733705\n",
            "   macro avg       0.99      0.97      0.98    733705\n",
            "weighted avg       1.00      1.00      1.00    733705\n",
            "\n"
          ],
          "name": "stdout"
        }
      ]
    },
    {
      "cell_type": "code",
      "metadata": {
        "id": "DzPAwfP5Z0r5"
      },
      "source": [
        "#encoding category and subcategory\n",
        "#encoding \n",
        "from sklearn.preprocessing import LabelEncoder\n",
        "le = LabelEncoder()\n",
        "le1 = LabelEncoder()\n",
        "train_df['category']=le.fit_transform(train_df['category'])\n",
        "train_df['subcategory']=le1.fit_transform(train_df['subcategory'])\n",
        "\n",
        "test_df['category']=le.transform(test_df['category'])\n",
        "test_df['subcategory']=le1.transform(test_df['subcategory'])"
      ],
      "execution_count": null,
      "outputs": []
    },
    {
      "cell_type": "code",
      "metadata": {
        "id": "FmBWHyzcZ0r5"
      },
      "source": [
        "#after attack, predict type\n",
        "X_TrainCat = train_df.iloc[:, 0:11]\n",
        "Y_TrainCat = train_df.loc[:, 'category']\n",
        "\n",
        "X_TestCat = test_df.iloc[:,0:10]\n",
        "X_TestCat['attack'] = y_pred\n",
        "Y_TestCat = test_df.loc[: , 'category']\n",
        "\n",
        "Y_TestCat\n",
        "Y_TrainCat = Y_TrainCat.astype('int') "
      ],
      "execution_count": null,
      "outputs": []
    },
    {
      "cell_type": "code",
      "metadata": {
        "id": "ZikeL63FZ0r5",
        "outputId": "9a9f9ef1-9e02-4f2a-daf5-5ee724c26d53"
      },
      "source": [
        "#creating and training classifier\n",
        "model1 = RandomForestClassifier(n_estimators=100, criterion=\"entropy\", max_depth=2)\n",
        "model1.fit(X_TrainCat, Y_TrainCat)"
      ],
      "execution_count": null,
      "outputs": [
        {
          "output_type": "execute_result",
          "data": {
            "text/plain": [
              "RandomForestClassifier(bootstrap=True, class_weight=None, criterion='entropy',\n",
              "                       max_depth=2, max_features='auto', max_leaf_nodes=None,\n",
              "                       min_impurity_decrease=0.0, min_impurity_split=None,\n",
              "                       min_samples_leaf=1, min_samples_split=2,\n",
              "                       min_weight_fraction_leaf=0.0, n_estimators=100,\n",
              "                       n_jobs=None, oob_score=False, random_state=None,\n",
              "                       verbose=0, warm_start=False)"
            ]
          },
          "metadata": {
            "tags": []
          },
          "execution_count": 46
        }
      ]
    },
    {
      "cell_type": "code",
      "metadata": {
        "id": "n_w3-fkcZ0r5"
      },
      "source": [
        "#calcuating accuracy of the model on test set\n",
        "pred_cat = model1.predict(X_TestCat)"
      ],
      "execution_count": null,
      "outputs": []
    },
    {
      "cell_type": "code",
      "metadata": {
        "id": "Q05J-mPlZ0r6",
        "outputId": "30f2494b-83eb-4224-a3f9-d5f2e96c3d40"
      },
      "source": [
        "#calculate accuracy\n",
        "print(\"Accuracy Score: \")\n",
        "print (accuracy_score(Y_TestCat, pred_cat)*100)\n",
        "\n",
        "#confusion matrix\n",
        "print(\"Confusion Matrix:\")\n",
        "print(confusion_matrix(Y_TestCat, pred_cat))\n",
        "\n",
        "#classification report\n",
        "print(\"Classification Report\")\n",
        "print(classification_report(Y_TestCat, pred_cat))"
      ],
      "execution_count": null,
      "outputs": [
        {
          "output_type": "stream",
          "text": [
            "Accuracy Score: \n",
            "81.26944753000184\n",
            "Confusion Matrix:\n",
            "[[358663  26646      0      0      0]\n",
            " [ 92497 237615      0      0      0]\n",
            " [     8     99      0      0      0]\n",
            " [ 10079   8084      0      0      0]\n",
            " [     5      9      0      0      0]]\n",
            "Classification Report\n"
          ],
          "name": "stdout"
        },
        {
          "output_type": "stream",
          "text": [
            "C:\\Users\\B.K Goel\\Anaconda3\\lib\\site-packages\\sklearn\\metrics\\classification.py:1437: UndefinedMetricWarning: Precision and F-score are ill-defined and being set to 0.0 in labels with no predicted samples.\n",
            "  'precision', 'predicted', average, warn_for)\n"
          ],
          "name": "stderr"
        },
        {
          "output_type": "stream",
          "text": [
            "              precision    recall  f1-score   support\n",
            "\n",
            "           0       0.78      0.93      0.85    385309\n",
            "           1       0.87      0.72      0.79    330112\n",
            "           2       0.00      0.00      0.00       107\n",
            "           3       0.00      0.00      0.00     18163\n",
            "           4       0.00      0.00      0.00        14\n",
            "\n",
            "    accuracy                           0.81    733705\n",
            "   macro avg       0.33      0.33      0.33    733705\n",
            "weighted avg       0.80      0.81      0.80    733705\n",
            "\n"
          ],
          "name": "stdout"
        }
      ]
    },
    {
      "cell_type": "code",
      "metadata": {
        "id": "kP19OUPgZ0r6"
      },
      "source": [
        "####################Predicting subcategory of attack\n",
        "#dependent and independent variables\n",
        "X_subcat_train = train_df.iloc[:, 0:12]\n",
        "Y_subcat_train = train_df.loc[:, 'subcategory']\n",
        "\n",
        "X_subcat_test =test_df.iloc[:, 0:10]\n",
        "\n",
        "X_subcat_test['attack']= y_pred\n",
        "X_subcat_test['category']= pred_cat\n",
        "Y_subcat_test=test_df.loc[:, 'subcategory']\n"
      ],
      "execution_count": null,
      "outputs": []
    },
    {
      "cell_type": "code",
      "metadata": {
        "id": "7CCEiD0UZ0r6",
        "outputId": "5346c29c-7a41-4fa0-aeb1-9d7524541511"
      },
      "source": [
        "#classifying\n",
        "model_rf_subcat = RandomForestClassifier(n_estimators=100, criterion = \"entropy\")\n",
        "model_rf_subcat.fit(X_subcat_train, Y_subcat_train) "
      ],
      "execution_count": null,
      "outputs": [
        {
          "output_type": "execute_result",
          "data": {
            "text/plain": [
              "RandomForestClassifier(bootstrap=True, class_weight=None, criterion='entropy',\n",
              "                       max_depth=None, max_features='auto', max_leaf_nodes=None,\n",
              "                       min_impurity_decrease=0.0, min_impurity_split=None,\n",
              "                       min_samples_leaf=1, min_samples_split=2,\n",
              "                       min_weight_fraction_leaf=0.0, n_estimators=100,\n",
              "                       n_jobs=None, oob_score=False, random_state=None,\n",
              "                       verbose=0, warm_start=False)"
            ]
          },
          "metadata": {
            "tags": []
          },
          "execution_count": 50
        }
      ]
    },
    {
      "cell_type": "code",
      "metadata": {
        "id": "fCDoEHBNZ0r9",
        "outputId": "a8ee1b7a-8e3e-4388-ef80-f3091dc66b0d"
      },
      "source": [
        "#calcuating accuracy of the model on test set\n",
        "pred_subcat = model_rf_subcat.predict(X_subcat_test)\n",
        "\n",
        "#calculate accuracy\n",
        "print(\"Accuracy Score: \")\n",
        "print (accuracy_score(Y_subcat_test, pred_subcat)*100)\n",
        "\n",
        "#confusion matrix\n",
        "print(\"Confusion Matrix:\")\n",
        "print(confusion_matrix(Y_subcat_test, pred_subcat))"
      ],
      "execution_count": null,
      "outputs": [
        {
          "output_type": "stream",
          "text": [
            "Accuracy Score: \n",
            "98.1612500937025\n",
            "Confusion Matrix:\n",
            "[[   502      0      0      0      0      2      0]\n",
            " [     9      4      0      0      0      0      1]\n",
            " [    11      0     50      0      0     36     10]\n",
            " [   262      0      0    774     13   2553     19]\n",
            " [  1590      0      0      6   4016   8884     46]\n",
            " [    41      0      0      0      0 318294      2]\n",
            " [     0      0      0      0      0      6 396574]]\n"
          ],
          "name": "stdout"
        }
      ]
    },
    {
      "cell_type": "code",
      "metadata": {
        "id": "9SntVM6gZ0r-",
        "outputId": "04a32d44-5394-4b97-8f69-48e991bc0ad1"
      },
      "source": [
        "#df['attack', 'category', 'subcategory']\n",
        "a=test_df['attack']\n",
        "b=test_df['category']\n",
        "c=test_df['subcategory']\n",
        "count=0\n",
        "for i in range(0,len(test_df)):\n",
        "  if(y_pred[i]==a[i]) and (pred_cat[i]==b[i]) and (pred_subcat[i]==c[i]):\n",
        "    count=count+1\n",
        "count\n",
        "count/len(test_df)*100"
      ],
      "execution_count": null,
      "outputs": [
        {
          "output_type": "execute_result",
          "data": {
            "text/plain": [
              "81.26903864632243"
            ]
          },
          "metadata": {
            "tags": []
          },
          "execution_count": 52
        }
      ]
    }
  ]
}
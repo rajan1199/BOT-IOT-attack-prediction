{
  "nbformat": 4,
  "nbformat_minor": 0,
  "metadata": {
    "colab": {
      "name": "DMDW NaiveBayes.ipynb",
      "provenance": [],
      "collapsed_sections": []
    },
    "kernelspec": {
      "name": "python3",
      "display_name": "Python 3"
    },
    "language_info": {
      "name": "python"
    }
  },
  "cells": [
    {
      "cell_type": "code",
      "metadata": {
        "id": "i8NVr6IBK2jf"
      },
      "source": [
        "!pip install -U -q PyDrive\n",
        "from pydrive.auth import GoogleAuth\n",
        "from pydrive.drive import GoogleDrive\n",
        "from google.colab import auth\n",
        "from oauth2client.client import GoogleCredentials\n",
        "auth.authenticate_user()\n",
        "gauth = GoogleAuth()\n",
        "gauth.credentials = GoogleCredentials.get_application_default()\n",
        "drive = GoogleDrive(gauth)\n",
        "linkTrain = 'https://drive.google.com/file/d/1uV8qsVnl1XLxLlfw2tnGF3rbIU3tntHI/view?usp=sharing'\n",
        "linkIdTrain = '1uV8qsVnl1XLxLlfw2tnGF3rbIU3tntHI'\n",
        "\n",
        "linkTest = 'https://drive.google.com/file/d/1QIJWtK99SblVQK88AHqHwAVBZJcT14yW/view?usp=sharing'\n",
        "LinkIdTest = '1QIJWtK99SblVQK88AHqHwAVBZJcT14yW'"
      ],
      "execution_count": null,
      "outputs": []
    },
    {
      "cell_type": "code",
      "metadata": {
        "id": "wjBAUwXIK-o4"
      },
      "source": [
        "import pandas as pd\n",
        "import numpy as np"
      ],
      "execution_count": null,
      "outputs": []
    },
    {
      "cell_type": "code",
      "metadata": {
        "id": "JVbOCmP1LAd5"
      },
      "source": [
        "downloaded = drive.CreateFile({'id':linkIdTrain}) \n",
        "downloaded.GetContentFile('Bot_IOT_Train.csv')  \n",
        "\n",
        "downloaded = drive.CreateFile({'id':LinkIdTest}) \n",
        "downloaded.GetContentFile('Bot_IOT_Test.csv')  \n",
        "\n",
        "#loading data\n",
        "df_nb_Train = pd.read_csv('Bot_IOT_Train.csv')\n",
        "df_nb_Test = pd.read_csv('Bot_IOT_Test.csv')"
      ],
      "execution_count": null,
      "outputs": []
    },
    {
      "cell_type": "code",
      "metadata": {
        "colab": {
          "base_uri": "https://localhost:8080/"
        },
        "id": "aHrm1ZPnLLS_",
        "outputId": "75bffe07-c18f-4840-b710-0d46cbf4dcca"
      },
      "source": [
        "#Data preprocessing\n",
        "#checking for NULL Values for training\n",
        "null_columns = df_nb_Train.columns[df_nb_Train.isnull().any()]\n",
        "df_nb_Train[null_columns].isnull().sum()\n",
        "\n",
        "#for testing\n",
        "null_columns = df_nb_Test.columns[df_nb_Test.isnull().any()]\n",
        "df_nb_Test[null_columns].isnull().sum()"
      ],
      "execution_count": null,
      "outputs": [
        {
          "output_type": "execute_result",
          "data": {
            "text/plain": [
              "Series([], dtype: float64)"
            ]
          },
          "metadata": {
            "tags": []
          },
          "execution_count": 5
        }
      ]
    },
    {
      "cell_type": "code",
      "metadata": {
        "id": "DGJS6mbCLVaf"
      },
      "source": [
        "#ignoring non important attributes from dataset\n",
        "#training\n",
        "df_nb_Train=df_nb_Train.drop(['pkSeqID', 'saddr', 'sport', 'daddr', 'dport', 'proto'], axis = 1)\n",
        "\n",
        "#for testing\n",
        "df_nb_Test=df_nb_Test.drop(['pkSeqID', 'saddr', 'sport', 'daddr', 'dport', 'proto'], axis = 1)"
      ],
      "execution_count": null,
      "outputs": []
    },
    {
      "cell_type": "code",
      "metadata": {
        "id": "Epb-yvyKLZQi"
      },
      "source": [
        "# import machine learning algorithms\n",
        "from sklearn.naive_bayes import GaussianNB\n",
        "from sklearn.metrics import accuracy_score, confusion_matrix, classification_report"
      ],
      "execution_count": null,
      "outputs": []
    },
    {
      "cell_type": "code",
      "metadata": {
        "colab": {
          "base_uri": "https://localhost:8080/"
        },
        "id": "VBSMGjxbLn76",
        "outputId": "60cf6cf1-d423-4ac8-9943-4352ea55a97c"
      },
      "source": [
        "#dependent and independent variables\n",
        "X_Train = df_nb_Train.iloc[:, 0:10]\n",
        "Y_Train = df_nb_Train.loc[:, 'attack']\n",
        "\n",
        "\n",
        "X_Test = df_nb_Test.iloc[: , 0:10]\n",
        "Y_Test = df_nb_Test.loc[:,'attack']\n",
        "\n",
        "from imblearn.over_sampling import SMOTE                        # Balance imbalance data\n",
        "sm = SMOTE(random_state=2)\n",
        "X_Train, Y_Train = sm.fit_sample(X_Train, Y_Train.ravel())\n",
        "print(sum(Y_Train==0))\n",
        "print(sum(Y_Train==1))\n",
        "\n",
        "print(X_Train.shape)\n",
        "print(Y_Train.shape)\n",
        "print(X_Test.shape)\n",
        "print(Y_Test.shape)"
      ],
      "execution_count": null,
      "outputs": [
        {
          "output_type": "stream",
          "text": [
            "/usr/local/lib/python3.7/dist-packages/sklearn/utils/deprecation.py:87: FutureWarning: Function safe_indexing is deprecated; safe_indexing is deprecated in version 0.22 and will be removed in version 0.24.\n",
            "  warnings.warn(msg, category=FutureWarning)\n"
          ],
          "name": "stderr"
        },
        {
          "output_type": "stream",
          "text": [
            "2934447\n",
            "2934447\n",
            "(5868894, 10)\n",
            "(5868894,)\n",
            "(733705, 10)\n",
            "(733705,)\n"
          ],
          "name": "stdout"
        }
      ]
    },
    {
      "cell_type": "code",
      "metadata": {
        "id": "3RrEjutpLwFE"
      },
      "source": [
        "model_nb = GaussianNB()"
      ],
      "execution_count": null,
      "outputs": []
    },
    {
      "cell_type": "code",
      "metadata": {
        "colab": {
          "base_uri": "https://localhost:8080/"
        },
        "id": "l2fne0-kL_lO",
        "outputId": "d98c445b-0d00-4187-847b-99d67ffe86de"
      },
      "source": [
        "model_nb.fit(X_Train, Y_Train)"
      ],
      "execution_count": null,
      "outputs": [
        {
          "output_type": "execute_result",
          "data": {
            "text/plain": [
              "GaussianNB(priors=None, var_smoothing=1e-09)"
            ]
          },
          "metadata": {
            "tags": []
          },
          "execution_count": 25
        }
      ]
    },
    {
      "cell_type": "code",
      "metadata": {
        "id": "P2klZR1-MMHQ"
      },
      "source": [
        "#predicting\n",
        "y_pred = model_nb.predict(X_Test)"
      ],
      "execution_count": null,
      "outputs": []
    },
    {
      "cell_type": "code",
      "metadata": {
        "colab": {
          "base_uri": "https://localhost:8080/"
        },
        "id": "Ry6ZdNgGMN1v",
        "outputId": "d0bfe490-2c15-46d4-ccd3-9f96d607c3e9"
      },
      "source": [
        "#model evaluation\n",
        "accuracy = accuracy_score(Y_Test,y_pred)*100\n",
        "accuracy"
      ],
      "execution_count": null,
      "outputs": [
        {
          "output_type": "execute_result",
          "data": {
            "text/plain": [
              "99.30203555925065"
            ]
          },
          "metadata": {
            "tags": []
          },
          "execution_count": 27
        }
      ]
    },
    {
      "cell_type": "code",
      "metadata": {
        "colab": {
          "base_uri": "https://localhost:8080/"
        },
        "id": "p6iVoujRMPR3",
        "outputId": "2f22ce61-9036-4059-8b7d-452234ccd014"
      },
      "source": [
        "#confusion matrix\n",
        "print(\"Confusion Matrix:\")\n",
        "print(confusion_matrix(Y_Test, y_pred))"
      ],
      "execution_count": null,
      "outputs": [
        {
          "output_type": "stream",
          "text": [
            "Confusion Matrix:\n",
            "[[   107      0]\n",
            " [  5121 728477]]\n"
          ],
          "name": "stdout"
        }
      ]
    },
    {
      "cell_type": "code",
      "metadata": {
        "colab": {
          "base_uri": "https://localhost:8080/"
        },
        "id": "tuydZiDGMRB1",
        "outputId": "b46f22ab-e36f-4bc6-f74d-8755f0d3ac0b"
      },
      "source": [
        "print(\"Classification Report\")\n",
        "print(classification_report(Y_Test, y_pred))"
      ],
      "execution_count": null,
      "outputs": [
        {
          "output_type": "stream",
          "text": [
            "Classification Report\n",
            "              precision    recall  f1-score   support\n",
            "\n",
            "           0       0.02      1.00      0.04       107\n",
            "           1       1.00      0.99      1.00    733598\n",
            "\n",
            "    accuracy                           0.99    733705\n",
            "   macro avg       0.51      1.00      0.52    733705\n",
            "weighted avg       1.00      0.99      1.00    733705\n",
            "\n"
          ],
          "name": "stdout"
        }
      ]
    },
    {
      "cell_type": "code",
      "metadata": {
        "id": "W3memnmIMSo9"
      },
      "source": [
        "#encoding \n",
        "from sklearn.preprocessing import LabelEncoder\n",
        "le = LabelEncoder()\n",
        "le1 = LabelEncoder()\n",
        "df_nb_Train['category']=le.fit_transform(df_nb_Train['category'])\n",
        "df_nb_Train['subcategory']=le1.fit_transform(df_nb_Train['subcategory'])\n",
        "\n",
        "df_nb_Test['category']=le.transform(df_nb_Test['category'])\n",
        "df_nb_Test['subcategory']=le1.transform(df_nb_Test['subcategory'])"
      ],
      "execution_count": null,
      "outputs": []
    },
    {
      "cell_type": "code",
      "metadata": {
        "colab": {
          "base_uri": "https://localhost:8080/"
        },
        "id": "MBms7hhwMbmw",
        "outputId": "a07bc054-3401-45f9-ba71-d6bcdf501c39"
      },
      "source": [
        "#dependent and independent variables\n",
        "X_cat_train = df_nb_Train.iloc[:, 0:11]\n",
        "Y_cat_train = df_nb_Train.loc[:, 'category']\n",
        "\n",
        "X_cat_test =df_nb_Test.iloc[:, 0:10]\n",
        "X_cat_test['attack']= y_pred\n",
        "Y_cat_test=df_nb_Test.loc[:, 'category']\n",
        "\n",
        "print(X_cat_train)\n",
        "print(Y_cat_train)"
      ],
      "execution_count": null,
      "outputs": [
        {
          "output_type": "stream",
          "text": [
            "            seq    stddev  N_IN_Conn_P_SrcIP  ...     srate       max  attack\n",
            "0        251984  1.900363                100  ...  0.494549  4.031619       1\n",
            "1        256724  0.078003                 38  ...  0.256493  4.012924       1\n",
            "2         62921  0.268666                100  ...  0.294880  3.609205       1\n",
            "3         99168  1.823185                 63  ...  0.461435  4.942302       1\n",
            "4        105063  0.822418                100  ...  1.002999  4.994452       1\n",
            "...         ...       ...                ...  ...       ...       ...     ...\n",
            "2934812  253370  0.016992                100  ...  0.243473  4.124047       1\n",
            "2934813  231693  1.922317                100  ...  0.490800  4.090534       1\n",
            "2934814  158616  2.112228                100  ...  0.207444  4.332615       1\n",
            "2934815  179855  0.000000                100  ...  0.162130  0.000000       1\n",
            "2934816   95429  0.053820                100  ...  0.116388  0.172408       1\n",
            "\n",
            "[2934817 rows x 11 columns]\n",
            "0          0\n",
            "1          0\n",
            "2          0\n",
            "3          1\n",
            "4          0\n",
            "          ..\n",
            "2934812    1\n",
            "2934813    0\n",
            "2934814    1\n",
            "2934815    1\n",
            "2934816    1\n",
            "Name: category, Length: 2934817, dtype: int64\n"
          ],
          "name": "stdout"
        }
      ]
    },
    {
      "cell_type": "code",
      "metadata": {
        "colab": {
          "base_uri": "https://localhost:8080/"
        },
        "id": "dIEqX8yiMkf1",
        "outputId": "065b45b0-5156-4d44-c969-8620b59922e1"
      },
      "source": [
        "#classifier\n",
        "model_nb_cat = GaussianNB()\n",
        "model_nb_cat.fit(X_cat_train, Y_cat_train) "
      ],
      "execution_count": null,
      "outputs": [
        {
          "output_type": "execute_result",
          "data": {
            "text/plain": [
              "GaussianNB(priors=None, var_smoothing=1e-09)"
            ]
          },
          "metadata": {
            "tags": []
          },
          "execution_count": 32
        }
      ]
    },
    {
      "cell_type": "code",
      "metadata": {
        "colab": {
          "base_uri": "https://localhost:8080/"
        },
        "id": "JLWVdnjsMqhU",
        "outputId": "ee307103-d70e-4418-905c-1ac34ca2af56"
      },
      "source": [
        "#calcuating accuracy of the model on test set\n",
        "pred_cat = model_nb_cat.predict(X_cat_test)\n",
        "\n",
        "#calculate accuracy\n",
        "print(\"Accuracy Score: \")\n",
        "print (accuracy_score(Y_cat_test, pred_cat)*100)\n",
        "\n",
        "#confusion matrix\n",
        "print(\"Confusion Matrix:\")\n",
        "print(confusion_matrix(Y_cat_test, pred_cat))\n",
        "\n",
        "#classification report\n",
        "print(\"Classification Report\")\n",
        "print(classification_report(Y_cat_test, pred_cat))"
      ],
      "execution_count": null,
      "outputs": [
        {
          "output_type": "stream",
          "text": [
            "Accuracy Score: \n",
            "70.86635636938551\n",
            "Confusion Matrix:\n",
            "[[384470    839      0      0      0]\n",
            " [196635 133472      1      4      0]\n",
            " [     0     94      1      4      8]\n",
            " [ 10913   5237      5   2007      1]\n",
            " [     0     14      0      0      0]]\n",
            "Classification Report\n",
            "              precision    recall  f1-score   support\n",
            "\n",
            "           0       0.65      1.00      0.79    385309\n",
            "           1       0.96      0.40      0.57    330112\n",
            "           2       0.14      0.01      0.02       107\n",
            "           3       1.00      0.11      0.20     18163\n",
            "           4       0.00      0.00      0.00        14\n",
            "\n",
            "    accuracy                           0.71    733705\n",
            "   macro avg       0.55      0.30      0.31    733705\n",
            "weighted avg       0.80      0.71      0.67    733705\n",
            "\n"
          ],
          "name": "stdout"
        }
      ]
    },
    {
      "cell_type": "code",
      "metadata": {
        "id": "aYPQPyUSMsNm"
      },
      "source": [
        "####################Predicting subcategory of attack\n",
        "#dependent and independent variables\n",
        "X_subcat_train = df_nb_Train.iloc[:, 0:12]\n",
        "Y_subcat_train = df_nb_Train.loc[:, 'subcategory']\n",
        "\n",
        "X_subcat_test =df_nb_Test.iloc[:, 0:10]\n",
        "\n",
        "X_subcat_test['attack']= y_pred\n",
        "X_subcat_test['category']= pred_cat\n",
        "Y_subcat_test=df_nb_Test.loc[:, 'subcategory']"
      ],
      "execution_count": null,
      "outputs": []
    },
    {
      "cell_type": "code",
      "metadata": {
        "colab": {
          "base_uri": "https://localhost:8080/"
        },
        "id": "islBKXfSMwuH",
        "outputId": "be6529a8-1ec1-4797-c381-162eb669c3a3"
      },
      "source": [
        "#classifying\n",
        "model_nb_subcat = GaussianNB()\n",
        "model_nb_subcat.fit(X_subcat_train, Y_subcat_train) "
      ],
      "execution_count": null,
      "outputs": [
        {
          "output_type": "execute_result",
          "data": {
            "text/plain": [
              "GaussianNB(priors=None, var_smoothing=1e-09)"
            ]
          },
          "metadata": {
            "tags": []
          },
          "execution_count": 35
        }
      ]
    },
    {
      "cell_type": "code",
      "metadata": {
        "colab": {
          "base_uri": "https://localhost:8080/"
        },
        "id": "1TmXZgVtM319",
        "outputId": "5629ba12-c15a-4744-c7a0-3e4901b9b301"
      },
      "source": [
        "#calcuating accuracy of the model on test set\n",
        "pred_subcat = model_nb_subcat.predict(X_subcat_test)\n",
        "\n",
        "#calculate accuracy\n",
        "print(\"Accuracy Score: \")\n",
        "print (accuracy_score(Y_subcat_test, pred_subcat)*100)\n",
        "\n",
        "#confusion matrix\n",
        "print(\"Confusion Matrix:\")\n",
        "print(confusion_matrix(Y_subcat_test, pred_subcat))"
      ],
      "execution_count": null,
      "outputs": [
        {
          "output_type": "stream",
          "text": [
            "Accuracy Score: \n",
            "81.37085068249502\n",
            "Confusion Matrix:\n",
            "[[     0      0      0      0      0      0      0      0]\n",
            " [     0    242      0      0      0      0    239     23]\n",
            " [     1     13      0      0      0      0      0      0]\n",
            " [    10     11      0      1      0     38     36     11]\n",
            " [     0     32      0      2     48     93   3434     12]\n",
            " [     0    626      0      3    706   1241  10414   1552]\n",
            " [     2    354      0      0      0     67 198999 118915]\n",
            " [     4     67      0      0      0      3     15 396491]]\n"
          ],
          "name": "stdout"
        }
      ]
    },
    {
      "cell_type": "code",
      "metadata": {
        "colab": {
          "base_uri": "https://localhost:8080/"
        },
        "id": "GEi9YsshM8XJ",
        "outputId": "651d25f8-7fc3-4b19-afcb-cb79330fedac"
      },
      "source": [
        "#df['attack', 'category', 'subcategory']\n",
        "a=df_nb_Test['attack']\n",
        "b=df_nb_Test['category']\n",
        "c=df_nb_Test['subcategory']\n",
        "count=0\n",
        "for i in range(0,len(df_nb_Test)):\n",
        "  if(y_pred[i]==a[i]) and (pred_cat[i]==b[i]): #and (pred_subcat[i] == c[i]) :\n",
        "    count=count+1\n",
        "count\n",
        "count/len(df_nb_Test)*100"
      ],
      "execution_count": null,
      "outputs": [
        {
          "output_type": "execute_result",
          "data": {
            "text/plain": [
              "70.45052166742765"
            ]
          },
          "metadata": {
            "tags": []
          },
          "execution_count": 38
        }
      ]
    }
  ]
}